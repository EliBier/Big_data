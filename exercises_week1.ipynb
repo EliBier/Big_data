{
 "cells": [
  {
   "cell_type": "markdown",
   "metadata": {},
   "source": [
    "# Week 1: Coding with data in Python"
   ]
  },
  {
   "cell_type": "markdown",
   "metadata": {
    "ExecuteTime": {
     "end_time": "2017-08-23T15:30:03.634114Z",
     "start_time": "2017-08-23T15:30:03.629294Z"
    }
   },
   "source": [
    "We start out with the basics. The exercises in this session cover:\n",
    "\n",
    "* Writing Python code and Markdown in Jupyter notebooks\n",
    "* Introductory Python\n",
    "* Getting some data from Reddit"
   ]
  },
  {
   "cell_type": "markdown",
   "metadata": {},
   "source": [
    "## Exercises"
   ]
  },
  {
   "cell_type": "markdown",
   "metadata": {},
   "source": [
    "### Part 1: Know thy notebook"
   ]
  },
  {
   "cell_type": "markdown",
   "metadata": {
    "ExecuteTime": {
     "end_time": "2018-01-16T07:42:48.172973Z",
     "start_time": "2018-01-16T07:42:48.161163Z"
    }
   },
   "source": [
    "This document is what we call a *Jupyter notebook*. We will be using these extensively throughout the course so **READ THIS CLOSELY**. If you understand how notebooks work, you will save yourself lots of time and frustration throughout this course!\n",
    "\n",
    "There are two basic things you need to know about Jupyter notebooks:\n",
    "\n",
    "1. A notebook is nothing but a list of cells. A cell can either be a **code cell** or a **Markdown cell**. Code cells are for writing executable code, and Markdown cells (like this one) are for explaining things in text and making your notebook more readable. A typical workflow that you will soon get used to, is something like: solving a problem with some code in a *code cell* and explaining your reasoning or the results you obtained in a *Markdown cell*. You can toggle cell type when you are in *command mode* by pressing <kbd>y</kbd> for code and <kbd>m</kbd> for Markdown. **Try to do that**. Change this *Markdown* cell to a *code* cell, and change it back again. What happens if you execute (<kbd>shift</kbd>+<kbd>enter</kbd>) when this cell is a code cell, compared to when it is a Markdown cell?\n",
    "\n",
    "2. The notebook has two *modes*: **edit mode** and **command mode**. You enter command mode by pressing <kbd>esc</kbd> or clicking outside a cell, and edit mode by clicking a cell and pressing <kbd>enter</kbd> or double clicking a cell. When you're in edit mode, the left border of the current cell turns green (not with `jupyter lab`, though, there the bar is always blue) and whatever you type into your keyboard goes into that cell, whether it is a code or Markdown cell. [Here](http://maxmelnick.com/2016/04/19/python-beginner-tips-and-tricks.html)'s a nice rundown of the different commands you can use. **Beware of <kbd>x</kbd> and <kbd>dd</kbd>**. Read the full list of hotkeys by pressing <kbd>h</kbd> in command mode to figure out why.\n",
    "\n",
    ">*Heads up:* Because we'll be using Jupyter notebooks so much in this course, I strongly recommend investing 5 more minutes playing around with cell types, modes and hotkeys. It will save you heaps of time down the road. Above all, make sure you have read and understood these ^ two points!\n",
    "\n",
    "When you run a code cell by pressing <kbd>shift</kbd> + <kbd>enter</kbd>, the code gets evaluated by the Python interpreter installed on your computer. The interpreter always returns some output, so unless you store it in a variable, it gets printed below the cell. In general, you will use code cells for doing analysis and working with data.\n",
    "\n",
    "*Markdown* is a simple markup language for formatting text (like *HTML* or $\\LaTeX$). You will typically use it for writing explanations about how you solve the exercises and the results you get, and styling your notebook with sections and subsections. It can do **bold**, *italics* and $\\LaTeX$ formatting (for equations), and much much more. You can read about the Markdown language [here](http://daringfireball.net/projects/markdown/).\n",
    "\n",
    "Below is your first exercise. The exercise are numbered by the convention `[session]`.`[section]`.`[problem]`.`[subproblem]`. For example, exercise 4.2.3.1 is in week 4, section 2, problem 3, and subproblem 1."
   ]
  },
  {
   "cell_type": "markdown",
   "metadata": {
    "ExecuteTime": {
     "end_time": "2017-08-23T14:01:10.834257Z",
     "start_time": "2017-08-23T14:01:10.826472Z"
    }
   },
   "source": [
    ">**Ex. 1.0.1**: In the Markdown cell below, write a short text that shows that you can:\n",
    ">* Create sections\n",
    ">* Write words in bold and italics\n",
    ">* Write an equation in LateX formatting\n",
    ">* Create bullet lists\n",
    ">* Create [hyperlinks](https://en.wikipedia.org/wiki/Hyperlink)\n",
    "\n",
    ">*Hint: Remember to execute the cell (<kbd>shift</kbd>+<kbd>enter</kbd>) so the Markdown gets rendered.*"
   ]
  },
  {
   "cell_type": "markdown",
   "metadata": {},
   "source": [
    "[Answer to Ex. 1.0.1]"
   ]
  },
  {
   "cell_type": "markdown",
   "metadata": {},
   "source": [
    "### Part 2: Essential Python ([DSFS](https://www.oreilly.com/library/view/data-science-from/9781492041122/) Chapter 2)"
   ]
  },
  {
   "cell_type": "markdown",
   "metadata": {},
   "source": [
    "These exercises take you through some very basic Python. Use them to calibrate your expectations: If you find them hard, you must spend some more time getting up to speed (see the preparation goals for today's session on Canvas)."
   ]
  },
  {
   "cell_type": "markdown",
   "metadata": {},
   "source": [
    ">**Ex. 1.1.1**: Create a list `a` that contains the numbers from $0$ to $1110$ (including $0$ and $1110$), incremented by one, using the `range` function."
   ]
  },
  {
   "cell_type": "code",
   "execution_count": 5,
   "metadata": {
    "ExecuteTime": {
     "end_time": "2018-01-16T09:25:56.162842Z",
     "start_time": "2018-01-16T09:25:56.159664Z"
    },
    "run_control": {
     "frozen": false,
     "read_only": false
    }
   },
   "outputs": [],
   "source": [
    "a = []\n",
    "for i in range(0,1111):\n",
    "    a.append(i)"
   ]
  },
  {
   "cell_type": "markdown",
   "metadata": {},
   "source": [
    ">**Ex. 1.1.2**: Show that you understand [slicing](http://stackoverflow.com/questions/509211/explain-pythons-slice-notation) in Python by extracting a list `b` with the numbers from $760$ to $769$ (including both) from the list created above."
   ]
  },
  {
   "cell_type": "code",
   "execution_count": 9,
   "metadata": {
    "ExecuteTime": {
     "end_time": "2018-01-16T09:26:00.571221Z",
     "start_time": "2018-01-16T09:26:00.568028Z"
    },
    "run_control": {
     "frozen": false,
     "read_only": false
    }
   },
   "outputs": [
    {
     "data": {
      "text/plain": [
       "[760, 761, 762, 763, 764, 765, 766, 767, 768, 769]"
      ]
     },
     "execution_count": 9,
     "metadata": {},
     "output_type": "execute_result"
    }
   ],
   "source": [
    "b = a[760:770]"
   ]
  },
  {
   "cell_type": "markdown",
   "metadata": {},
   "source": [
    ">**Ex. 1.1.3**: Define a function that takes as input a number $x$ and outputs the number multiplied by itself plus three $f(x) = x(x+3)$. "
   ]
  },
  {
   "cell_type": "code",
   "execution_count": 11,
   "metadata": {
    "ExecuteTime": {
     "end_time": "2018-01-16T09:26:12.273798Z",
     "start_time": "2018-01-16T09:26:12.270647Z"
    },
    "run_control": {
     "frozen": false,
     "read_only": false
    }
   },
   "outputs": [
    {
     "data": {
      "text/plain": [
       "4"
      ]
     },
     "execution_count": 11,
     "metadata": {},
     "output_type": "execute_result"
    }
   ],
   "source": [
    "def func(x):\n",
    "    return x*(x+3)"
   ]
  },
  {
   "cell_type": "markdown",
   "metadata": {},
   "source": [
    ">**Ex. 1.1.4**: Apply this function to every element of the list `b` using a `for` loop and append the results to a new list `c`. Print `c`."
   ]
  },
  {
   "cell_type": "code",
   "execution_count": 13,
   "metadata": {
    "ExecuteTime": {
     "end_time": "2018-01-16T09:26:17.660140Z",
     "start_time": "2018-01-16T09:26:17.657057Z"
    },
    "run_control": {
     "frozen": false,
     "read_only": false
    }
   },
   "outputs": [
    {
     "name": "stdout",
     "output_type": "stream",
     "text": [
      "[579880, 581404, 582930, 584458, 585988, 587520, 589054, 590590, 592128, 593668]\n"
     ]
    }
   ],
   "source": [
    "c = []\n",
    "for i in b:\n",
    "    c.append(func(i))\n",
    "print(c)"
   ]
  },
  {
   "cell_type": "markdown",
   "metadata": {},
   "source": [
    ">**Ex. 1.1.5**: Do the exact same thing using a *list comprehension*."
   ]
  },
  {
   "cell_type": "code",
   "execution_count": 14,
   "metadata": {
    "ExecuteTime": {
     "end_time": "2018-01-16T09:26:23.929545Z",
     "start_time": "2018-01-16T09:26:23.926178Z"
    },
    "run_control": {
     "frozen": false,
     "read_only": false
    }
   },
   "outputs": [
    {
     "name": "stdout",
     "output_type": "stream",
     "text": [
      "[579880, 581404, 582930, 584458, 585988, 587520, 589054, 590590, 592128, 593668]\n"
     ]
    }
   ],
   "source": [
    "c = [func(i) for i in b]\n",
    "print(c)"
   ]
  },
  {
   "cell_type": "markdown",
   "metadata": {},
   "source": [
    ">**Ex. 1.1.6**: Write the numbers in `c` to a text file with one number per line."
   ]
  },
  {
   "cell_type": "code",
   "execution_count": 19,
   "metadata": {
    "ExecuteTime": {
     "end_time": "2018-01-16T09:26:30.137700Z",
     "start_time": "2018-01-16T09:26:30.134116Z"
    },
    "run_control": {
     "frozen": false,
     "read_only": false
    }
   },
   "outputs": [],
   "source": [
    "with open(\"numbers.txt\", \"w+\") as f:\n",
    "    for i in c:\n",
    "        f.write(str(i)+'\\n')"
   ]
  },
  {
   "cell_type": "markdown",
   "metadata": {},
   "source": [
    ">There are three ways to format strings in Python.\n",
    "> 1) The oldest is %-formatting, which has more or less gone out of style. \n",
    "> 2) The next is str.format() a more modern approach. Read more [here](https://realpython.com/python-f-strings/#option-2-strformat)\n",
    "> 3) Finally, formatting with f-strings is the newest and in most cases best method. Read more [here](https://realpython.com/python-f-strings/#f-strings-a-new-and-improved-way-to-format-strings-in-python)\n",
    "> \n",
    ">**Ex. 1.1.7**: Show that you understand how strings work in Python. You should:\n",
    ">\n",
    ">1. Add a comment above each line of code that explains it.\n",
    ">2. Find all the lines where **a string** is put into a string. How many are there?\n",
    ">3. Rewrite the last examples with owners and rabbits so that it uses f-strings instead"
   ]
  },
  {
   "cell_type": "code",
   "execution_count": 3,
   "metadata": {
    "ExecuteTime": {
     "end_time": "2019-11-06T20:13:01.146986Z",
     "start_time": "2019-11-06T20:13:01.141158Z"
    },
    "run_control": {
     "frozen": false,
     "read_only": false
    }
   },
   "outputs": [
    {
     "name": "stdout",
     "output_type": "stream",
     "text": [
      "There are 10 types of people.\n",
      "Those who know binary and those who don't.\n",
      "I said: There are 10 types of people..\n",
      "I also said: 'Those who know binary and those who don't.'.\n",
      "Isn't that joke so funny?! False\n",
      "This is the left side of...a string with a right side.\n",
      "Alice has 5 rabbits\n",
      "Bob has 10 rabbits\n",
      "Cinderella has 2 rabbits\n"
     ]
    }
   ],
   "source": [
    "# This is an example of a comment\n",
    "\n",
    "#This create some variables \n",
    "# Examples using f-strings\n",
    "x = f\"There are {10} types of people.\"\n",
    "binary = \"binary\"\n",
    "do_not = \"don't\"\n",
    "y = f\"Those who know {binary} and those who {do_not}.\"\n",
    "\n",
    "#This prints x and y f-strings which then use the values of binary and do_not\n",
    "print(x)\n",
    "print(y)\n",
    "\n",
    "\n",
    "# Examples using str.format()\n",
    "speaker = \"I\"\n",
    "#This uses str.format() to print the value of speaker followed by said: followed by x\n",
    "print(\"{} said: {}.\".format(speaker, x))\n",
    "#This uses str.format to print the value of speaker then also said: then y\n",
    "print(\"{speaker} also said: '{str_to_insert}'.\".format(speaker=speaker, str_to_insert=y))\n",
    "\n",
    "hilarious = False\n",
    "joke_evaluation = \"Isn't that joke so funny?! {joke_is_funny}\"\n",
    "\n",
    "#This prints the string \"Isn't that joke so funny?!\" followed by the value of hilarious which is false\n",
    "print(joke_evaluation.format(joke_is_funny=hilarious))\n",
    "\n",
    "w = \"This is the left side of...\"\n",
    "e = \"a string with a right side.\"\n",
    "\n",
    "#This prints the concatentation of the strings w and e\n",
    "print(w + e)\n",
    "\n",
    "owner_to_rabbit_count = {'Alice': 5, 'Bob': 10, 'Cinderella': 2}\n",
    "rabbit_stats_template = '{name} has {rabbit_count} rabbits'\n",
    "\n",
    "#This iterates through the names of owner_to_rabbit_count dictionary and for each value in the dictionary prints the number of rabbits that each owner has\n",
    "for owner_name, rabbits in owner_to_rabbit_count.items():\n",
    "    print(rabbit_stats_template.format(name=owner_name, rabbit_count=rabbits))"
   ]
  },
  {
   "cell_type": "markdown",
   "metadata": {},
   "source": [
    "5"
   ]
  },
  {
   "cell_type": "code",
   "execution_count": 5,
   "metadata": {},
   "outputs": [
    {
     "name": "stdout",
     "output_type": "stream",
     "text": [
      "Alice has 5 rabbits\n",
      "Bob has 10 rabbits\n",
      "Cinderella has 2 rabbits\n"
     ]
    }
   ],
   "source": [
    "for owner_name, rabbits in owner_to_rabbit_count.items():\n",
    "    output = f\"{owner_name} has {rabbits} rabbits\"\n",
    "    print(output)\n",
    "    "
   ]
  },
  {
   "cell_type": "markdown",
   "metadata": {},
   "source": [
    ">**Ex. 1.1.8**: Why does `5 // 2 == 2` in Python 3? What does `5 / 2` give?"
   ]
  },
  {
   "cell_type": "markdown",
   "metadata": {
    "ExecuteTime": {
     "end_time": "2018-01-16T09:26:30.137700Z",
     "start_time": "2018-01-16T09:26:30.134116Z"
    },
    "run_control": {
     "frozen": false,
     "read_only": false
    }
   },
   "source": [
    "5//2 == 2 because it is performing integer division. 5/2 performs floating point division and equals ~2.5 though floats should not be directly compared."
   ]
  },
  {
   "cell_type": "markdown",
   "metadata": {},
   "source": [
    ">**Ex. 1.1.9**: Explain the point of using `try` and `except` statements? Write some code that shows how to use these.\n",
    ">\n",
    "> *Hint: You will do a lot of Googling in this course. If you don't already know how to use `try` and `except`, start Googling now.*"
   ]
  },
  {
   "cell_type": "code",
   "execution_count": 22,
   "metadata": {
    "ExecuteTime": {
     "end_time": "2018-01-16T09:26:30.137700Z",
     "start_time": "2018-01-16T09:26:30.134116Z"
    },
    "run_control": {
     "frozen": false,
     "read_only": false
    }
   },
   "outputs": [
    {
     "name": "stdout",
     "output_type": "stream",
     "text": [
      "Exception\n"
     ]
    }
   ],
   "source": [
    "\"\"\"\n",
    "try and except statements exist to catch exceptions and allow the program to continue or do \n",
    "something else when an exception occurs\n",
    "\"\"\"\n",
    "try:\n",
    "    print(XYZ)\n",
    "except:\n",
    "    print(\"Exception\")"
   ]
  },
  {
   "cell_type": "markdown",
   "metadata": {},
   "source": [
    ">**Ex 1.1.10**: `dict`s and `defaultdict`s.\n",
    "1. What is a `defaultdict`? How would you say it is different from a normal Python `dict`?\n",
    "2. Write some code that takes a list of tuples:\n",
    ">\n",
    ">        l = [(\"a\", 1), (\"b\", 3), (\"a\", None), (\"c\", False), (\"b\", True), (\"a\", None)]\n",
    ">\n",
    ">     And produces a `defaultdict` object\n",
    ">\n",
    ">        defaultdict(<class 'list'>, {'a': [1, None, None], 'c': [False], 'b': [3, True]})\n",
    ">\n",
    ">*Hint: you can import `defaultdict` from `collections`. Your code should be a for loop that loops over the tuples in `l` and updates an initially empty defaultdict, iteration after iteration.*"
   ]
  },
  {
   "cell_type": "markdown",
   "metadata": {},
   "source": [
    "1. The difference between dict and defaultdict is that defaultdict is a subclass of the dict class that overrides the initalization method to provide a default value if the key does not yet exist which can be specified when the default dict is created.\n"
   ]
  },
  {
   "cell_type": "code",
   "execution_count": 33,
   "metadata": {},
   "outputs": [
    {
     "name": "stdout",
     "output_type": "stream",
     "text": [
      "{'a': [1, None, None], 'b': [3, True], 'c': [False]}\n"
     ]
    }
   ],
   "source": [
    "from collections import defaultdict\n",
    "l = [(\"a\", 1), (\"b\", 3), (\"a\", None), (\"c\", False), (\"b\", True), (\"a\", None)]\n",
    "my_dict={}\n",
    "for key, value in l:\n",
    "    my_dict.setdefault(key, []).append(value)\n",
    "print(my_dict)"
   ]
  },
  {
   "cell_type": "markdown",
   "metadata": {},
   "source": [
    "\n",
    ">**Ex 1.1.11**: Take a list `a = list(\"justreadtheinstructions\")` and\n",
    "1. count the number of times each element occurs using `Counter`,\n",
    "2. report the two most common elements\n",
    ">\n",
    ">*Hint: you can import `Counter` from `collections`. `Counter` has a method called `most_common` can you can use.*"
   ]
  },
  {
   "cell_type": "code",
   "execution_count": 36,
   "metadata": {
    "ExecuteTime": {
     "end_time": "2018-01-16T09:26:30.137700Z",
     "start_time": "2018-01-16T09:26:30.134116Z"
    },
    "run_control": {
     "frozen": false,
     "read_only": false
    }
   },
   "outputs": [
    {
     "name": "stdout",
     "output_type": "stream",
     "text": [
      "Counter({'t': 4, 's': 3, 'u': 2, 'r': 2, 'e': 2, 'i': 2, 'n': 2, 'j': 1, 'a': 1, 'd': 1, 'h': 1, 'c': 1, 'o': 1})\n",
      "[('t', 4), ('s', 3)]\n"
     ]
    }
   ],
   "source": [
    "from collections import Counter\n",
    "a = list(\"justreadtheinstructions\")\n",
    "print(Counter(a))\n",
    "print(Counter(a).most_common(2))"
   ]
  },
  {
   "cell_type": "markdown",
   "metadata": {},
   "source": [
    ">**Ex 1.1.12**: Take another list `b = list(\"ofcourseistillloveyou\")` and\n",
    "1. get the `set` of characters that exist in both `a` and `b` (intersection),\n",
    "2. get the `set` of characters that exist in either `a` or `b` (union), and\n",
    "3. compute the [Jaccard similarity](https://en.wikipedia.org/wiki/Jaccard_index) between the distinct elements in `a` and `b`.\n",
    ">\n",
    ">*Hint: use the `set` function to get a `set`-type object of distinct elements from a list. Sets supports a [number of different operations](https://snakify.org/en/lessons/sets/#section_4).*"
   ]
  },
  {
   "cell_type": "code",
   "execution_count": 39,
   "metadata": {
    "ExecuteTime": {
     "end_time": "2018-01-16T09:26:30.137700Z",
     "start_time": "2018-01-16T09:26:30.134116Z"
    },
    "run_control": {
     "frozen": false,
     "read_only": false
    }
   },
   "outputs": [
    {
     "name": "stdout",
     "output_type": "stream",
     "text": [
      "['u', 'c', 't', 's', 'h', 'e', 'a', 'd', 'o', 'n', 'r', 'j', 'i']\n",
      "['u', 'c', 'n', 's', 'h', 'e', 'a', 'd', 'o', 't', 'r', 'j', 'i']\n",
      "1.0\n"
     ]
    }
   ],
   "source": [
    "inter = list(set(a) & set(b))\n",
    "union = list(set(a) or set(b))\n",
    "print(inter)\n",
    "print(union)\n",
    "print(len(inter) / len(union))"
   ]
  },
  {
   "cell_type": "markdown",
   "metadata": {},
   "source": [
    "### Part 3: A little bit of real data"
   ]
  },
  {
   "cell_type": "markdown",
   "metadata": {},
   "source": [
    ">**Ex. 1.2.1**: Learn about JSON by reading the **[wikipedia page](https://en.wikipedia.org/wiki/JSON)**. Then answer the following questions in the cell below. \n",
    ">\n",
    ">1. What do the letters stand for?\n",
    ">2. What is JSON?\n",
    ">3. Why is JSON superior to XML? (... or why not?)"
   ]
  },
  {
   "cell_type": "markdown",
   "metadata": {},
   "source": [
    "1. JavaScript Object Notation\n",
    "2. JSON is a language independent way of storing data\n",
    "3. JSON and XML are both formats for storing and exchanging data but they have slightly different structures with JSON using a nested tree like structure while XML uses tags that define the different elements. This means that JSON is considered to be more human readable than XML. However, XML supports a wider array of data types than JSON which means that it can be used for applications. This does however mean that XML is more complex and more difficult to parse."
   ]
  },
  {
   "cell_type": "markdown",
   "metadata": {},
   "source": [
    ">**Ex. 1.2.2**: Working with JSON files\n",
    ">1. Use [`requests`](https://www.google.dk/search?q=python+requests+get+json&gws_rd=cr&ei=M5OdWaewD8Ti6AS54J24Bg), or another Python module, to store **[this data](https://www.reddit.com/r/gameofthrones/.json)** in a new variable `data`. You may have to pass a User-agent argument in the header of your request to avoid HTTP 429. In the requests module, this can be done by including <code>headers = {'User-agent': 'whatever-you-like'}</code> as a keyword argument in the function call.\n",
    ">2. Show that `data` is a `dict` type object."
   ]
  },
  {
   "cell_type": "code",
   "execution_count": 2,
   "metadata": {
    "ExecuteTime": {
     "end_time": "2018-01-16T09:47:12.216802Z",
     "start_time": "2018-01-16T09:47:12.213370Z"
    },
    "run_control": {
     "frozen": false,
     "read_only": false
    }
   },
   "outputs": [
    {
     "data": {
      "text/plain": [
       "dict"
      ]
     },
     "execution_count": 2,
     "metadata": {},
     "output_type": "execute_result"
    }
   ],
   "source": [
    "import requests\n",
    "headers = {'User-agent': 'test'}\n",
    "data = requests.get('https://www.reddit.com/r/gameofthrones/.json', headers = headers)\n",
    "data = data.json()\n",
    "type(data)"
   ]
  },
  {
   "cell_type": "markdown",
   "metadata": {},
   "source": [
    ">**Ex. 1.2.3**: Let's try to inspect the data you retrieved. \n",
    ">\n",
    ">1. Use the `json` module to print your data variable as a string with `indent=4`.\n",
    ">2. Print the keys of `data`.\n",
    ">\n",
    ">*Hint: 1. Use the `json` function `dumps`. 2. Call `.keys()` on the variable.*"
   ]
  },
  {
   "cell_type": "code",
   "execution_count": 3,
   "metadata": {
    "ExecuteTime": {
     "end_time": "2018-01-16T09:48:21.903660Z",
     "start_time": "2018-01-16T09:48:21.900453Z"
    },
    "run_control": {
     "frozen": false,
     "read_only": false
    }
   },
   "outputs": [
    {
     "data": {
      "text/plain": [
       "'{\\n \"kind\": \"Listing\",\\n \"data\": {\\n  \"after\": \"t3_114a6bu\",\\n  \"dist\": 25,\\n  \"modhash\": \"\",\\n  \"geo_filter\": null,\\n  \"children\": [\\n   {\\n    \"kind\": \"t3\",\\n    \"data\": {\\n     \"approved_at_utc\": null,\\n     \"subreddit\": \"gameofthrones\",\\n     \"selftext\": \"\",\\n     \"author_fullname\": \"t2_un3wjsct\",\\n     \"saved\": false,\\n     \"mod_reason_title\": null,\\n     \"gilded\": 0,\\n     \"clicked\": false,\\n     \"title\": \"Team \\\\\"I don\\'t want it\\\\\"\",\\n     \"link_flair_richtext\": [],\\n     \"subreddit_name_prefixed\": \"r/gameofthrones\",\\n     \"hidden\": false,\\n     \"pwls\": 6,\\n     \"link_flair_css_class\": null,\\n     \"downs\": 0,\\n     \"thumbnail_height\": 140,\\n     \"top_awarded_type\": null,\\n     \"hide_score\": false,\\n     \"name\": \"t3_113sqab\",\\n     \"quarantine\": false,\\n     \"link_flair_text_color\": \"dark\",\\n     \"upvote_ratio\": 0.96,\\n     \"author_flair_background_color\": \"\",\\n     \"subreddit_type\": \"public\",\\n     \"ups\": 1999,\\n     \"total_awards_received\": 0,\\n     \"media_embed\": {},\\n     \"thumbnail_width\": 140,\\n     \"author_flair_template_id\": null,\\n     \"is_original_content\": false,\\n     \"user_reports\": [],\\n     \"secure_media\": null,\\n     \"is_reddit_media_domain\": true,\\n     \"is_meta\": false,\\n     \"category\": null,\\n     \"secure_media_embed\": {},\\n     \"link_flair_text\": null,\\n     \"can_mod_post\": false,\\n     \"score\": 1999,\\n     \"approved_by\": null,\\n     \"is_created_from_ads_ui\": false,\\n     \"author_premium\": false,\\n     \"thumbnail\": \"https://b.thumbs.redditmedia.com/-xkGmiv0BWPt1utIofho8M-8ErUX_UOOzFNrTmT6TUo.jpg\",\\n     \"edited\": false,\\n     \"author_flair_css_class\": \"1\",\\n     \"author_flair_richtext\": [\\n      {\\n       \"e\": \"text\",\\n       \"t\": \"House Stark\"\\n      }\\n     ],\\n     \"gildings\": {},\\n     \"post_hint\": \"image\",\\n     \"content_categories\": null,\\n     \"is_self\": false,\\n     \"mod_note\": null,\\n     \"created\": 1676560024.0,\\n     \"link_flair_type\": \"text\",\\n     \"wls\": 6,\\n     \"removed_by_category\": null,\\n     \"banned_by\": null,\\n     \"author_flair_type\": \"richtext\",\\n     \"domain\": \"i.redd.it\",\\n     \"allow_live_comments\": false,\\n     \"selftext_html\": null,\\n     \"likes\": null,\\n     \"suggested_sort\": null,\\n     \"banned_at_utc\": null,\\n     \"url_overridden_by_dest\": \"https://i.redd.it/eufzk62qxlia1.jpg\",\\n     \"view_count\": null,\\n     \"archived\": false,\\n     \"no_follow\": false,\\n     \"is_crosspostable\": false,\\n     \"pinned\": false,\\n     \"over_18\": false,\\n     \"preview\": {\\n      \"images\": [\\n       {\\n        \"source\": {\\n         \"url\": \"https://preview.redd.it/eufzk62qxlia1.jpg?auto=webp&amp;v=enabled&amp;s=b6c2fdd179f05b49519cb5c7724aeea044c764a2\",\\n         \"width\": 2880,\\n         \"height\": 2880\\n        },\\n        \"resolutions\": [\\n         {\\n          \"url\": \"https://preview.redd.it/eufzk62qxlia1.jpg?width=108&amp;crop=smart&amp;auto=webp&amp;v=enabled&amp;s=f5e2884ee192ef386e836c6e6cb6442a0b008a27\",\\n          \"width\": 108,\\n          \"height\": 108\\n         },\\n         {\\n          \"url\": \"https://preview.redd.it/eufzk62qxlia1.jpg?width=216&amp;crop=smart&amp;auto=webp&amp;v=enabled&amp;s=ba4ce46b28ec2f3e64d0c5f1b587c2ede65fa8f0\",\\n          \"width\": 216,\\n          \"height\": 216\\n         },\\n         {\\n          \"url\": \"https://preview.redd.it/eufzk62qxlia1.jpg?width=320&amp;crop=smart&amp;auto=webp&amp;v=enabled&amp;s=833e0b3e392427a24b821c4594d7b8f38acacc88\",\\n          \"width\": 320,\\n          \"height\": 320\\n         },\\n         {\\n          \"url\": \"https://preview.redd.it/eufzk62qxlia1.jpg?width=640&amp;crop=smart&amp;auto=webp&amp;v=enabled&amp;s=b90aa48ea0f14eb82b39acc166498f5baea496c4\",\\n          \"width\": 640,\\n          \"height\": 640\\n         },\\n         {\\n          \"url\": \"https://preview.redd.it/eufzk62qxlia1.jpg?width=960&amp;crop=smart&amp;auto=webp&amp;v=enabled&amp;s=731f40bfe6320225d8161d31139acc6c9d5cd31c\",\\n          \"width\": 960,\\n          \"height\": 960\\n         },\\n         {\\n          \"url\": \"https://preview.redd.it/eufzk62qxlia1.jpg?width=1080&amp;crop=smart&amp;auto=webp&amp;v=enabled&amp;s=511ded576af7a01c9ed6914cfc039f0a7e82db43\",\\n          \"width\": 1080,\\n          \"height\": 1080\\n         }\\n        ],\\n        \"variants\": {},\\n        \"id\": \"L4aUA0u56PrPFB87iNwynhLdwJy77jEYFus0HGA8Gy0\"\\n       }\\n      ],\\n      \"enabled\": true\\n     },\\n     \"all_awardings\": [],\\n     \"awarders\": [],\\n     \"media_only\": false,\\n     \"can_gild\": false,\\n     \"spoiler\": false,\\n     \"locked\": false,\\n     \"author_flair_text\": \"House Stark\",\\n     \"treatment_tags\": [],\\n     \"visited\": false,\\n     \"removed_by\": null,\\n     \"num_reports\": null,\\n     \"distinguished\": null,\\n     \"subreddit_id\": \"t5_2rjz2\",\\n     \"author_is_blocked\": false,\\n     \"mod_reason_by\": null,\\n     \"removal_reason\": null,\\n     \"link_flair_background_color\": \"\",\\n     \"id\": \"113sqab\",\\n     \"is_robot_indexable\": true,\\n     \"report_reasons\": null,\\n     \"author\": \"Blueranger268\",\\n     \"discussion_type\": null,\\n     \"num_comments\": 76,\\n     \"send_replies\": true,\\n     \"whitelist_status\": \"all_ads\",\\n     \"contest_mode\": false,\\n     \"mod_reports\": [],\\n     \"author_patreon_flair\": false,\\n     \"author_flair_text_color\": \"dark\",\\n     \"permalink\": \"/r/gameofthrones/comments/113sqab/team_i_dont_want_it/\",\\n     \"parent_whitelist_status\": \"all_ads\",\\n     \"stickied\": false,\\n     \"url\": \"https://i.redd.it/eufzk62qxlia1.jpg\",\\n     \"subreddit_subscribers\": 3205869,\\n     \"created_utc\": 1676560024.0,\\n     \"num_crossposts\": 0,\\n     \"media\": null,\\n     \"is_video\": false\\n    }\\n   },\\n   {\\n    \"kind\": \"t3\",\\n    \"data\": {\\n     \"approved_at_utc\": null,\\n     \"subreddit\": \"gameofthrones\",\\n     \"selftext\": \"\",\\n     \"author_fullname\": \"t2_c2lokatv\",\\n     \"saved\": false,\\n     \"mod_reason_title\": null,\\n     \"gilded\": 0,\\n     \"clicked\": false,\\n     \"is_gallery\": true,\\n     \"title\": \"Ai writes new game of thrones ending since the one we got sucked\",\\n     \"link_flair_richtext\": [],\\n     \"subreddit_name_prefixed\": \"r/gameofthrones\",\\n     \"hidden\": false,\\n     \"pwls\": 6,\\n     \"link_flair_css_class\": null,\\n     \"downs\": 0,\\n     \"thumbnail_height\": 140,\\n     \"top_awarded_type\": null,\\n     \"hide_score\": false,\\n     \"media_metadata\": {\\n      \"qt2cxzx7lnia1\": {\\n       \"status\": \"valid\",\\n       \"e\": \"Image\",\\n       \"m\": \"image/jpg\",\\n       \"p\": [\\n        {\\n         \"y\": 216,\\n         \"x\": 108,\\n         \"u\": \"https://preview.redd.it/qt2cxzx7lnia1.jpg?width=108&amp;crop=smart&amp;auto=webp&amp;v=enabled&amp;s=f7f94a1ceaf12d1646b3af596d9b6657e5399826\"\\n        },\\n        {\\n         \"y\": 432,\\n         \"x\": 216,\\n         \"u\": \"https://preview.redd.it/qt2cxzx7lnia1.jpg?width=216&amp;crop=smart&amp;auto=webp&amp;v=enabled&amp;s=77d5976abbde2c9214c27c19fa11abb0aab40e3b\"\\n        },\\n        {\\n         \"y\": 640,\\n         \"x\": 320,\\n         \"u\": \"https://preview.redd.it/qt2cxzx7lnia1.jpg?width=320&amp;crop=smart&amp;auto=webp&amp;v=enabled&amp;s=cefbd482262493f9cd3de7a92936f9bff315ea40\"\\n        },\\n        {\\n         \"y\": 1280,\\n         \"x\": 640,\\n         \"u\": \"https://preview.redd.it/qt2cxzx7lnia1.jpg?width=640&amp;crop=smart&amp;auto=webp&amp;v=enabled&amp;s=891c3403d5b9035be0a25db29646d41677f0cf32\"\\n        },\\n        {\\n         \"y\": 1920,\\n         \"x\": 960,\\n         \"u\": \"https://preview.redd.it/qt2cxzx7lnia1.jpg?width=960&amp;crop=smart&amp;auto=webp&amp;v=enabled&amp;s=09f21bb81a5199782763b893a5fbd4d3a0066b1d\"\\n        },\\n        {\\n         \"y\": 2160,\\n         \"x\": 1080,\\n         \"u\": \"https://preview.redd.it/qt2cxzx7lnia1.jpg?width=1080&amp;crop=smart&amp;auto=webp&amp;v=enabled&amp;s=366e9868e6eba0d6aaf40c6dfade96529b37ebdc\"\\n        }\\n       ],\\n       \"s\": {\\n        \"y\": 2400,\\n        \"x\": 1080,\\n        \"u\": \"https://preview.redd.it/qt2cxzx7lnia1.jpg?width=1080&amp;format=pjpg&amp;auto=webp&amp;v=enabled&amp;s=ad19cb6dfd35b94d96c7a9433486d6f27d113668\"\\n       },\\n       \"id\": \"qt2cxzx7lnia1\"\\n      },\\n      \"sj24r608lnia1\": {\\n       \"status\": \"valid\",\\n       \"e\": \"Image\",\\n       \"m\": \"image/jpg\",\\n       \"p\": [\\n        {\\n         \"y\": 216,\\n         \"x\": 108,\\n         \"u\": \"https://preview.redd.it/sj24r608lnia1.jpg?width=108&amp;crop=smart&amp;auto=webp&amp;v=enabled&amp;s=842aa91896be6e98fb41c7a23af7c2e3ce8dd440\"\\n        },\\n        {\\n         \"y\": 432,\\n         \"x\": 216,\\n         \"u\": \"https://preview.redd.it/sj24r608lnia1.jpg?width=216&amp;crop=smart&amp;auto=webp&amp;v=enabled&amp;s=14491724926e3fbdf0de6de381b05ab49473f5e1\"\\n        },\\n        {\\n         \"y\": 640,\\n         \"x\": 320,\\n         \"u\": \"https://preview.redd.it/sj24r608lnia1.jpg?width=320&amp;crop=smart&amp;auto=webp&amp;v=enabled&amp;s=8ee76fee0da879b37e5acb8b7974711975cc3434\"\\n        },\\n        {\\n         \"y\": 1280,\\n         \"x\": 640,\\n         \"u\": \"https://preview.redd.it/sj24r608lnia1.jpg?width=640&amp;crop=smart&amp;auto=webp&amp;v=enabled&amp;s=dbdf4372ea80fe64f096af95f2c63d457ed77f01\"\\n        },\\n        {\\n         \"y\": 1920,\\n         \"x\": 960,\\n         \"u\": \"https://preview.redd.it/sj24r608lnia1.jpg?width=960&amp;crop=smart&amp;auto=webp&amp;v=enabled&amp;s=af1b0ab9f40e8f3cfb7d7f1d4515e7a8e93e3ce8\"\\n        },\\n        {\\n         \"y\": 2160,\\n         \"x\": 1080,\\n         \"u\": \"https://preview.redd.it/sj24r608lnia1.jpg?width=1080&amp;crop=smart&amp;auto=webp&amp;v=enabled&amp;s=42fc7e37f631f0ae46ad0fd31186e944ba001ce8\"\\n        }\\n       ],\\n       \"s\": {\\n        \"y\": 2400,\\n        \"x\": 1080,\\n        \"u\": \"https://preview.redd.it/sj24r608lnia1.jpg?width=1080&amp;format=pjpg&amp;auto=webp&amp;v=enabled&amp;s=14ed0c8307efe07ae93b323b4ec58bf910a213d3\"\\n       },\\n       \"id\": \"sj24r608lnia1\"\\n      },\\n      \"jeto24t7lnia1\": {\\n       \"status\": \"valid\",\\n       \"e\": \"Image\",\\n       \"m\": \"image/jpg\",\\n       \"p\": [\\n        {\\n         \"y\": 216,\\n         \"x\": 108,\\n         \"u\": \"https://preview.redd.it/jeto24t7lnia1.jpg?width=108&amp;crop=smart&amp;auto=webp&amp;v=enabled&amp;s=fc99e92f5dca808a65f321c83c555c17beb6c6c6\"\\n        },\\n        {\\n         \"y\": 432,\\n         \"x\": 216,\\n         \"u\": \"https://preview.redd.it/jeto24t7lnia1.jpg?width=216&amp;crop=smart&amp;auto=webp&amp;v=enabled&amp;s=86ac0f9fd8ebf2591dd121bc65efea5c005c20e7\"\\n        },\\n        {\\n         \"y\": 640,\\n         \"x\": 320,\\n         \"u\": \"https://preview.redd.it/jeto24t7lnia1.jpg?width=320&amp;crop=smart&amp;auto=webp&amp;v=enabled&amp;s=799aa6b194437b34e190c2c833cf816002d77ad5\"\\n        },\\n        {\\n         \"y\": 1280,\\n         \"x\": 640,\\n         \"u\": \"https://preview.redd.it/jeto24t7lnia1.jpg?width=640&amp;crop=smart&amp;auto=webp&amp;v=enabled&amp;s=11be4ccba08b8ec0993677f6676d43eb74d8d5b5\"\\n        },\\n        {\\n         \"y\": 1920,\\n         \"x\": 960,\\n         \"u\": \"https://preview.redd.it/jeto24t7lnia1.jpg?width=960&amp;crop=smart&amp;auto=webp&amp;v=enabled&amp;s=3ce83118b5d1081bad76191fa9d177ccbe16b9df\"\\n        },\\n        {\\n         \"y\": 2160,\\n         \"x\": 1080,\\n         \"u\": \"https://preview.redd.it/jeto24t7lnia1.jpg?width=1080&amp;crop=smart&amp;auto=webp&amp;v=enabled&amp;s=ef6293a59d8f907caf47a93084d62b36d3b519b8\"\\n        }\\n       ],\\n       \"s\": {\\n        \"y\": 2400,\\n        \"x\": 1080,\\n        \"u\": \"https://preview.redd.it/jeto24t7lnia1.jpg?width=1080&amp;format=pjpg&amp;auto=webp&amp;v=enabled&amp;s=5ade0e34c95c2f619c2b35ace4ce6784762b8105\"\\n       },\\n       \"id\": \"jeto24t7lnia1\"\\n      },\\n      \"sqjwui28lnia1\": {\\n       \"status\": \"valid\",\\n       \"e\": \"Image\",\\n       \"m\": \"image/jpg\",\\n       \"p\": [\\n        {\\n         \"y\": 216,\\n         \"x\": 108,\\n         \"u\": \"https://preview.redd.it/sqjwui28lnia1.jpg?width=108&amp;crop=smart&amp;auto=webp&amp;v=enabled&amp;s=e9afdb97b188567a8e61e69951d14f0c17824149\"\\n        },\\n        {\\n         \"y\": 432,\\n         \"x\": 216,\\n         \"u\": \"https://preview.redd.it/sqjwui28lnia1.jpg?width=216&amp;crop=smart&amp;auto=webp&amp;v=enabled&amp;s=fcef4ed1502ecbbf8cf6534075b17a0f7ed26b55\"\\n        },\\n        {\\n         \"y\": 640,\\n         \"x\": 320,\\n         \"u\": \"https://preview.redd.it/sqjwui28lnia1.jpg?width=320&amp;crop=smart&amp;auto=webp&amp;v=enabled&amp;s=7a2601644c10169049c2d1f20bd3e3e1e1316682\"\\n        },\\n        {\\n         \"y\": 1280,\\n         \"x\": 640,\\n         \"u\": \"https://preview.redd.it/sqjwui28lnia1.jpg?width=640&amp;crop=smart&amp;auto=webp&amp;v=enabled&amp;s=aeced4864317ac746e04ca15154376b5aeb1fa8f\"\\n        },\\n        {\\n         \"y\": 1920,\\n         \"x\": 960,\\n         \"u\": \"https://preview.redd.it/sqjwui28lnia1.jpg?width=960&amp;crop=smart&amp;auto=webp&amp;v=enabled&amp;s=496c0d4e241942596e40b0972a766bb294c9ee59\"\\n        },\\n        {\\n         \"y\": 2160,\\n         \"x\": 1080,\\n         \"u\": \"https://preview.redd.it/sqjwui28lnia1.jpg?width=1080&amp;crop=smart&amp;auto=webp&amp;v=enabled&amp;s=5c0b89896421e0b31aad8d834a8011e6497bb6be\"\\n        }\\n       ],\\n       \"s\": {\\n        \"y\": 2400,\\n        \"x\": 1080,\\n        \"u\": \"https://preview.redd.it/sqjwui28lnia1.jpg?width=1080&amp;format=pjpg&amp;auto=webp&amp;v=enabled&amp;s=1463d30260e81ca39d7bff68483c886b94664174\"\\n       },\\n       \"id\": \"sqjwui28lnia1\"\\n      }\\n     },\\n     \"name\": \"t3_1147bhu\",\\n     \"quarantine\": false,\\n     \"link_flair_text_color\": \"dark\",\\n     \"upvote_ratio\": 0.8,\\n     \"author_flair_background_color\": null,\\n     \"ups\": 232,\\n     \"domain\": \"reddit.com\",\\n     \"media_embed\": {},\\n     \"thumbnail_width\": 140,\\n     \"author_flair_template_id\": null,\\n     \"is_original_content\": false,\\n     \"user_reports\": [],\\n     \"secure_media\": null,\\n     \"is_reddit_media_domain\": false,\\n     \"is_meta\": false,\\n     \"category\": null,\\n     \"secure_media_embed\": {},\\n     \"gallery_data\": {\\n      \"items\": [\\n       {\\n        \"media_id\": \"jeto24t7lnia1\",\\n        \"id\": 241493473\\n       },\\n       {\\n        \"media_id\": \"qt2cxzx7lnia1\",\\n        \"id\": 241493474\\n       },\\n       {\\n        \"media_id\": \"sj24r608lnia1\",\\n        \"id\": 241493475\\n       },\\n       {\\n        \"media_id\": \"sqjwui28lnia1\",\\n        \"id\": 241493476\\n       }\\n      ]\\n     },\\n     \"link_flair_text\": null,\\n     \"can_mod_post\": false,\\n     \"score\": 232,\\n     \"approved_by\": null,\\n     \"is_created_from_ads_ui\": false,\\n     \"author_premium\": false,\\n     \"thumbnail\": \"https://b.thumbs.redditmedia.com/4BgG1cO91wUWQJtA3lzfvR7SPNd5ln3wQWIgNEvgbDA.jpg\",\\n     \"edited\": false,\\n     \"author_flair_css_class\": null,\\n     \"author_flair_richtext\": [],\\n     \"gildings\": {},\\n     \"content_categories\": null,\\n     \"is_self\": false,\\n     \"subreddit_type\": \"public\",\\n     \"created\": 1676598032.0,\\n     \"link_flair_type\": \"text\",\\n     \"wls\": 6,\\n     \"removed_by_category\": null,\\n     \"banned_by\": null,\\n     \"author_flair_type\": \"text\",\\n     \"total_awards_received\": 0,\\n     \"allow_live_comments\": true,\\n     \"selftext_html\": null,\\n     \"likes\": null,\\n     \"suggested_sort\": null,\\n     \"banned_at_utc\": null,\\n     \"url_overridden_by_dest\": \"https://www.reddit.com/gallery/1147bhu\",\\n     \"view_count\": null,\\n     \"archived\": false,\\n     \"no_follow\": false,\\n     \"is_crosspostable\": false,\\n     \"pinned\": false,\\n     \"over_18\": false,\\n     \"all_awardings\": [],\\n     \"awarders\": [],\\n     \"media_only\": false,\\n     \"can_gild\": false,\\n     \"spoiler\": false,\\n     \"locked\": false,\\n     \"author_flair_text\": null,\\n     \"treatment_tags\": [],\\n     \"visited\": false,\\n     \"removed_by\": null,\\n     \"mod_note\": null,\\n     \"distinguished\": null,\\n     \"subreddit_id\": \"t5_2rjz2\",\\n     \"author_is_blocked\": false,\\n     \"mod_reason_by\": null,\\n     \"num_reports\": null,\\n     \"removal_reason\": null,\\n     \"link_flair_background_color\": \"\",\\n     \"id\": \"1147bhu\",\\n     \"is_robot_indexable\": true,\\n     \"report_reasons\": null,\\n     \"author\": \"BingusBongus1\",\\n     \"discussion_type\": null,\\n     \"num_comments\": 94,\\n     \"send_replies\": true,\\n     \"whitelist_status\": \"all_ads\",\\n     \"contest_mode\": false,\\n     \"mod_reports\": [],\\n     \"author_patreon_flair\": false,\\n     \"author_flair_text_color\": null,\\n     \"permalink\": \"/r/gameofthrones/comments/1147bhu/ai_writes_new_game_of_thrones_ending_since_the/\",\\n     \"parent_whitelist_status\": \"all_ads\",\\n     \"stickied\": false,\\n     \"url\": \"https://www.reddit.com/gallery/1147bhu\",\\n     \"subreddit_subscribers\": 3205869,\\n     \"created_utc\": 1676598032.0,\\n     \"num_crossposts\": 0,\\n     \"media\": null,\\n     \"is_video\": false\\n    }\\n   },\\n   {\\n    \"kind\": \"t3\",\\n    \"data\": {\\n     \"approved_at_utc\": null,\\n     \"subreddit\": \"gameofthrones\",\\n     \"selftext\": \"\",\\n     \"author_fullname\": \"t2_63idrmds\",\\n     \"saved\": false,\\n     \"mod_reason_title\": null,\\n     \"gilded\": 0,\\n     \"clicked\": false,\\n     \"title\": \"Did a quick sketch of how Tyrion is supposed to look like in the books\",\\n     \"link_flair_richtext\": [],\\n     \"subreddit_name_prefixed\": \"r/gameofthrones\",\\n     \"hidden\": false,\\n     \"pwls\": 6,\\n     \"link_flair_css_class\": null,\\n     \"downs\": 0,\\n     \"thumbnail_height\": 140,\\n     \"top_awarded_type\": null,\\n     \"hide_score\": false,\\n     \"name\": \"t3_11470hb\",\\n     \"quarantine\": false,\\n     \"link_flair_text_color\": \"dark\",\\n     \"upvote_ratio\": 0.93,\\n     \"author_flair_background_color\": null,\\n     \"subreddit_type\": \"public\",\\n     \"ups\": 106,\\n     \"total_awards_received\": 0,\\n     \"media_embed\": {},\\n     \"thumbnail_width\": 140,\\n     \"author_flair_template_id\": null,\\n     \"is_original_content\": false,\\n     \"user_reports\": [],\\n     \"secure_media\": null,\\n     \"is_reddit_media_domain\": true,\\n     \"is_meta\": false,\\n     \"category\": null,\\n     \"secure_media_embed\": {},\\n     \"link_flair_text\": null,\\n     \"can_mod_post\": false,\\n     \"score\": 106,\\n     \"approved_by\": null,\\n     \"is_created_from_ads_ui\": false,\\n     \"author_premium\": false,\\n     \"thumbnail\": \"https://b.thumbs.redditmedia.com/PFWKNQhbmwFnlb4Al9P_kp0ug-x0jYAjfXF2d76jkPI.jpg\",\\n     \"edited\": false,\\n     \"author_flair_css_class\": null,\\n     \"author_flair_richtext\": [],\\n     \"gildings\": {},\\n     \"post_hint\": \"image\",\\n     \"content_categories\": null,\\n     \"is_self\": false,\\n     \"mod_note\": null,\\n     \"created\": 1676597126.0,\\n     \"link_flair_type\": \"text\",\\n     \"wls\": 6,\\n     \"removed_by_category\": null,\\n     \"banned_by\": null,\\n     \"author_flair_type\": \"text\",\\n     \"domain\": \"i.redd.it\",\\n     \"allow_live_comments\": false,\\n     \"selftext_html\": null,\\n     \"likes\": null,\\n     \"suggested_sort\": null,\\n     \"banned_at_utc\": null,\\n     \"url_overridden_by_dest\": \"https://i.redd.it/1k3mz7e10pia1.png\",\\n     \"view_count\": null,\\n     \"archived\": false,\\n     \"no_follow\": false,\\n     \"is_crosspostable\": false,\\n     \"pinned\": false,\\n     \"over_18\": false,\\n     \"preview\": {\\n      \"images\": [\\n       {\\n        \"source\": {\\n         \"url\": \"https://preview.redd.it/1k3mz7e10pia1.png?auto=webp&amp;v=enabled&amp;s=ef21f20e2148d31d81583756f5306a904bc74f40\",\\n         \"width\": 1000,\\n         \"height\": 1000\\n        },\\n        \"resolutions\": [\\n         {\\n          \"url\": \"https://preview.redd.it/1k3mz7e10pia1.png?width=108&amp;crop=smart&amp;auto=webp&amp;v=enabled&amp;s=6021b9e0de341a864eb3f36d984e459fdc68e6a1\",\\n          \"width\": 108,\\n          \"height\": 108\\n         },\\n         {\\n          \"url\": \"https://preview.redd.it/1k3mz7e10pia1.png?width=216&amp;crop=smart&amp;auto=webp&amp;v=enabled&amp;s=596058197442c05b8077f8dc984c27d82bab09e1\",\\n          \"width\": 216,\\n          \"height\": 216\\n         },\\n         {\\n          \"url\": \"https://preview.redd.it/1k3mz7e10pia1.png?width=320&amp;crop=smart&amp;auto=webp&amp;v=enabled&amp;s=68094b8fcc6c37b75c0e64d42b979676519ffeec\",\\n          \"width\": 320,\\n          \"height\": 320\\n         },\\n         {\\n          \"url\": \"https://preview.redd.it/1k3mz7e10pia1.png?width=640&amp;crop=smart&amp;auto=webp&amp;v=enabled&amp;s=6cd3b79c91cb37f7533cd651644531d23c2bf5a5\",\\n          \"width\": 640,\\n          \"height\": 640\\n         },\\n         {\\n          \"url\": \"https://preview.redd.it/1k3mz7e10pia1.png?width=960&amp;crop=smart&amp;auto=webp&amp;v=enabled&amp;s=3f8cec82f7787fd43fec6eb9ecc1c4dbdb044744\",\\n          \"width\": 960,\\n          \"height\": 960\\n         }\\n        ],\\n        \"variants\": {},\\n        \"id\": \"y_LYxt7KQwTyHfT0p6kpDwdYJAXMl5JFVaJqi_-LBRg\"\\n       }\\n      ],\\n      \"enabled\": true\\n     },\\n     \"all_awardings\": [],\\n     \"awarders\": [],\\n     \"media_only\": false,\\n     \"can_gild\": false,\\n     \"spoiler\": false,\\n     \"locked\": false,\\n     \"author_flair_text\": null,\\n     \"treatment_tags\": [],\\n     \"visited\": false,\\n     \"removed_by\": null,\\n     \"num_reports\": null,\\n     \"distinguished\": null,\\n     \"subreddit_id\": \"t5_2rjz2\",\\n     \"author_is_blocked\": false,\\n     \"mod_reason_by\": null,\\n     \"removal_reason\": null,\\n     \"link_flair_background_color\": \"\",\\n     \"id\": \"11470hb\",\\n     \"is_robot_indexable\": true,\\n     \"report_reasons\": null,\\n     \"author\": \"RED-19\",\\n     \"discussion_type\": null,\\n     \"num_comments\": 17,\\n     \"send_replies\": true,\\n     \"whitelist_status\": \"all_ads\",\\n     \"contest_mode\": false,\\n     \"mod_reports\": [],\\n     \"author_patreon_flair\": false,\\n     \"author_flair_text_color\": null,\\n     \"permalink\": \"/r/gameofthrones/comments/11470hb/did_a_quick_sketch_of_how_tyrion_is_supposed_to/\",\\n     \"parent_whitelist_status\": \"all_ads\",\\n     \"stickied\": false,\\n     \"url\": \"https://i.redd.it/1k3mz7e10pia1.png\",\\n     \"subreddit_subscribers\": 3205869,\\n     \"created_utc\": 1676597126.0,\\n     \"num_crossposts\": 0,\\n     \"media\": null,\\n     \"is_video\": false\\n    }\\n   },\\n   {\\n    \"kind\": \"t3\",\\n    \"data\": {\\n     \"approved_at_utc\": null,\\n     \"subreddit\": \"gameofthrones\",\\n     \"selftext\": \"\",\\n     \"author_fullname\": \"t2_oxw7ittf\",\\n     \"saved\": false,\\n     \"mod_reason_title\": null,\\n     \"gilded\": 0,\\n     \"clicked\": false,\\n     \"title\": \"[NO SPOILERS] Currently rewatching, so I had to paint my favourite character.\",\\n     \"link_flair_richtext\": [],\\n     \"subreddit_name_prefixed\": \"r/gameofthrones\",\\n     \"hidden\": false,\\n     \"pwls\": 6,\\n     \"link_flair_css_class\": null,\\n     \"downs\": 0,\\n     \"thumbnail_height\": 140,\\n     \"top_awarded_type\": null,\\n     \"hide_score\": true,\\n     \"name\": \"t3_114hq2q\",\\n     \"quarantine\": false,\\n     \"link_flair_text_color\": \"dark\",\\n     \"upvote_ratio\": 1.0,\\n     \"author_flair_background_color\": null,\\n     \"subreddit_type\": \"public\",\\n     \"ups\": 11,\\n     \"total_awards_received\": 0,\\n     \"media_embed\": {},\\n     \"thumbnail_width\": 140,\\n     \"author_flair_template_id\": null,\\n     \"is_original_content\": false,\\n     \"user_reports\": [],\\n     \"secure_media\": null,\\n     \"is_reddit_media_domain\": true,\\n     \"is_meta\": false,\\n     \"category\": null,\\n     \"secure_media_embed\": {},\\n     \"link_flair_text\": null,\\n     \"can_mod_post\": false,\\n     \"score\": 11,\\n     \"approved_by\": null,\\n     \"is_created_from_ads_ui\": false,\\n     \"author_premium\": false,\\n     \"thumbnail\": \"https://a.thumbs.redditmedia.com/FSPTMFeGBXNqf6cmBTtTMlGsJ4bc3HP4j829cRRCnk0.jpg\",\\n     \"edited\": false,\\n     \"author_flair_css_class\": null,\\n     \"author_flair_richtext\": [],\\n     \"gildings\": {},\\n     \"post_hint\": \"image\",\\n     \"content_categories\": null,\\n     \"is_self\": false,\\n     \"mod_note\": null,\\n     \"created\": 1676631846.0,\\n     \"link_flair_type\": \"text\",\\n     \"wls\": 6,\\n     \"removed_by_category\": null,\\n     \"banned_by\": null,\\n     \"author_flair_type\": \"text\",\\n     \"domain\": \"i.redd.it\",\\n     \"allow_live_comments\": false,\\n     \"selftext_html\": null,\\n     \"likes\": null,\\n     \"suggested_sort\": null,\\n     \"banned_at_utc\": null,\\n     \"url_overridden_by_dest\": \"https://i.redd.it/4qvjbkbrdqia1.jpg\",\\n     \"view_count\": null,\\n     \"archived\": false,\\n     \"no_follow\": false,\\n     \"is_crosspostable\": false,\\n     \"pinned\": false,\\n     \"over_18\": false,\\n     \"preview\": {\\n      \"images\": [\\n       {\\n        \"source\": {\\n         \"url\": \"https://preview.redd.it/4qvjbkbrdqia1.jpg?auto=webp&amp;v=enabled&amp;s=c7e4cc0e22ae135bcdb6282667eb35891742f37f\",\\n         \"width\": 2039,\\n         \"height\": 2824\\n        },\\n        \"resolutions\": [\\n         {\\n          \"url\": \"https://preview.redd.it/4qvjbkbrdqia1.jpg?width=108&amp;crop=smart&amp;auto=webp&amp;v=enabled&amp;s=fa314ecf2e364641b4fb2751416887767e88c985\",\\n          \"width\": 108,\\n          \"height\": 149\\n         },\\n         {\\n          \"url\": \"https://preview.redd.it/4qvjbkbrdqia1.jpg?width=216&amp;crop=smart&amp;auto=webp&amp;v=enabled&amp;s=e70bef85e7e223b3b54eccc8ffc3631a66ad90c6\",\\n          \"width\": 216,\\n          \"height\": 299\\n         },\\n         {\\n          \"url\": \"https://preview.redd.it/4qvjbkbrdqia1.jpg?width=320&amp;crop=smart&amp;auto=webp&amp;v=enabled&amp;s=87011f0f0f6ea9e659d23843b0e3cd604c35067e\",\\n          \"width\": 320,\\n          \"height\": 443\\n         },\\n         {\\n          \"url\": \"https://preview.redd.it/4qvjbkbrdqia1.jpg?width=640&amp;crop=smart&amp;auto=webp&amp;v=enabled&amp;s=97641c8bca0e483323a5ed277a5f01762cd0ac7a\",\\n          \"width\": 640,\\n          \"height\": 886\\n         },\\n         {\\n          \"url\": \"https://preview.redd.it/4qvjbkbrdqia1.jpg?width=960&amp;crop=smart&amp;auto=webp&amp;v=enabled&amp;s=31b2e4b0bbfab47266acdeba16fca8bd33ffc3d7\",\\n          \"width\": 960,\\n          \"height\": 1329\\n         },\\n         {\\n          \"url\": \"https://preview.redd.it/4qvjbkbrdqia1.jpg?width=1080&amp;crop=smart&amp;auto=webp&amp;v=enabled&amp;s=e802740f45755a2697eea44df11e9b5719227e37\",\\n          \"width\": 1080,\\n          \"height\": 1495\\n         }\\n        ],\\n        \"variants\": {},\\n        \"id\": \"AMZKCYdwB_skdIHJ-B4r20kX8dE5Q-4pDeexlniwXy4\"\\n       }\\n      ],\\n      \"enabled\": true\\n     },\\n     \"all_awardings\": [],\\n     \"awarders\": [],\\n     \"media_only\": false,\\n     \"can_gild\": false,\\n     \"spoiler\": false,\\n     \"locked\": false,\\n     \"author_flair_text\": null,\\n     \"treatment_tags\": [],\\n     \"visited\": false,\\n     \"removed_by\": null,\\n     \"num_reports\": null,\\n     \"distinguished\": null,\\n     \"subreddit_id\": \"t5_2rjz2\",\\n     \"author_is_blocked\": false,\\n     \"mod_reason_by\": null,\\n     \"removal_reason\": null,\\n     \"link_flair_background_color\": \"\",\\n     \"id\": \"114hq2q\",\\n     \"is_robot_indexable\": true,\\n     \"report_reasons\": null,\\n     \"author\": \"Sad_Improvement6049\",\\n     \"discussion_type\": null,\\n     \"num_comments\": 3,\\n     \"send_replies\": true,\\n     \"whitelist_status\": \"all_ads\",\\n     \"contest_mode\": false,\\n     \"mod_reports\": [],\\n     \"author_patreon_flair\": false,\\n     \"author_flair_text_color\": null,\\n     \"permalink\": \"/r/gameofthrones/comments/114hq2q/no_spoilers_currently_rewatching_so_i_had_to/\",\\n     \"parent_whitelist_status\": \"all_ads\",\\n     \"stickied\": false,\\n     \"url\": \"https://i.redd.it/4qvjbkbrdqia1.jpg\",\\n     \"subreddit_subscribers\": 3205869,\\n     \"created_utc\": 1676631846.0,\\n     \"num_crossposts\": 0,\\n     \"media\": null,\\n     \"is_video\": false\\n    }\\n   },\\n   {\\n    \"kind\": \"t3\",\\n    \"data\": {\\n     \"approved_at_utc\": null,\\n     \"subreddit\": \"gameofthrones\",\\n     \"selftext\": \"\",\\n     \"author_fullname\": \"t2_dlslj26y\",\\n     \"saved\": false,\\n     \"mod_reason_title\": null,\\n     \"gilded\": 0,\\n     \"clicked\": false,\\n     \"title\": \"Anyone else appalled by the way the show depicted highgarden?\",\\n     \"link_flair_richtext\": [],\\n     \"subreddit_name_prefixed\": \"r/gameofthrones\",\\n     \"hidden\": false,\\n     \"pwls\": 6,\\n     \"link_flair_css_class\": null,\\n     \"downs\": 0,\\n     \"thumbnail_height\": 70,\\n     \"top_awarded_type\": null,\\n     \"hide_score\": false,\\n     \"name\": \"t3_114dom6\",\\n     \"quarantine\": false,\\n     \"link_flair_text_color\": \"dark\",\\n     \"upvote_ratio\": 0.67,\\n     \"author_flair_background_color\": null,\\n     \"subreddit_type\": \"public\",\\n     \"ups\": 23,\\n     \"total_awards_received\": 0,\\n     \"media_embed\": {},\\n     \"thumbnail_width\": 140,\\n     \"author_flair_template_id\": null,\\n     \"is_original_content\": false,\\n     \"user_reports\": [],\\n     \"secure_media\": null,\\n     \"is_reddit_media_domain\": true,\\n     \"is_meta\": false,\\n     \"category\": null,\\n     \"secure_media_embed\": {},\\n     \"link_flair_text\": null,\\n     \"can_mod_post\": false,\\n     \"score\": 23,\\n     \"approved_by\": null,\\n     \"is_created_from_ads_ui\": false,\\n     \"author_premium\": false,\\n     \"thumbnail\": \"spoiler\",\\n     \"edited\": false,\\n     \"author_flair_css_class\": null,\\n     \"author_flair_richtext\": [],\\n     \"gildings\": {},\\n     \"post_hint\": \"image\",\\n     \"content_categories\": null,\\n     \"is_self\": false,\\n     \"mod_note\": null,\\n     \"created\": 1676619253.0,\\n     \"link_flair_type\": \"text\",\\n     \"wls\": 6,\\n     \"removed_by_category\": null,\\n     \"banned_by\": null,\\n     \"author_flair_type\": \"text\",\\n     \"domain\": \"i.redd.it\",\\n     \"allow_live_comments\": false,\\n     \"selftext_html\": null,\\n     \"likes\": null,\\n     \"suggested_sort\": null,\\n     \"banned_at_utc\": null,\\n     \"url_overridden_by_dest\": \"https://i.redd.it/fjec6rgutqia1.jpg\",\\n     \"view_count\": null,\\n     \"archived\": false,\\n     \"no_follow\": false,\\n     \"is_crosspostable\": false,\\n     \"pinned\": false,\\n     \"over_18\": false,\\n     \"preview\": {\\n      \"images\": [\\n       {\\n        \"source\": {\\n         \"url\": \"https://preview.redd.it/fjec6rgutqia1.jpg?auto=webp&amp;v=enabled&amp;s=b1abdd665f03990d452c11cddc43aa74e8966660\",\\n         \"width\": 1200,\\n         \"height\": 600\\n        },\\n        \"resolutions\": [\\n         {\\n          \"url\": \"https://preview.redd.it/fjec6rgutqia1.jpg?width=108&amp;crop=smart&amp;auto=webp&amp;v=enabled&amp;s=67d77658b037e88d4a578e2a044de9786c58a6ba\",\\n          \"width\": 108,\\n          \"height\": 54\\n         },\\n         {\\n          \"url\": \"https://preview.redd.it/fjec6rgutqia1.jpg?width=216&amp;crop=smart&amp;auto=webp&amp;v=enabled&amp;s=b3b34d79df16a94b4e1891d9bf60f561622e1fba\",\\n          \"width\": 216,\\n          \"height\": 108\\n         },\\n         {\\n          \"url\": \"https://preview.redd.it/fjec6rgutqia1.jpg?width=320&amp;crop=smart&amp;auto=webp&amp;v=enabled&amp;s=05cd2fdbd8d844ed95c0ffe9713827730952e061\",\\n          \"width\": 320,\\n          \"height\": 160\\n         },\\n         {\\n          \"url\": \"https://preview.redd.it/fjec6rgutqia1.jpg?width=640&amp;crop=smart&amp;auto=webp&amp;v=enabled&amp;s=b897fc9891541d2850c6788b5c298c92bb184898\",\\n          \"width\": 640,\\n          \"height\": 320\\n         },\\n         {\\n          \"url\": \"https://preview.redd.it/fjec6rgutqia1.jpg?width=960&amp;crop=smart&amp;auto=webp&amp;v=enabled&amp;s=6ed728422baf7fe57a3ca68714739f04f7dac161\",\\n          \"width\": 960,\\n          \"height\": 480\\n         },\\n         {\\n          \"url\": \"https://preview.redd.it/fjec6rgutqia1.jpg?width=1080&amp;crop=smart&amp;auto=webp&amp;v=enabled&amp;s=b1256327b83239916a80fcfc1017771372d0d9dc\",\\n          \"width\": 1080,\\n          \"height\": 540\\n         }\\n        ],\\n        \"variants\": {\\n         \"obfuscated\": {\\n          \"source\": {\\n           \"url\": \"https://preview.redd.it/fjec6rgutqia1.jpg?blur=40&amp;format=pjpg&amp;auto=webp&amp;v=enabled&amp;s=822a09a078e0432b9932ffeabbc8d56698396955\",\\n           \"width\": 1200,\\n           \"height\": 600\\n          },\\n          \"resolutions\": [\\n           {\\n            \"url\": \"https://preview.redd.it/fjec6rgutqia1.jpg?width=108&amp;crop=smart&amp;blur=10&amp;format=pjpg&amp;auto=webp&amp;v=enabled&amp;s=f5aa1312438c5d412e713f4453085dc974e836cd\",\\n            \"width\": 108,\\n            \"height\": 54\\n           },\\n           {\\n            \"url\": \"https://preview.redd.it/fjec6rgutqia1.jpg?width=216&amp;crop=smart&amp;blur=21&amp;format=pjpg&amp;auto=webp&amp;v=enabled&amp;s=a3b6b717adc3a866da666359d9afcff1241e46d9\",\\n            \"width\": 216,\\n            \"height\": 108\\n           },\\n           {\\n            \"url\": \"https://preview.redd.it/fjec6rgutqia1.jpg?width=320&amp;crop=smart&amp;blur=32&amp;format=pjpg&amp;auto=webp&amp;v=enabled&amp;s=614c9a74881e261704770e093f57aa917f75fda5\",\\n            \"width\": 320,\\n            \"height\": 160\\n           },\\n           {\\n            \"url\": \"https://preview.redd.it/fjec6rgutqia1.jpg?width=640&amp;crop=smart&amp;blur=40&amp;format=pjpg&amp;auto=webp&amp;v=enabled&amp;s=f0dab32e0bb997ee26dcd7c95ae4ec7de2d1dad5\",\\n            \"width\": 640,\\n            \"height\": 320\\n           },\\n           {\\n            \"url\": \"https://preview.redd.it/fjec6rgutqia1.jpg?width=960&amp;crop=smart&amp;blur=40&amp;format=pjpg&amp;auto=webp&amp;v=enabled&amp;s=66cde5509a0af31e40ebd0fac8324ed895fa887b\",\\n            \"width\": 960,\\n            \"height\": 480\\n           },\\n           {\\n            \"url\": \"https://preview.redd.it/fjec6rgutqia1.jpg?width=1080&amp;crop=smart&amp;blur=40&amp;format=pjpg&amp;auto=webp&amp;v=enabled&amp;s=a7bfa29549b5512788800ab0fcd046310933bb9d\",\\n            \"width\": 1080,\\n            \"height\": 540\\n           }\\n          ]\\n         }\\n        },\\n        \"id\": \"LJaMO1Q56FZPhQNJPZxTB_aC68_LEpPA9tU13PmExi4\"\\n       }\\n      ],\\n      \"enabled\": true\\n     },\\n     \"all_awardings\": [],\\n     \"awarders\": [],\\n     \"media_only\": false,\\n     \"can_gild\": false,\\n     \"spoiler\": true,\\n     \"locked\": false,\\n     \"author_flair_text\": null,\\n     \"treatment_tags\": [],\\n     \"visited\": false,\\n     \"removed_by\": null,\\n     \"num_reports\": null,\\n     \"distinguished\": null,\\n     \"subreddit_id\": \"t5_2rjz2\",\\n     \"author_is_blocked\": false,\\n     \"mod_reason_by\": null,\\n     \"removal_reason\": null,\\n     \"link_flair_background_color\": \"\",\\n     \"id\": \"114dom6\",\\n     \"is_robot_indexable\": true,\\n     \"report_reasons\": null,\\n     \"author\": \"batsghostdog\",\\n     \"discussion_type\": null,\\n     \"num_comments\": 19,\\n     \"send_replies\": true,\\n     \"whitelist_status\": \"all_ads\",\\n     \"contest_mode\": false,\\n     \"mod_reports\": [],\\n     \"author_patreon_flair\": false,\\n     \"author_flair_text_color\": null,\\n     \"permalink\": \"/r/gameofthrones/comments/114dom6/anyone_else_appalled_by_the_way_the_show_depicted/\",\\n     \"parent_whitelist_status\": \"all_ads\",\\n     \"stickied\": false,\\n     \"url\": \"https://i.redd.it/fjec6rgutqia1.jpg\",\\n     \"subreddit_subscribers\": 3205869,\\n     \"created_utc\": 1676619253.0,\\n     \"num_crossposts\": 0,\\n     \"media\": null,\\n     \"is_video\": false\\n    }\\n   },\\n   {\\n    \"kind\": \"t3\",\\n    \"data\": {\\n     \"approved_at_utc\": null,\\n     \"subreddit\": \"gameofthrones\",\\n     \"selftext\": \"\",\\n     \"author_fullname\": \"t2_jyq5td8a\",\\n     \"saved\": false,\\n     \"mod_reason_title\": null,\\n     \"gilded\": 0,\\n     \"clicked\": false,\\n     \"title\": \"I found the best wallpaper\",\\n     \"link_flair_richtext\": [],\\n     \"subreddit_name_prefixed\": \"r/gameofthrones\",\\n     \"hidden\": false,\\n     \"pwls\": 6,\\n     \"link_flair_css_class\": null,\\n     \"downs\": 0,\\n     \"thumbnail_height\": 140,\\n     \"top_awarded_type\": null,\\n     \"hide_score\": false,\\n     \"name\": \"t3_113xw8g\",\\n     \"quarantine\": false,\\n     \"link_flair_text_color\": \"dark\",\\n     \"upvote_ratio\": 0.96,\\n     \"author_flair_background_color\": \"transparent\",\\n     \"subreddit_type\": \"public\",\\n     \"ups\": 175,\\n     \"total_awards_received\": 0,\\n     \"media_embed\": {},\\n     \"thumbnail_width\": 140,\\n     \"author_flair_template_id\": \"05744444-0978-11e9-bccc-0ee57aba8300\",\\n     \"is_original_content\": false,\\n     \"user_reports\": [],\\n     \"secure_media\": null,\\n     \"is_reddit_media_domain\": true,\\n     \"is_meta\": false,\\n     \"category\": null,\\n     \"secure_media_embed\": {},\\n     \"link_flair_text\": null,\\n     \"can_mod_post\": false,\\n     \"score\": 175,\\n     \"approved_by\": null,\\n     \"is_created_from_ads_ui\": false,\\n     \"author_premium\": false,\\n     \"thumbnail\": \"https://b.thumbs.redditmedia.com/Bwv6D4lQ6MLs6S-T7KDLghAbVnQlTvIHr15BKVkAzGQ.jpg\",\\n     \"edited\": false,\\n     \"author_flair_css_class\": null,\\n     \"author_flair_richtext\": [\\n      {\\n       \"a\": \":Stark:\",\\n       \"e\": \"emoji\",\\n       \"u\": \"https://emoji.redditmedia.com/hy2qoqf6rte21_t5_2rjz2/Stark\"\\n      },\\n      {\\n       \"e\": \"text\",\\n       \"t\": \" House Stark\"\\n      }\\n     ],\\n     \"gildings\": {},\\n     \"post_hint\": \"image\",\\n     \"content_categories\": null,\\n     \"is_self\": false,\\n     \"mod_note\": null,\\n     \"created\": 1676573351.0,\\n     \"link_flair_type\": \"text\",\\n     \"wls\": 6,\\n     \"removed_by_category\": null,\\n     \"banned_by\": null,\\n     \"author_flair_type\": \"richtext\",\\n     \"domain\": \"i.redd.it\",\\n     \"allow_live_comments\": false,\\n     \"selftext_html\": null,\\n     \"likes\": null,\\n     \"suggested_sort\": null,\\n     \"banned_at_utc\": null,\\n     \"url_overridden_by_dest\": \"https://i.redd.it/wj2ah3sc1nia1.jpg\",\\n     \"view_count\": null,\\n     \"archived\": false,\\n     \"no_follow\": false,\\n     \"is_crosspostable\": false,\\n     \"pinned\": false,\\n     \"over_18\": false,\\n     \"preview\": {\\n      \"images\": [\\n       {\\n        \"source\": {\\n         \"url\": \"https://preview.redd.it/wj2ah3sc1nia1.jpg?auto=webp&amp;v=enabled&amp;s=88b83947622bde32ad67bad50c953651543e9a75\",\\n         \"width\": 519,\\n         \"height\": 1024\\n        },\\n        \"resolutions\": [\\n         {\\n          \"url\": \"https://preview.redd.it/wj2ah3sc1nia1.jpg?width=108&amp;crop=smart&amp;auto=webp&amp;v=enabled&amp;s=8a81a595c08aff14b7109e8cf94dc2001584e2c5\",\\n          \"width\": 108,\\n          \"height\": 213\\n         },\\n         {\\n          \"url\": \"https://preview.redd.it/wj2ah3sc1nia1.jpg?width=216&amp;crop=smart&amp;auto=webp&amp;v=enabled&amp;s=2c2d905405cf69574ce52422cbef5a7c6029417c\",\\n          \"width\": 216,\\n          \"height\": 426\\n         },\\n         {\\n          \"url\": \"https://preview.redd.it/wj2ah3sc1nia1.jpg?width=320&amp;crop=smart&amp;auto=webp&amp;v=enabled&amp;s=70081382ddc47ed9aed3cc3c2f5017c091a98723\",\\n          \"width\": 320,\\n          \"height\": 631\\n         }\\n        ],\\n        \"variants\": {},\\n        \"id\": \"ptNmMEwzqj3gIZGx1MhaywfRDXq7P_WpnmluCReAHE0\"\\n       }\\n      ],\\n      \"enabled\": true\\n     },\\n     \"all_awardings\": [],\\n     \"awarders\": [],\\n     \"media_only\": false,\\n     \"can_gild\": false,\\n     \"spoiler\": false,\\n     \"locked\": false,\\n     \"author_flair_text\": \":Stark: House Stark\",\\n     \"treatment_tags\": [],\\n     \"visited\": false,\\n     \"removed_by\": null,\\n     \"num_reports\": null,\\n     \"distinguished\": null,\\n     \"subreddit_id\": \"t5_2rjz2\",\\n     \"author_is_blocked\": false,\\n     \"mod_reason_by\": null,\\n     \"removal_reason\": null,\\n     \"link_flair_background_color\": \"\",\\n     \"id\": \"113xw8g\",\\n     \"is_robot_indexable\": true,\\n     \"report_reasons\": null,\\n     \"author\": \"Pleasant_Pirate789\",\\n     \"discussion_type\": null,\\n     \"num_comments\": 23,\\n     \"send_replies\": true,\\n     \"whitelist_status\": \"all_ads\",\\n     \"contest_mode\": false,\\n     \"mod_reports\": [],\\n     \"author_patreon_flair\": false,\\n     \"author_flair_text_color\": \"dark\",\\n     \"permalink\": \"/r/gameofthrones/comments/113xw8g/i_found_the_best_wallpaper/\",\\n     \"parent_whitelist_status\": \"all_ads\",\\n     \"stickied\": false,\\n     \"url\": \"https://i.redd.it/wj2ah3sc1nia1.jpg\",\\n     \"subreddit_subscribers\": 3205869,\\n     \"created_utc\": 1676573351.0,\\n     \"num_crossposts\": 0,\\n     \"media\": null,\\n     \"is_video\": false\\n    }\\n   },\\n   {\\n    \"kind\": \"t3\",\\n    \"data\": {\\n     \"approved_at_utc\": null,\\n     \"subreddit\": \"gameofthrones\",\\n     \"selftext\": \"\",\\n     \"author_fullname\": \"t2_gpf7ch4c\",\\n     \"saved\": false,\\n     \"mod_reason_title\": null,\\n     \"gilded\": 0,\\n     \"clicked\": false,\\n     \"title\": \"What is your favorite Castle in GOT?\",\\n     \"link_flair_richtext\": [],\\n     \"subreddit_name_prefixed\": \"r/gameofthrones\",\\n     \"hidden\": false,\\n     \"pwls\": 6,\\n     \"link_flair_css_class\": null,\\n     \"downs\": 0,\\n     \"thumbnail_height\": 78,\\n     \"top_awarded_type\": null,\\n     \"hide_score\": false,\\n     \"name\": \"t3_113uvbn\",\\n     \"quarantine\": false,\\n     \"link_flair_text_color\": \"dark\",\\n     \"upvote_ratio\": 0.97,\\n     \"author_flair_background_color\": null,\\n     \"subreddit_type\": \"public\",\\n     \"ups\": 227,\\n     \"total_awards_received\": 0,\\n     \"media_embed\": {},\\n     \"thumbnail_width\": 140,\\n     \"author_flair_template_id\": null,\\n     \"is_original_content\": false,\\n     \"user_reports\": [],\\n     \"secure_media\": null,\\n     \"is_reddit_media_domain\": true,\\n     \"is_meta\": false,\\n     \"category\": null,\\n     \"secure_media_embed\": {},\\n     \"link_flair_text\": null,\\n     \"can_mod_post\": false,\\n     \"score\": 227,\\n     \"approved_by\": null,\\n     \"is_created_from_ads_ui\": false,\\n     \"author_premium\": false,\\n     \"thumbnail\": \"https://a.thumbs.redditmedia.com/a3RbnAkJD26T2rTHRMrCOG3lOfoh5Ll-IyvTbt3lce8.jpg\",\\n     \"edited\": false,\\n     \"author_flair_css_class\": null,\\n     \"author_flair_richtext\": [],\\n     \"gildings\": {},\\n     \"post_hint\": \"image\",\\n     \"content_categories\": null,\\n     \"is_self\": false,\\n     \"mod_note\": null,\\n     \"created\": 1676565592.0,\\n     \"link_flair_type\": \"text\",\\n     \"wls\": 6,\\n     \"removed_by_category\": null,\\n     \"banned_by\": null,\\n     \"author_flair_type\": \"text\",\\n     \"domain\": \"i.redd.it\",\\n     \"allow_live_comments\": false,\\n     \"selftext_html\": null,\\n     \"likes\": null,\\n     \"suggested_sort\": null,\\n     \"banned_at_utc\": null,\\n     \"url_overridden_by_dest\": \"https://i.redd.it/xmt1tm6aemia1.jpg\",\\n     \"view_count\": null,\\n     \"archived\": false,\\n     \"no_follow\": false,\\n     \"is_crosspostable\": false,\\n     \"pinned\": false,\\n     \"over_18\": false,\\n     \"preview\": {\\n      \"images\": [\\n       {\\n        \"source\": {\\n         \"url\": \"https://preview.redd.it/xmt1tm6aemia1.jpg?auto=webp&amp;v=enabled&amp;s=5d60981081ba991752470e8f80ba7c9bf078211c\",\\n         \"width\": 1188,\\n         \"height\": 665\\n        },\\n        \"resolutions\": [\\n         {\\n          \"url\": \"https://preview.redd.it/xmt1tm6aemia1.jpg?width=108&amp;crop=smart&amp;auto=webp&amp;v=enabled&amp;s=348991f13f519796c8eed30bcc378b58672da218\",\\n          \"width\": 108,\\n          \"height\": 60\\n         },\\n         {\\n          \"url\": \"https://preview.redd.it/xmt1tm6aemia1.jpg?width=216&amp;crop=smart&amp;auto=webp&amp;v=enabled&amp;s=c45f76105347ccedcee15caa4ee885ea22bee3e9\",\\n          \"width\": 216,\\n          \"height\": 120\\n         },\\n         {\\n          \"url\": \"https://preview.redd.it/xmt1tm6aemia1.jpg?width=320&amp;crop=smart&amp;auto=webp&amp;v=enabled&amp;s=318e5d8516364fc305cb46468e0ec0381a808861\",\\n          \"width\": 320,\\n          \"height\": 179\\n         },\\n         {\\n          \"url\": \"https://preview.redd.it/xmt1tm6aemia1.jpg?width=640&amp;crop=smart&amp;auto=webp&amp;v=enabled&amp;s=78405df9eefe719a8883de8046f4b15d468ab5ef\",\\n          \"width\": 640,\\n          \"height\": 358\\n         },\\n         {\\n          \"url\": \"https://preview.redd.it/xmt1tm6aemia1.jpg?width=960&amp;crop=smart&amp;auto=webp&amp;v=enabled&amp;s=aa9fc043e80940616a4dcba2bf2c52c800ddbfcd\",\\n          \"width\": 960,\\n          \"height\": 537\\n         },\\n         {\\n          \"url\": \"https://preview.redd.it/xmt1tm6aemia1.jpg?width=1080&amp;crop=smart&amp;auto=webp&amp;v=enabled&amp;s=71df38f370cec1a237671a0e7110a23853a9d59a\",\\n          \"width\": 1080,\\n          \"height\": 604\\n         }\\n        ],\\n        \"variants\": {},\\n        \"id\": \"VEAhv05j9XJtf29vOWb6mNgyJ5EAfA3gShz67eJYQyI\"\\n       }\\n      ],\\n      \"enabled\": true\\n     },\\n     \"all_awardings\": [],\\n     \"awarders\": [],\\n     \"media_only\": false,\\n     \"can_gild\": false,\\n     \"spoiler\": false,\\n     \"locked\": false,\\n     \"author_flair_text\": null,\\n     \"treatment_tags\": [],\\n     \"visited\": false,\\n     \"removed_by\": null,\\n     \"num_reports\": null,\\n     \"distinguished\": null,\\n     \"subreddit_id\": \"t5_2rjz2\",\\n     \"author_is_blocked\": false,\\n     \"mod_reason_by\": null,\\n     \"removal_reason\": null,\\n     \"link_flair_background_color\": \"\",\\n     \"id\": \"113uvbn\",\\n     \"is_robot_indexable\": true,\\n     \"report_reasons\": null,\\n     \"author\": \"BottleNo1847\",\\n     \"discussion_type\": null,\\n     \"num_comments\": 81,\\n     \"send_replies\": true,\\n     \"whitelist_status\": \"all_ads\",\\n     \"contest_mode\": false,\\n     \"mod_reports\": [],\\n     \"author_patreon_flair\": false,\\n     \"author_flair_text_color\": null,\\n     \"permalink\": \"/r/gameofthrones/comments/113uvbn/what_is_your_favorite_castle_in_got/\",\\n     \"parent_whitelist_status\": \"all_ads\",\\n     \"stickied\": false,\\n     \"url\": \"https://i.redd.it/xmt1tm6aemia1.jpg\",\\n     \"subreddit_subscribers\": 3205869,\\n     \"created_utc\": 1676565592.0,\\n     \"num_crossposts\": 0,\\n     \"media\": null,\\n     \"is_video\": false\\n    }\\n   },\\n   {\\n    \"kind\": \"t3\",\\n    \"data\": {\\n     \"approved_at_utc\": null,\\n     \"subreddit\": \"gameofthrones\",\\n     \"selftext\": \"\",\\n     \"author_fullname\": \"t2_owcdzylh\",\\n     \"saved\": false,\\n     \"mod_reason_title\": null,\\n     \"gilded\": 0,\\n     \"clicked\": false,\\n     \"title\": \"[No Spoilers] An Anime of Ice and Fire - Jaime &amp;amp; Cersei Lannister\",\\n     \"link_flair_richtext\": [],\\n     \"subreddit_name_prefixed\": \"r/gameofthrones\",\\n     \"hidden\": false,\\n     \"pwls\": 6,\\n     \"link_flair_css_class\": null,\\n     \"downs\": 0,\\n     \"thumbnail_height\": 140,\\n     \"top_awarded_type\": null,\\n     \"hide_score\": false,\\n     \"name\": \"t3_114b2e4\",\\n     \"quarantine\": false,\\n     \"link_flair_text_color\": \"dark\",\\n     \"upvote_ratio\": 0.87,\\n     \"author_flair_background_color\": null,\\n     \"subreddit_type\": \"public\",\\n     \"ups\": 22,\\n     \"total_awards_received\": 0,\\n     \"media_embed\": {},\\n     \"thumbnail_width\": 140,\\n     \"author_flair_template_id\": null,\\n     \"is_original_content\": false,\\n     \"user_reports\": [],\\n     \"secure_media\": null,\\n     \"is_reddit_media_domain\": true,\\n     \"is_meta\": false,\\n     \"category\": null,\\n     \"secure_media_embed\": {},\\n     \"link_flair_text\": null,\\n     \"can_mod_post\": false,\\n     \"score\": 22,\\n     \"approved_by\": null,\\n     \"is_created_from_ads_ui\": false,\\n     \"author_premium\": false,\\n     \"thumbnail\": \"https://b.thumbs.redditmedia.com/wyY6O7F0Ufg3aZ4gahCoR3xdjTtYDKD4x97-PoEFcNU.jpg\",\\n     \"edited\": false,\\n     \"author_flair_css_class\": null,\\n     \"author_flair_richtext\": [],\\n     \"gildings\": {},\\n     \"post_hint\": \"image\",\\n     \"content_categories\": null,\\n     \"is_self\": false,\\n     \"mod_note\": null,\\n     \"created\": 1676609738.0,\\n     \"link_flair_type\": \"text\",\\n     \"wls\": 6,\\n     \"removed_by_category\": null,\\n     \"banned_by\": null,\\n     \"author_flair_type\": \"text\",\\n     \"domain\": \"i.redd.it\",\\n     \"allow_live_comments\": false,\\n     \"selftext_html\": null,\\n     \"likes\": null,\\n     \"suggested_sort\": null,\\n     \"banned_at_utc\": null,\\n     \"url_overridden_by_dest\": \"https://i.redd.it/j8e3kem0koia1.jpg\",\\n     \"view_count\": null,\\n     \"archived\": false,\\n     \"no_follow\": false,\\n     \"is_crosspostable\": false,\\n     \"pinned\": false,\\n     \"over_18\": false,\\n     \"preview\": {\\n      \"images\": [\\n       {\\n        \"source\": {\\n         \"url\": \"https://preview.redd.it/j8e3kem0koia1.jpg?auto=webp&amp;v=enabled&amp;s=456a8ac4a7a055a7647f38fcabf061cd2087ae55\",\\n         \"width\": 1401,\\n         \"height\": 1983\\n        },\\n        \"resolutions\": [\\n         {\\n          \"url\": \"https://preview.redd.it/j8e3kem0koia1.jpg?width=108&amp;crop=smart&amp;auto=webp&amp;v=enabled&amp;s=163715b9ed5799097e9e9a40c29c635fd92b656d\",\\n          \"width\": 108,\\n          \"height\": 152\\n         },\\n         {\\n          \"url\": \"https://preview.redd.it/j8e3kem0koia1.jpg?width=216&amp;crop=smart&amp;auto=webp&amp;v=enabled&amp;s=575da730df09a31d473db0f778e534d30fb20360\",\\n          \"width\": 216,\\n          \"height\": 305\\n         },\\n         {\\n          \"url\": \"https://preview.redd.it/j8e3kem0koia1.jpg?width=320&amp;crop=smart&amp;auto=webp&amp;v=enabled&amp;s=dc520fb64100f9de6b557c9b1b8e26ef40da62b3\",\\n          \"width\": 320,\\n          \"height\": 452\\n         },\\n         {\\n          \"url\": \"https://preview.redd.it/j8e3kem0koia1.jpg?width=640&amp;crop=smart&amp;auto=webp&amp;v=enabled&amp;s=eed45d22718775f9057d6f4ac97e5ab30190fbfa\",\\n          \"width\": 640,\\n          \"height\": 905\\n         },\\n         {\\n          \"url\": \"https://preview.redd.it/j8e3kem0koia1.jpg?width=960&amp;crop=smart&amp;auto=webp&amp;v=enabled&amp;s=5f6e7c1714daae69f57bed7aba01cc409b0132b8\",\\n          \"width\": 960,\\n          \"height\": 1358\\n         },\\n         {\\n          \"url\": \"https://preview.redd.it/j8e3kem0koia1.jpg?width=1080&amp;crop=smart&amp;auto=webp&amp;v=enabled&amp;s=dc1a0b044118e6de53c1542d6a6db3fe2abe997d\",\\n          \"width\": 1080,\\n          \"height\": 1528\\n         }\\n        ],\\n        \"variants\": {},\\n        \"id\": \"n4LR1ltba2DreybqWf8BWaGzHP2lN5eSaLmE8-IEL1o\"\\n       }\\n      ],\\n      \"enabled\": true\\n     },\\n     \"all_awardings\": [],\\n     \"awarders\": [],\\n     \"media_only\": false,\\n     \"can_gild\": false,\\n     \"spoiler\": false,\\n     \"locked\": false,\\n     \"author_flair_text\": null,\\n     \"treatment_tags\": [],\\n     \"visited\": false,\\n     \"removed_by\": null,\\n     \"num_reports\": null,\\n     \"distinguished\": null,\\n     \"subreddit_id\": \"t5_2rjz2\",\\n     \"author_is_blocked\": false,\\n     \"mod_reason_by\": null,\\n     \"removal_reason\": null,\\n     \"link_flair_background_color\": \"\",\\n     \"id\": \"114b2e4\",\\n     \"is_robot_indexable\": true,\\n     \"report_reasons\": null,\\n     \"author\": \"Own-Requirement7919\",\\n     \"discussion_type\": null,\\n     \"num_comments\": 2,\\n     \"send_replies\": true,\\n     \"whitelist_status\": \"all_ads\",\\n     \"contest_mode\": false,\\n     \"mod_reports\": [],\\n     \"author_patreon_flair\": false,\\n     \"author_flair_text_color\": null,\\n     \"permalink\": \"/r/gameofthrones/comments/114b2e4/no_spoilers_an_anime_of_ice_and_fire_jaime_amp/\",\\n     \"parent_whitelist_status\": \"all_ads\",\\n     \"stickied\": false,\\n     \"url\": \"https://i.redd.it/j8e3kem0koia1.jpg\",\\n     \"subreddit_subscribers\": 3205869,\\n     \"created_utc\": 1676609738.0,\\n     \"num_crossposts\": 1,\\n     \"media\": null,\\n     \"is_video\": false\\n    }\\n   },\\n   {\\n    \"kind\": \"t3\",\\n    \"data\": {\\n     \"approved_at_utc\": null,\\n     \"subreddit\": \"gameofthrones\",\\n     \"selftext\": \"\",\\n     \"author_fullname\": \"t2_dafvdc3d\",\\n     \"saved\": false,\\n     \"mod_reason_title\": null,\\n     \"gilded\": 0,\\n     \"clicked\": false,\\n     \"title\": \"Robb and Daemon\",\\n     \"link_flair_richtext\": [],\\n     \"subreddit_name_prefixed\": \"r/gameofthrones\",\\n     \"hidden\": false,\\n     \"pwls\": 6,\\n     \"link_flair_css_class\": null,\\n     \"downs\": 0,\\n     \"thumbnail_height\": 140,\\n     \"top_awarded_type\": null,\\n     \"hide_score\": false,\\n     \"name\": \"t3_1145z9l\",\\n     \"quarantine\": false,\\n     \"link_flair_text_color\": \"dark\",\\n     \"upvote_ratio\": 0.83,\\n     \"author_flair_background_color\": \"transparent\",\\n     \"subreddit_type\": \"public\",\\n     \"ups\": 50,\\n     \"total_awards_received\": 0,\\n     \"media_embed\": {},\\n     \"thumbnail_width\": 140,\\n     \"author_flair_template_id\": \"8f449296-0978-11e9-9d95-0e6e4488e848\",\\n     \"is_original_content\": false,\\n     \"user_reports\": [],\\n     \"secure_media\": null,\\n     \"is_reddit_media_domain\": true,\\n     \"is_meta\": false,\\n     \"category\": null,\\n     \"secure_media_embed\": {},\\n     \"link_flair_text\": null,\\n     \"can_mod_post\": false,\\n     \"score\": 50,\\n     \"approved_by\": null,\\n     \"is_created_from_ads_ui\": false,\\n     \"author_premium\": false,\\n     \"thumbnail\": \"https://b.thumbs.redditmedia.com/-puSwMMbw6R1kCIdpRXDPUnBhuUYBP4LnKgA-7GhV8Y.jpg\",\\n     \"edited\": false,\\n     \"author_flair_css_class\": null,\\n     \"author_flair_richtext\": [\\n      {\\n       \"a\": \":Targaryen:\",\\n       \"e\": \"emoji\",\\n       \"u\": \"https://emoji.redditmedia.com/p77ls757rte21_t5_2rjz2/Targaryen\"\\n      },\\n      {\\n       \"e\": \"text\",\\n       \"t\": \" House Targaryen\"\\n      }\\n     ],\\n     \"gildings\": {},\\n     \"post_hint\": \"image\",\\n     \"content_categories\": null,\\n     \"is_self\": false,\\n     \"mod_note\": null,\\n     \"created\": 1676594119.0,\\n     \"link_flair_type\": \"text\",\\n     \"wls\": 6,\\n     \"removed_by_category\": null,\\n     \"banned_by\": null,\\n     \"author_flair_type\": \"richtext\",\\n     \"domain\": \"i.redd.it\",\\n     \"allow_live_comments\": false,\\n     \"selftext_html\": null,\\n     \"likes\": null,\\n     \"suggested_sort\": null,\\n     \"banned_at_utc\": null,\\n     \"url_overridden_by_dest\": \"https://i.redd.it/zpai9jx3roia1.jpg\",\\n     \"view_count\": null,\\n     \"archived\": false,\\n     \"no_follow\": false,\\n     \"is_crosspostable\": false,\\n     \"pinned\": false,\\n     \"over_18\": false,\\n     \"preview\": {\\n      \"images\": [\\n       {\\n        \"source\": {\\n         \"url\": \"https://preview.redd.it/zpai9jx3roia1.jpg?auto=webp&amp;v=enabled&amp;s=c17ef267a6d068163eeade1068c150cf0ba61c4d\",\\n         \"width\": 1284,\\n         \"height\": 1285\\n        },\\n        \"resolutions\": [\\n         {\\n          \"url\": \"https://preview.redd.it/zpai9jx3roia1.jpg?width=108&amp;crop=smart&amp;auto=webp&amp;v=enabled&amp;s=cc01100755953ad5cb4dd7523a8e98a8aff62758\",\\n          \"width\": 108,\\n          \"height\": 108\\n         },\\n         {\\n          \"url\": \"https://preview.redd.it/zpai9jx3roia1.jpg?width=216&amp;crop=smart&amp;auto=webp&amp;v=enabled&amp;s=ff84ea3660a313a7462145e60c56ba212d087311\",\\n          \"width\": 216,\\n          \"height\": 216\\n         },\\n         {\\n          \"url\": \"https://preview.redd.it/zpai9jx3roia1.jpg?width=320&amp;crop=smart&amp;auto=webp&amp;v=enabled&amp;s=cfe48862c985f46fd198913fd414674a10d8a5a1\",\\n          \"width\": 320,\\n          \"height\": 320\\n         },\\n         {\\n          \"url\": \"https://preview.redd.it/zpai9jx3roia1.jpg?width=640&amp;crop=smart&amp;auto=webp&amp;v=enabled&amp;s=01e123167c1a9f4a76806a3ad7711cc4140af156\",\\n          \"width\": 640,\\n          \"height\": 640\\n         },\\n         {\\n          \"url\": \"https://preview.redd.it/zpai9jx3roia1.jpg?width=960&amp;crop=smart&amp;auto=webp&amp;v=enabled&amp;s=0bf0723410da169e19947e8966d918e1f3a19b48\",\\n          \"width\": 960,\\n          \"height\": 960\\n         },\\n         {\\n          \"url\": \"https://preview.redd.it/zpai9jx3roia1.jpg?width=1080&amp;crop=smart&amp;auto=webp&amp;v=enabled&amp;s=0289d066d933566c1c1262e19823b0c88e653516\",\\n          \"width\": 1080,\\n          \"height\": 1080\\n         }\\n        ],\\n        \"variants\": {},\\n        \"id\": \"Bz4_htUNfLFrOHXP0SLEQ9YWJ-BEOJlKSfkBjIUTBaY\"\\n       }\\n      ],\\n      \"enabled\": true\\n     },\\n     \"all_awardings\": [],\\n     \"awarders\": [],\\n     \"media_only\": false,\\n     \"can_gild\": false,\\n     \"spoiler\": false,\\n     \"locked\": false,\\n     \"author_flair_text\": \":Targaryen: House Targaryen\",\\n     \"treatment_tags\": [],\\n     \"visited\": false,\\n     \"removed_by\": null,\\n     \"num_reports\": null,\\n     \"distinguished\": null,\\n     \"subreddit_id\": \"t5_2rjz2\",\\n     \"author_is_blocked\": false,\\n     \"mod_reason_by\": null,\\n     \"removal_reason\": null,\\n     \"link_flair_background_color\": \"\",\\n     \"id\": \"1145z9l\",\\n     \"is_robot_indexable\": true,\\n     \"report_reasons\": null,\\n     \"author\": \"Outside_Slide_3218\",\\n     \"discussion_type\": null,\\n     \"num_comments\": 3,\\n     \"send_replies\": true,\\n     \"whitelist_status\": \"all_ads\",\\n     \"contest_mode\": false,\\n     \"mod_reports\": [],\\n     \"author_patreon_flair\": false,\\n     \"author_flair_text_color\": \"dark\",\\n     \"permalink\": \"/r/gameofthrones/comments/1145z9l/robb_and_daemon/\",\\n     \"parent_whitelist_status\": \"all_ads\",\\n     \"stickied\": false,\\n     \"url\": \"https://i.redd.it/zpai9jx3roia1.jpg\",\\n     \"subreddit_subscribers\": 3205869,\\n     \"created_utc\": 1676594119.0,\\n     \"num_crossposts\": 0,\\n     \"media\": null,\\n     \"is_video\": false\\n    }\\n   },\\n   {\\n    \"kind\": \"t3\",\\n    \"data\": {\\n     \"approved_at_utc\": null,\\n     \"subreddit\": \"gameofthrones\",\\n     \"selftext\": \"\",\\n     \"author_fullname\": \"t2_rhp5ajre\",\\n     \"saved\": false,\\n     \"mod_reason_title\": null,\\n     \"gilded\": 0,\\n     \"clicked\": false,\\n     \"title\": \"What would be the greatest what if\\\\u2026? You\\\\u2019d like to see.\",\\n     \"link_flair_richtext\": [],\\n     \"subreddit_name_prefixed\": \"r/gameofthrones\",\\n     \"hidden\": false,\\n     \"pwls\": 6,\\n     \"link_flair_css_class\": null,\\n     \"downs\": 0,\\n     \"thumbnail_height\": 78,\\n     \"top_awarded_type\": null,\\n     \"hide_score\": false,\\n     \"name\": \"t3_113qn20\",\\n     \"quarantine\": false,\\n     \"link_flair_text_color\": \"dark\",\\n     \"upvote_ratio\": 0.96,\\n     \"author_flair_background_color\": \"transparent\",\\n     \"subreddit_type\": \"public\",\\n     \"ups\": 215,\\n     \"total_awards_received\": 0,\\n     \"media_embed\": {},\\n     \"thumbnail_width\": 140,\\n     \"author_flair_template_id\": \"2a18694c-1927-11e9-853d-0e8f09a137aa\",\\n     \"is_original_content\": false,\\n     \"user_reports\": [],\\n     \"secure_media\": null,\\n     \"is_reddit_media_domain\": true,\\n     \"is_meta\": false,\\n     \"category\": null,\\n     \"secure_media_embed\": {},\\n     \"link_flair_text\": null,\\n     \"can_mod_post\": false,\\n     \"score\": 215,\\n     \"approved_by\": null,\\n     \"is_created_from_ads_ui\": false,\\n     \"author_premium\": false,\\n     \"thumbnail\": \"spoiler\",\\n     \"edited\": false,\\n     \"author_flair_css_class\": null,\\n     \"author_flair_richtext\": [\\n      {\\n       \"a\": \":lannister:\",\\n       \"e\": \"emoji\",\\n       \"u\": \"https://emoji.redditmedia.com/uk4lcx7ksek21_t5_2rjz2/lannister\"\\n      },\\n      {\\n       \"e\": \"text\",\\n       \"t\": \" Tywin Lannister\"\\n      }\\n     ],\\n     \"gildings\": {},\\n     \"post_hint\": \"image\",\\n     \"content_categories\": null,\\n     \"is_self\": false,\\n     \"mod_note\": null,\\n     \"created\": 1676554148.0,\\n     \"link_flair_type\": \"text\",\\n     \"wls\": 6,\\n     \"removed_by_category\": null,\\n     \"banned_by\": null,\\n     \"author_flair_type\": \"richtext\",\\n     \"domain\": \"i.redd.it\",\\n     \"allow_live_comments\": false,\\n     \"selftext_html\": null,\\n     \"likes\": null,\\n     \"suggested_sort\": null,\\n     \"banned_at_utc\": null,\\n     \"url_overridden_by_dest\": \"https://i.redd.it/sf4wvm29glia1.jpg\",\\n     \"view_count\": null,\\n     \"archived\": false,\\n     \"no_follow\": false,\\n     \"is_crosspostable\": false,\\n     \"pinned\": false,\\n     \"over_18\": false,\\n     \"preview\": {\\n      \"images\": [\\n       {\\n        \"source\": {\\n         \"url\": \"https://preview.redd.it/sf4wvm29glia1.jpg?auto=webp&amp;v=enabled&amp;s=e071bef1349e3b7afba5e83efb42087d4a44418a\",\\n         \"width\": 1920,\\n         \"height\": 1080\\n        },\\n        \"resolutions\": [\\n         {\\n          \"url\": \"https://preview.redd.it/sf4wvm29glia1.jpg?width=108&amp;crop=smart&amp;auto=webp&amp;v=enabled&amp;s=d8e077d4eb38c7de386b6598ae9a63acd9d01d44\",\\n          \"width\": 108,\\n          \"height\": 60\\n         },\\n         {\\n          \"url\": \"https://preview.redd.it/sf4wvm29glia1.jpg?width=216&amp;crop=smart&amp;auto=webp&amp;v=enabled&amp;s=5be15ba113de1e438ae5051c85e1bd494cf2f75f\",\\n          \"width\": 216,\\n          \"height\": 121\\n         },\\n         {\\n          \"url\": \"https://preview.redd.it/sf4wvm29glia1.jpg?width=320&amp;crop=smart&amp;auto=webp&amp;v=enabled&amp;s=4171fc74ab6a0cf81c01c1d4c9c62c178ccd3cb8\",\\n          \"width\": 320,\\n          \"height\": 180\\n         },\\n         {\\n          \"url\": \"https://preview.redd.it/sf4wvm29glia1.jpg?width=640&amp;crop=smart&amp;auto=webp&amp;v=enabled&amp;s=8a8b80da83499fe2a6600c4ae19109e4b186e8d2\",\\n          \"width\": 640,\\n          \"height\": 360\\n         },\\n         {\\n          \"url\": \"https://preview.redd.it/sf4wvm29glia1.jpg?width=960&amp;crop=smart&amp;auto=webp&amp;v=enabled&amp;s=dcc4fb0602cf398d96bff16d8100ea48af01785b\",\\n          \"width\": 960,\\n          \"height\": 540\\n         },\\n         {\\n          \"url\": \"https://preview.redd.it/sf4wvm29glia1.jpg?width=1080&amp;crop=smart&amp;auto=webp&amp;v=enabled&amp;s=2d5d0935a816912187a7aac46df36967ac26efcc\",\\n          \"width\": 1080,\\n          \"height\": 607\\n         }\\n        ],\\n        \"variants\": {\\n         \"obfuscated\": {\\n          \"source\": {\\n           \"url\": \"https://preview.redd.it/sf4wvm29glia1.jpg?blur=40&amp;format=pjpg&amp;auto=webp&amp;v=enabled&amp;s=69b8c8765e30b305f9cf6eeed135d644b0c08ecb\",\\n           \"width\": 1920,\\n           \"height\": 1080\\n          },\\n          \"resolutions\": [\\n           {\\n            \"url\": \"https://preview.redd.it/sf4wvm29glia1.jpg?width=108&amp;crop=smart&amp;blur=10&amp;format=pjpg&amp;auto=webp&amp;v=enabled&amp;s=cd24215681c23b3405ab79f6349d5d2d4053f07b\",\\n            \"width\": 108,\\n            \"height\": 60\\n           },\\n           {\\n            \"url\": \"https://preview.redd.it/sf4wvm29glia1.jpg?width=216&amp;crop=smart&amp;blur=21&amp;format=pjpg&amp;auto=webp&amp;v=enabled&amp;s=7564dd384e24dca3f5c4ca0025ff5715c2ba0683\",\\n            \"width\": 216,\\n            \"height\": 121\\n           },\\n           {\\n            \"url\": \"https://preview.redd.it/sf4wvm29glia1.jpg?width=320&amp;crop=smart&amp;blur=32&amp;format=pjpg&amp;auto=webp&amp;v=enabled&amp;s=500a00124252029e88ab61ae53c95bd15b018e50\",\\n            \"width\": 320,\\n            \"height\": 180\\n           },\\n           {\\n            \"url\": \"https://preview.redd.it/sf4wvm29glia1.jpg?width=640&amp;crop=smart&amp;blur=40&amp;format=pjpg&amp;auto=webp&amp;v=enabled&amp;s=d096d489cdaf4a02a628e6a25e60faa266612468\",\\n            \"width\": 640,\\n            \"height\": 360\\n           },\\n           {\\n            \"url\": \"https://preview.redd.it/sf4wvm29glia1.jpg?width=960&amp;crop=smart&amp;blur=40&amp;format=pjpg&amp;auto=webp&amp;v=enabled&amp;s=5864ff981307e902141ddd9f1019cadaeadf89a2\",\\n            \"width\": 960,\\n            \"height\": 540\\n           },\\n           {\\n            \"url\": \"https://preview.redd.it/sf4wvm29glia1.jpg?width=1080&amp;crop=smart&amp;blur=40&amp;format=pjpg&amp;auto=webp&amp;v=enabled&amp;s=b38dfd2dde544ef3a15792e6f01a0189728e1ec7\",\\n            \"width\": 1080,\\n            \"height\": 607\\n           }\\n          ]\\n         }\\n        },\\n        \"id\": \"WWUJWAjhpQwyKEk6DTUEBOHdCxHlIRVjlcLylf0Dd_M\"\\n       }\\n      ],\\n      \"enabled\": true\\n     },\\n     \"all_awardings\": [],\\n     \"awarders\": [],\\n     \"media_only\": false,\\n     \"can_gild\": false,\\n     \"spoiler\": true,\\n     \"locked\": false,\\n     \"author_flair_text\": \":lannister: Tywin Lannister\",\\n     \"treatment_tags\": [],\\n     \"visited\": false,\\n     \"removed_by\": null,\\n     \"num_reports\": null,\\n     \"distinguished\": null,\\n     \"subreddit_id\": \"t5_2rjz2\",\\n     \"author_is_blocked\": false,\\n     \"mod_reason_by\": null,\\n     \"removal_reason\": null,\\n     \"link_flair_background_color\": \"\",\\n     \"id\": \"113qn20\",\\n     \"is_robot_indexable\": true,\\n     \"report_reasons\": null,\\n     \"author\": \"NothingButtMammals\",\\n     \"discussion_type\": null,\\n     \"num_comments\": 139,\\n     \"send_replies\": true,\\n     \"whitelist_status\": \"all_ads\",\\n     \"contest_mode\": false,\\n     \"mod_reports\": [],\\n     \"author_patreon_flair\": false,\\n     \"author_flair_text_color\": \"dark\",\\n     \"permalink\": \"/r/gameofthrones/comments/113qn20/what_would_be_the_greatest_what_if_youd_like_to/\",\\n     \"parent_whitelist_status\": \"all_ads\",\\n     \"stickied\": false,\\n     \"url\": \"https://i.redd.it/sf4wvm29glia1.jpg\",\\n     \"subreddit_subscribers\": 3205869,\\n     \"created_utc\": 1676554148.0,\\n     \"num_crossposts\": 0,\\n     \"media\": null,\\n     \"is_video\": false\\n    }\\n   },\\n   {\\n    \"kind\": \"t3\",\\n    \"data\": {\\n     \"approved_at_utc\": null,\\n     \"subreddit\": \"gameofthrones\",\\n     \"selftext\": \"\",\\n     \"author_fullname\": \"t2_3uzu8rug\",\\n     \"saved\": false,\\n     \"mod_reason_title\": null,\\n     \"gilded\": 0,\\n     \"clicked\": false,\\n     \"title\": \"An interesting similarity found\",\\n     \"link_flair_richtext\": [],\\n     \"subreddit_name_prefixed\": \"r/gameofthrones\",\\n     \"hidden\": false,\\n     \"pwls\": 6,\\n     \"link_flair_css_class\": null,\\n     \"downs\": 0,\\n     \"thumbnail_height\": 112,\\n     \"top_awarded_type\": null,\\n     \"hide_score\": false,\\n     \"name\": \"t3_114e0af\",\\n     \"quarantine\": false,\\n     \"link_flair_text_color\": \"dark\",\\n     \"upvote_ratio\": 0.65,\\n     \"author_flair_background_color\": null,\\n     \"subreddit_type\": \"public\",\\n     \"ups\": 7,\\n     \"total_awards_received\": 0,\\n     \"media_embed\": {},\\n     \"thumbnail_width\": 140,\\n     \"author_flair_template_id\": null,\\n     \"is_original_content\": false,\\n     \"user_reports\": [],\\n     \"secure_media\": null,\\n     \"is_reddit_media_domain\": false,\\n     \"is_meta\": false,\\n     \"category\": null,\\n     \"secure_media_embed\": {},\\n     \"link_flair_text\": null,\\n     \"can_mod_post\": false,\\n     \"score\": 7,\\n     \"approved_by\": null,\\n     \"is_created_from_ads_ui\": false,\\n     \"author_premium\": false,\\n     \"thumbnail\": \"https://b.thumbs.redditmedia.com/KTnLoyKDMNafUeb5d7E7NG4tNb-C5PzBkRNBw0zGgHo.jpg\",\\n     \"edited\": false,\\n     \"author_flair_css_class\": null,\\n     \"author_flair_richtext\": [],\\n     \"gildings\": {},\\n     \"post_hint\": \"image\",\\n     \"content_categories\": null,\\n     \"is_self\": false,\\n     \"mod_note\": null,\\n     \"created\": 1676620588.0,\\n     \"link_flair_type\": \"text\",\\n     \"wls\": 6,\\n     \"removed_by_category\": null,\\n     \"banned_by\": null,\\n     \"author_flair_type\": \"text\",\\n     \"domain\": \"i.imgur.com\",\\n     \"allow_live_comments\": false,\\n     \"selftext_html\": null,\\n     \"likes\": null,\\n     \"suggested_sort\": null,\\n     \"banned_at_utc\": null,\\n     \"url_overridden_by_dest\": \"https://i.imgur.com/nqZH6a2.jpg\",\\n     \"view_count\": null,\\n     \"archived\": false,\\n     \"no_follow\": false,\\n     \"is_crosspostable\": false,\\n     \"pinned\": false,\\n     \"over_18\": false,\\n     \"preview\": {\\n      \"images\": [\\n       {\\n        \"source\": {\\n         \"url\": \"https://external-preview.redd.it/3PaouiUaxsmdleTTzxRctDAjj77oGSwSaJ6sgteX9A0.jpg?auto=webp&amp;v=enabled&amp;s=fada42fad07bd23eb476ebd1f202c357c9b0047a\",\\n         \"width\": 1920,\\n         \"height\": 1536\\n        },\\n        \"resolutions\": [\\n         {\\n          \"url\": \"https://external-preview.redd.it/3PaouiUaxsmdleTTzxRctDAjj77oGSwSaJ6sgteX9A0.jpg?width=108&amp;crop=smart&amp;auto=webp&amp;v=enabled&amp;s=b000b446f3b3a96bf8512ee9a7c914c47529bf2b\",\\n          \"width\": 108,\\n          \"height\": 86\\n         },\\n         {\\n          \"url\": \"https://external-preview.redd.it/3PaouiUaxsmdleTTzxRctDAjj77oGSwSaJ6sgteX9A0.jpg?width=216&amp;crop=smart&amp;auto=webp&amp;v=enabled&amp;s=793768c3fa9ef5d68b02369a51483e6e11becbdc\",\\n          \"width\": 216,\\n          \"height\": 172\\n         },\\n         {\\n          \"url\": \"https://external-preview.redd.it/3PaouiUaxsmdleTTzxRctDAjj77oGSwSaJ6sgteX9A0.jpg?width=320&amp;crop=smart&amp;auto=webp&amp;v=enabled&amp;s=028a1a2df80681cfa539e4248b255132c006caa9\",\\n          \"width\": 320,\\n          \"height\": 256\\n         },\\n         {\\n          \"url\": \"https://external-preview.redd.it/3PaouiUaxsmdleTTzxRctDAjj77oGSwSaJ6sgteX9A0.jpg?width=640&amp;crop=smart&amp;auto=webp&amp;v=enabled&amp;s=9938e0f4a80d0aee44e31b985d7065450393e526\",\\n          \"width\": 640,\\n          \"height\": 512\\n         },\\n         {\\n          \"url\": \"https://external-preview.redd.it/3PaouiUaxsmdleTTzxRctDAjj77oGSwSaJ6sgteX9A0.jpg?width=960&amp;crop=smart&amp;auto=webp&amp;v=enabled&amp;s=6a31deb6eb863db53acac14784db988bda3517b1\",\\n          \"width\": 960,\\n          \"height\": 768\\n         },\\n         {\\n          \"url\": \"https://external-preview.redd.it/3PaouiUaxsmdleTTzxRctDAjj77oGSwSaJ6sgteX9A0.jpg?width=1080&amp;crop=smart&amp;auto=webp&amp;v=enabled&amp;s=4ddc9b87c60628dbcd2b5348ca5d2a2d316038de\",\\n          \"width\": 1080,\\n          \"height\": 864\\n         }\\n        ],\\n        \"variants\": {},\\n        \"id\": \"pa5YL4U2ttqABMuGUDdFMAiT20wSBS5Mah19vrPYnQU\"\\n       }\\n      ],\\n      \"enabled\": true\\n     },\\n     \"all_awardings\": [],\\n     \"awarders\": [],\\n     \"media_only\": false,\\n     \"can_gild\": false,\\n     \"spoiler\": false,\\n     \"locked\": false,\\n     \"author_flair_text\": null,\\n     \"treatment_tags\": [],\\n     \"visited\": false,\\n     \"removed_by\": null,\\n     \"num_reports\": null,\\n     \"distinguished\": null,\\n     \"subreddit_id\": \"t5_2rjz2\",\\n     \"author_is_blocked\": false,\\n     \"mod_reason_by\": null,\\n     \"removal_reason\": null,\\n     \"link_flair_background_color\": \"\",\\n     \"id\": \"114e0af\",\\n     \"is_robot_indexable\": true,\\n     \"report_reasons\": null,\\n     \"author\": \"Sami1398\",\\n     \"discussion_type\": null,\\n     \"num_comments\": 9,\\n     \"send_replies\": true,\\n     \"whitelist_status\": \"all_ads\",\\n     \"contest_mode\": false,\\n     \"mod_reports\": [],\\n     \"author_patreon_flair\": false,\\n     \"author_flair_text_color\": null,\\n     \"permalink\": \"/r/gameofthrones/comments/114e0af/an_interesting_similarity_found/\",\\n     \"parent_whitelist_status\": \"all_ads\",\\n     \"stickied\": false,\\n     \"url\": \"https://i.imgur.com/nqZH6a2.jpg\",\\n     \"subreddit_subscribers\": 3205869,\\n     \"created_utc\": 1676620588.0,\\n     \"num_crossposts\": 0,\\n     \"media\": null,\\n     \"is_video\": false\\n    }\\n   },\\n   {\\n    \"kind\": \"t3\",\\n    \"data\": {\\n     \"approved_at_utc\": null,\\n     \"subreddit\": \"gameofthrones\",\\n     \"selftext\": \"\",\\n     \"author_fullname\": \"t2_jy0o75yi\",\\n     \"saved\": false,\\n     \"mod_reason_title\": null,\\n     \"gilded\": 0,\\n     \"clicked\": false,\\n     \"title\": \"What was Little Finger\\\\u2019s ultimate goal?\",\\n     \"link_flair_richtext\": [],\\n     \"subreddit_name_prefixed\": \"r/gameofthrones\",\\n     \"hidden\": false,\\n     \"pwls\": 6,\\n     \"link_flair_css_class\": null,\\n     \"downs\": 0,\\n     \"thumbnail_height\": 93,\\n     \"top_awarded_type\": null,\\n     \"hide_score\": false,\\n     \"name\": \"t3_113fxu7\",\\n     \"quarantine\": false,\\n     \"link_flair_text_color\": \"dark\",\\n     \"upvote_ratio\": 0.93,\\n     \"author_flair_background_color\": null,\\n     \"subreddit_type\": \"public\",\\n     \"ups\": 967,\\n     \"total_awards_received\": 0,\\n     \"media_embed\": {},\\n     \"thumbnail_width\": 140,\\n     \"author_flair_template_id\": null,\\n     \"is_original_content\": false,\\n     \"user_reports\": [],\\n     \"secure_media\": null,\\n     \"is_reddit_media_domain\": true,\\n     \"is_meta\": false,\\n     \"category\": null,\\n     \"secure_media_embed\": {},\\n     \"link_flair_text\": null,\\n     \"can_mod_post\": false,\\n     \"score\": 967,\\n     \"approved_by\": null,\\n     \"is_created_from_ads_ui\": false,\\n     \"author_premium\": false,\\n     \"thumbnail\": \"https://a.thumbs.redditmedia.com/J-IO9N_H-z_T-SO_YNE7Nh6gaewHVrnMlRYkzYyfVP0.jpg\",\\n     \"edited\": false,\\n     \"author_flair_css_class\": null,\\n     \"author_flair_richtext\": [],\\n     \"gildings\": {},\\n     \"post_hint\": \"image\",\\n     \"content_categories\": null,\\n     \"is_self\": false,\\n     \"mod_note\": null,\\n     \"created\": 1676515422.0,\\n     \"link_flair_type\": \"text\",\\n     \"wls\": 6,\\n     \"removed_by_category\": null,\\n     \"banned_by\": null,\\n     \"author_flair_type\": \"text\",\\n     \"domain\": \"i.redd.it\",\\n     \"allow_live_comments\": true,\\n     \"selftext_html\": null,\\n     \"likes\": null,\\n     \"suggested_sort\": null,\\n     \"banned_at_utc\": null,\\n     \"url_overridden_by_dest\": \"https://i.redd.it/9byh5kq39iia1.jpg\",\\n     \"view_count\": null,\\n     \"archived\": false,\\n     \"no_follow\": false,\\n     \"is_crosspostable\": false,\\n     \"pinned\": false,\\n     \"over_18\": false,\\n     \"preview\": {\\n      \"images\": [\\n       {\\n        \"source\": {\\n         \"url\": \"https://preview.redd.it/9byh5kq39iia1.jpg?auto=webp&amp;v=enabled&amp;s=6b83f83132158e5a9768a08bade2ff854c196ac6\",\\n         \"width\": 960,\\n         \"height\": 640\\n        },\\n        \"resolutions\": [\\n         {\\n          \"url\": \"https://preview.redd.it/9byh5kq39iia1.jpg?width=108&amp;crop=smart&amp;auto=webp&amp;v=enabled&amp;s=f5e4ef407f351a1737b439c3c8032064d3afa56a\",\\n          \"width\": 108,\\n          \"height\": 72\\n         },\\n         {\\n          \"url\": \"https://preview.redd.it/9byh5kq39iia1.jpg?width=216&amp;crop=smart&amp;auto=webp&amp;v=enabled&amp;s=d736412bdd9fbb95d1ac04249cb4a17facf73661\",\\n          \"width\": 216,\\n          \"height\": 144\\n         },\\n         {\\n          \"url\": \"https://preview.redd.it/9byh5kq39iia1.jpg?width=320&amp;crop=smart&amp;auto=webp&amp;v=enabled&amp;s=cadecaf8fcee07eb7fbf9e5a1c2d8e97a4453135\",\\n          \"width\": 320,\\n          \"height\": 213\\n         },\\n         {\\n          \"url\": \"https://preview.redd.it/9byh5kq39iia1.jpg?width=640&amp;crop=smart&amp;auto=webp&amp;v=enabled&amp;s=2efc95f85a322ce62143d18fe62589e6e15baee1\",\\n          \"width\": 640,\\n          \"height\": 426\\n         },\\n         {\\n          \"url\": \"https://preview.redd.it/9byh5kq39iia1.jpg?width=960&amp;crop=smart&amp;auto=webp&amp;v=enabled&amp;s=69600c094b613b710cc93a11c9e7542f0c383801\",\\n          \"width\": 960,\\n          \"height\": 640\\n         }\\n        ],\\n        \"variants\": {},\\n        \"id\": \"5ZzwiAGr10Dm-QNKqLPwCkgJ9NSWreQAQdU_FMxwE-c\"\\n       }\\n      ],\\n      \"enabled\": true\\n     },\\n     \"all_awardings\": [],\\n     \"awarders\": [],\\n     \"media_only\": false,\\n     \"can_gild\": false,\\n     \"spoiler\": false,\\n     \"locked\": false,\\n     \"author_flair_text\": null,\\n     \"treatment_tags\": [],\\n     \"visited\": false,\\n     \"removed_by\": null,\\n     \"num_reports\": null,\\n     \"distinguished\": null,\\n     \"subreddit_id\": \"t5_2rjz2\",\\n     \"author_is_blocked\": false,\\n     \"mod_reason_by\": null,\\n     \"removal_reason\": null,\\n     \"link_flair_background_color\": \"\",\\n     \"id\": \"113fxu7\",\\n     \"is_robot_indexable\": true,\\n     \"report_reasons\": null,\\n     \"author\": \"Wesley_Knott1\",\\n     \"discussion_type\": null,\\n     \"num_comments\": 419,\\n     \"send_replies\": true,\\n     \"whitelist_status\": \"all_ads\",\\n     \"contest_mode\": false,\\n     \"mod_reports\": [],\\n     \"author_patreon_flair\": false,\\n     \"author_flair_text_color\": null,\\n     \"permalink\": \"/r/gameofthrones/comments/113fxu7/what_was_little_fingers_ultimate_goal/\",\\n     \"parent_whitelist_status\": \"all_ads\",\\n     \"stickied\": false,\\n     \"url\": \"https://i.redd.it/9byh5kq39iia1.jpg\",\\n     \"subreddit_subscribers\": 3205869,\\n     \"created_utc\": 1676515422.0,\\n     \"num_crossposts\": 0,\\n     \"media\": null,\\n     \"is_video\": false\\n    }\\n   },\\n   {\\n    \"kind\": \"t3\",\\n    \"data\": {\\n     \"approved_at_utc\": null,\\n     \"subreddit\": \"gameofthrones\",\\n     \"selftext\": \"\",\\n     \"author_fullname\": \"t2_fwqz7pa\",\\n     \"saved\": false,\\n     \"mod_reason_title\": null,\\n     \"gilded\": 0,\\n     \"clicked\": false,\\n     \"title\": \"Watching Season 7 Ep 7 - Bronn gets all the best lines\",\\n     \"link_flair_richtext\": [],\\n     \"subreddit_name_prefixed\": \"r/gameofthrones\",\\n     \"hidden\": false,\\n     \"pwls\": 6,\\n     \"link_flair_css_class\": null,\\n     \"downs\": 0,\\n     \"thumbnail_height\": 81,\\n     \"top_awarded_type\": null,\\n     \"hide_score\": false,\\n     \"name\": \"t3_113sp7z\",\\n     \"quarantine\": false,\\n     \"link_flair_text_color\": \"dark\",\\n     \"upvote_ratio\": 0.86,\\n     \"author_flair_background_color\": null,\\n     \"subreddit_type\": \"public\",\\n     \"ups\": 90,\\n     \"total_awards_received\": 0,\\n     \"media_embed\": {},\\n     \"thumbnail_width\": 140,\\n     \"author_flair_template_id\": null,\\n     \"is_original_content\": false,\\n     \"user_reports\": [],\\n     \"secure_media\": null,\\n     \"is_reddit_media_domain\": true,\\n     \"is_meta\": false,\\n     \"category\": null,\\n     \"secure_media_embed\": {},\\n     \"link_flair_text\": null,\\n     \"can_mod_post\": false,\\n     \"score\": 90,\\n     \"approved_by\": null,\\n     \"is_created_from_ads_ui\": false,\\n     \"author_premium\": false,\\n     \"thumbnail\": \"https://a.thumbs.redditmedia.com/jf8fjooNJkQ10Cdiew-fSckQEYIzxotAmN2_Zj3xIN8.jpg\",\\n     \"edited\": false,\\n     \"author_flair_css_class\": null,\\n     \"author_flair_richtext\": [],\\n     \"gildings\": {},\\n     \"post_hint\": \"image\",\\n     \"content_categories\": null,\\n     \"is_self\": false,\\n     \"mod_note\": null,\\n     \"created\": 1676559945.0,\\n     \"link_flair_type\": \"text\",\\n     \"wls\": 6,\\n     \"removed_by_category\": null,\\n     \"banned_by\": null,\\n     \"author_flair_type\": \"text\",\\n     \"domain\": \"i.redd.it\",\\n     \"allow_live_comments\": false,\\n     \"selftext_html\": null,\\n     \"likes\": null,\\n     \"suggested_sort\": null,\\n     \"banned_at_utc\": null,\\n     \"url_overridden_by_dest\": \"https://i.redd.it/7whs62qhxlia1.jpg\",\\n     \"view_count\": null,\\n     \"archived\": false,\\n     \"no_follow\": false,\\n     \"is_crosspostable\": false,\\n     \"pinned\": false,\\n     \"over_18\": false,\\n     \"preview\": {\\n      \"images\": [\\n       {\\n        \"source\": {\\n         \"url\": \"https://preview.redd.it/7whs62qhxlia1.jpg?auto=webp&amp;v=enabled&amp;s=5743152157568b3e1bb6dc655bb88adcdebb2b4b\",\\n         \"width\": 1146,\\n         \"height\": 667\\n        },\\n        \"resolutions\": [\\n         {\\n          \"url\": \"https://preview.redd.it/7whs62qhxlia1.jpg?width=108&amp;crop=smart&amp;auto=webp&amp;v=enabled&amp;s=99f3670ce9c5507e504421f38cbddbdae1ecac62\",\\n          \"width\": 108,\\n          \"height\": 62\\n         },\\n         {\\n          \"url\": \"https://preview.redd.it/7whs62qhxlia1.jpg?width=216&amp;crop=smart&amp;auto=webp&amp;v=enabled&amp;s=a143fca748b7f3191b89da6489d7d9aaf5b4cec6\",\\n          \"width\": 216,\\n          \"height\": 125\\n         },\\n         {\\n          \"url\": \"https://preview.redd.it/7whs62qhxlia1.jpg?width=320&amp;crop=smart&amp;auto=webp&amp;v=enabled&amp;s=fbe7bbb971367edbc5bea37a586b4a86ed0df0b6\",\\n          \"width\": 320,\\n          \"height\": 186\\n         },\\n         {\\n          \"url\": \"https://preview.redd.it/7whs62qhxlia1.jpg?width=640&amp;crop=smart&amp;auto=webp&amp;v=enabled&amp;s=4cec0febee8332cedb9d2e0b631d41ff84374219\",\\n          \"width\": 640,\\n          \"height\": 372\\n         },\\n         {\\n          \"url\": \"https://preview.redd.it/7whs62qhxlia1.jpg?width=960&amp;crop=smart&amp;auto=webp&amp;v=enabled&amp;s=cd7bda2c1e02b915544e71a0d4caa98e641ca526\",\\n          \"width\": 960,\\n          \"height\": 558\\n         },\\n         {\\n          \"url\": \"https://preview.redd.it/7whs62qhxlia1.jpg?width=1080&amp;crop=smart&amp;auto=webp&amp;v=enabled&amp;s=f2bc5e19e68e274a8399b0488251a3ac3fae5680\",\\n          \"width\": 1080,\\n          \"height\": 628\\n         }\\n        ],\\n        \"variants\": {},\\n        \"id\": \"AGyO5n-9wQvfSDwkyfKiV_ILtRBNo7eQbBlOMuB-4Uc\"\\n       }\\n      ],\\n      \"enabled\": true\\n     },\\n     \"all_awardings\": [],\\n     \"awarders\": [],\\n     \"media_only\": false,\\n     \"can_gild\": false,\\n     \"spoiler\": false,\\n     \"locked\": false,\\n     \"author_flair_text\": null,\\n     \"treatment_tags\": [],\\n     \"visited\": false,\\n     \"removed_by\": null,\\n     \"num_reports\": null,\\n     \"distinguished\": null,\\n     \"subreddit_id\": \"t5_2rjz2\",\\n     \"author_is_blocked\": false,\\n     \"mod_reason_by\": null,\\n     \"removal_reason\": null,\\n     \"link_flair_background_color\": \"\",\\n     \"id\": \"113sp7z\",\\n     \"is_robot_indexable\": true,\\n     \"report_reasons\": null,\\n     \"author\": \"JP-ED\",\\n     \"discussion_type\": null,\\n     \"num_comments\": 18,\\n     \"send_replies\": true,\\n     \"whitelist_status\": \"all_ads\",\\n     \"contest_mode\": false,\\n     \"mod_reports\": [],\\n     \"author_patreon_flair\": false,\\n     \"author_flair_text_color\": null,\\n     \"permalink\": \"/r/gameofthrones/comments/113sp7z/watching_season_7_ep_7_bronn_gets_all_the_best/\",\\n     \"parent_whitelist_status\": \"all_ads\",\\n     \"stickied\": false,\\n     \"url\": \"https://i.redd.it/7whs62qhxlia1.jpg\",\\n     \"subreddit_subscribers\": 3205869,\\n     \"created_utc\": 1676559945.0,\\n     \"num_crossposts\": 0,\\n     \"media\": null,\\n     \"is_video\": false\\n    }\\n   },\\n   {\\n    \"kind\": \"t3\",\\n    \"data\": {\\n     \"approved_at_utc\": null,\\n     \"subreddit\": \"gameofthrones\",\\n     \"selftext\": \"\",\\n     \"author_fullname\": \"t2_dafvdc3d\",\\n     \"saved\": false,\\n     \"mod_reason_title\": null,\\n     \"gilded\": 0,\\n     \"clicked\": false,\\n     \"title\": \"16 year olds in Westeros\",\\n     \"link_flair_richtext\": [],\\n     \"subreddit_name_prefixed\": \"r/gameofthrones\",\\n     \"hidden\": false,\\n     \"pwls\": 6,\\n     \"link_flair_css_class\": null,\\n     \"downs\": 0,\\n     \"thumbnail_height\": 140,\\n     \"top_awarded_type\": null,\\n     \"hide_score\": false,\\n     \"name\": \"t3_112x87l\",\\n     \"quarantine\": false,\\n     \"link_flair_text_color\": \"dark\",\\n     \"upvote_ratio\": 0.97,\\n     \"author_flair_background_color\": \"transparent\",\\n     \"subreddit_type\": \"public\",\\n     \"ups\": 10047,\\n     \"total_awards_received\": 0,\\n     \"media_embed\": {},\\n     \"thumbnail_width\": 140,\\n     \"author_flair_template_id\": \"8f449296-0978-11e9-9d95-0e6e4488e848\",\\n     \"is_original_content\": false,\\n     \"user_reports\": [],\\n     \"secure_media\": null,\\n     \"is_reddit_media_domain\": true,\\n     \"is_meta\": false,\\n     \"category\": null,\\n     \"secure_media_embed\": {},\\n     \"link_flair_text\": null,\\n     \"can_mod_post\": false,\\n     \"score\": 10047,\\n     \"approved_by\": null,\\n     \"is_created_from_ads_ui\": false,\\n     \"author_premium\": false,\\n     \"thumbnail\": \"https://b.thumbs.redditmedia.com/-8dIlXtIb0cYJiAtnPXQ7v5H5VUHekss5Z_3RZ2Rv1w.jpg\",\\n     \"edited\": false,\\n     \"author_flair_css_class\": null,\\n     \"author_flair_richtext\": [\\n      {\\n       \"a\": \":Targaryen:\",\\n       \"e\": \"emoji\",\\n       \"u\": \"https://emoji.redditmedia.com/p77ls757rte21_t5_2rjz2/Targaryen\"\\n      },\\n      {\\n       \"e\": \"text\",\\n       \"t\": \" House Targaryen\"\\n      }\\n     ],\\n     \"gildings\": {},\\n     \"post_hint\": \"image\",\\n     \"content_categories\": null,\\n     \"is_self\": false,\\n     \"mod_note\": null,\\n     \"created\": 1676465281.0,\\n     \"link_flair_type\": \"text\",\\n     \"wls\": 6,\\n     \"removed_by_category\": null,\\n     \"banned_by\": null,\\n     \"author_flair_type\": \"richtext\",\\n     \"domain\": \"i.redd.it\",\\n     \"allow_live_comments\": true,\\n     \"selftext_html\": null,\\n     \"likes\": null,\\n     \"suggested_sort\": null,\\n     \"banned_at_utc\": null,\\n     \"url_overridden_by_dest\": \"https://i.redd.it/alwgx2604eia1.jpg\",\\n     \"view_count\": null,\\n     \"archived\": false,\\n     \"no_follow\": false,\\n     \"is_crosspostable\": false,\\n     \"pinned\": false,\\n     \"over_18\": false,\\n     \"preview\": {\\n      \"images\": [\\n       {\\n        \"source\": {\\n         \"url\": \"https://preview.redd.it/alwgx2604eia1.jpg?auto=webp&amp;v=enabled&amp;s=f0da116a73dd3b9b3ba8e22f4a37727dadf59650\",\\n         \"width\": 3564,\\n         \"height\": 3564\\n        },\\n        \"resolutions\": [\\n         {\\n          \"url\": \"https://preview.redd.it/alwgx2604eia1.jpg?width=108&amp;crop=smart&amp;auto=webp&amp;v=enabled&amp;s=fde19440b220a6c6449fa46fb23edf8645441858\",\\n          \"width\": 108,\\n          \"height\": 108\\n         },\\n         {\\n          \"url\": \"https://preview.redd.it/alwgx2604eia1.jpg?width=216&amp;crop=smart&amp;auto=webp&amp;v=enabled&amp;s=074747c32effab42056a54491120d7f78a12b70f\",\\n          \"width\": 216,\\n          \"height\": 216\\n         },\\n         {\\n          \"url\": \"https://preview.redd.it/alwgx2604eia1.jpg?width=320&amp;crop=smart&amp;auto=webp&amp;v=enabled&amp;s=8941c78cf943165bd9c2ee55d27dba4dffa4220f\",\\n          \"width\": 320,\\n          \"height\": 320\\n         },\\n         {\\n          \"url\": \"https://preview.redd.it/alwgx2604eia1.jpg?width=640&amp;crop=smart&amp;auto=webp&amp;v=enabled&amp;s=693eb890b5fda3a0f2452aac8d933c1dd4c4b2a1\",\\n          \"width\": 640,\\n          \"height\": 640\\n         },\\n         {\\n          \"url\": \"https://preview.redd.it/alwgx2604eia1.jpg?width=960&amp;crop=smart&amp;auto=webp&amp;v=enabled&amp;s=88e5fbcc98c7eb71d7b9e3c834cfc9dcafb0d9c7\",\\n          \"width\": 960,\\n          \"height\": 960\\n         },\\n         {\\n          \"url\": \"https://preview.redd.it/alwgx2604eia1.jpg?width=1080&amp;crop=smart&amp;auto=webp&amp;v=enabled&amp;s=e893d8a0134dd120ea92177c025d35f75add5b52\",\\n          \"width\": 1080,\\n          \"height\": 1080\\n         }\\n        ],\\n        \"variants\": {},\\n        \"id\": \"FUMv2kCIun91UTPwleHG5zBRIRkjbcyd7-bKiU5r13g\"\\n       }\\n      ],\\n      \"enabled\": true\\n     },\\n     \"all_awardings\": [],\\n     \"awarders\": [],\\n     \"media_only\": false,\\n     \"can_gild\": false,\\n     \"spoiler\": false,\\n     \"locked\": false,\\n     \"author_flair_text\": \":Targaryen: House Targaryen\",\\n     \"treatment_tags\": [],\\n     \"visited\": false,\\n     \"removed_by\": null,\\n     \"num_reports\": null,\\n     \"distinguished\": null,\\n     \"subreddit_id\": \"t5_2rjz2\",\\n     \"author_is_blocked\": false,\\n     \"mod_reason_by\": null,\\n     \"removal_reason\": null,\\n     \"link_flair_background_color\": \"\",\\n     \"id\": \"112x87l\",\\n     \"is_robot_indexable\": true,\\n     \"report_reasons\": null,\\n     \"author\": \"Outside_Slide_3218\",\\n     \"discussion_type\": null,\\n     \"num_comments\": 374,\\n     \"send_replies\": true,\\n     \"whitelist_status\": \"all_ads\",\\n     \"contest_mode\": false,\\n     \"mod_reports\": [],\\n     \"author_patreon_flair\": false,\\n     \"author_flair_text_color\": \"dark\",\\n     \"permalink\": \"/r/gameofthrones/comments/112x87l/16_year_olds_in_westeros/\",\\n     \"parent_whitelist_status\": \"all_ads\",\\n     \"stickied\": false,\\n     \"url\": \"https://i.redd.it/alwgx2604eia1.jpg\",\\n     \"subreddit_subscribers\": 3205869,\\n     \"created_utc\": 1676465281.0,\\n     \"num_crossposts\": 0,\\n     \"media\": null,\\n     \"is_video\": false\\n    }\\n   },\\n   {\\n    \"kind\": \"t3\",\\n    \"data\": {\\n     \"approved_at_utc\": null,\\n     \"subreddit\": \"gameofthrones\",\\n     \"selftext\": \"\",\\n     \"author_fullname\": \"t2_a90rcn1v\",\\n     \"saved\": false,\\n     \"mod_reason_title\": null,\\n     \"gilded\": 0,\\n     \"clicked\": false,\\n     \"title\": \"What is your favorite throne from the show?\",\\n     \"link_flair_richtext\": [],\\n     \"subreddit_name_prefixed\": \"r/gameofthrones\",\\n     \"hidden\": false,\\n     \"pwls\": 6,\\n     \"link_flair_css_class\": null,\\n     \"downs\": 0,\\n     \"thumbnail_height\": 140,\\n     \"top_awarded_type\": null,\\n     \"hide_score\": false,\\n     \"name\": \"t3_1141fda\",\\n     \"quarantine\": false,\\n     \"link_flair_text_color\": \"dark\",\\n     \"upvote_ratio\": 0.81,\\n     \"author_flair_background_color\": null,\\n     \"subreddit_type\": \"public\",\\n     \"ups\": 16,\\n     \"total_awards_received\": 0,\\n     \"media_embed\": {},\\n     \"thumbnail_width\": 140,\\n     \"author_flair_template_id\": null,\\n     \"is_original_content\": false,\\n     \"user_reports\": [],\\n     \"secure_media\": null,\\n     \"is_reddit_media_domain\": true,\\n     \"is_meta\": false,\\n     \"category\": null,\\n     \"secure_media_embed\": {},\\n     \"link_flair_text\": null,\\n     \"can_mod_post\": false,\\n     \"score\": 16,\\n     \"approved_by\": null,\\n     \"is_created_from_ads_ui\": false,\\n     \"author_premium\": false,\\n     \"thumbnail\": \"https://b.thumbs.redditmedia.com/RUXuerQQpkLfJfyONmFqKiN_fFIV4d7QZDX0DTJu8no.jpg\",\\n     \"edited\": false,\\n     \"author_flair_css_class\": null,\\n     \"author_flair_richtext\": [],\\n     \"gildings\": {},\\n     \"post_hint\": \"image\",\\n     \"content_categories\": null,\\n     \"is_self\": false,\\n     \"mod_note\": null,\\n     \"created\": 1676582403.0,\\n     \"link_flair_type\": \"text\",\\n     \"wls\": 6,\\n     \"removed_by_category\": null,\\n     \"banned_by\": null,\\n     \"author_flair_type\": \"text\",\\n     \"domain\": \"i.redd.it\",\\n     \"allow_live_comments\": false,\\n     \"selftext_html\": null,\\n     \"likes\": null,\\n     \"suggested_sort\": null,\\n     \"banned_at_utc\": null,\\n     \"url_overridden_by_dest\": \"https://i.redd.it/pymtnap9snia1.jpg\",\\n     \"view_count\": null,\\n     \"archived\": false,\\n     \"no_follow\": false,\\n     \"is_crosspostable\": false,\\n     \"pinned\": false,\\n     \"over_18\": false,\\n     \"preview\": {\\n      \"images\": [\\n       {\\n        \"source\": {\\n         \"url\": \"https://preview.redd.it/pymtnap9snia1.jpg?auto=webp&amp;v=enabled&amp;s=c19ef2fd5618de16f42d088a806af6b0491bbdf8\",\\n         \"width\": 1200,\\n         \"height\": 1797\\n        },\\n        \"resolutions\": [\\n         {\\n          \"url\": \"https://preview.redd.it/pymtnap9snia1.jpg?width=108&amp;crop=smart&amp;auto=webp&amp;v=enabled&amp;s=7ab22bf67a3b0ca2f4ad1076ccfc0d5f54ccc48f\",\\n          \"width\": 108,\\n          \"height\": 161\\n         },\\n         {\\n          \"url\": \"https://preview.redd.it/pymtnap9snia1.jpg?width=216&amp;crop=smart&amp;auto=webp&amp;v=enabled&amp;s=0dd3601da8fba0978351cf80ac1ef77160a5eb37\",\\n          \"width\": 216,\\n          \"height\": 323\\n         },\\n         {\\n          \"url\": \"https://preview.redd.it/pymtnap9snia1.jpg?width=320&amp;crop=smart&amp;auto=webp&amp;v=enabled&amp;s=c4c63ed4fcc6959d0f3c92410973143f1ece8c0e\",\\n          \"width\": 320,\\n          \"height\": 479\\n         },\\n         {\\n          \"url\": \"https://preview.redd.it/pymtnap9snia1.jpg?width=640&amp;crop=smart&amp;auto=webp&amp;v=enabled&amp;s=4a993a6c88f9417864b1344915ca181b889673b8\",\\n          \"width\": 640,\\n          \"height\": 958\\n         },\\n         {\\n          \"url\": \"https://preview.redd.it/pymtnap9snia1.jpg?width=960&amp;crop=smart&amp;auto=webp&amp;v=enabled&amp;s=8b856cba89937642b617066088d68e485c24e55b\",\\n          \"width\": 960,\\n          \"height\": 1437\\n         },\\n         {\\n          \"url\": \"https://preview.redd.it/pymtnap9snia1.jpg?width=1080&amp;crop=smart&amp;auto=webp&amp;v=enabled&amp;s=5b75179ad3890f9eeab65fbada7b4c8dc46c8a81\",\\n          \"width\": 1080,\\n          \"height\": 1617\\n         }\\n        ],\\n        \"variants\": {},\\n        \"id\": \"i2Y02XUfP9rjFQl0etVTU23usfc4SXNjIOQDIJWGDcc\"\\n       }\\n      ],\\n      \"enabled\": true\\n     },\\n     \"all_awardings\": [],\\n     \"awarders\": [],\\n     \"media_only\": false,\\n     \"can_gild\": false,\\n     \"spoiler\": false,\\n     \"locked\": false,\\n     \"author_flair_text\": null,\\n     \"treatment_tags\": [],\\n     \"visited\": false,\\n     \"removed_by\": null,\\n     \"num_reports\": null,\\n     \"distinguished\": null,\\n     \"subreddit_id\": \"t5_2rjz2\",\\n     \"author_is_blocked\": false,\\n     \"mod_reason_by\": null,\\n     \"removal_reason\": null,\\n     \"link_flair_background_color\": \"\",\\n     \"id\": \"1141fda\",\\n     \"is_robot_indexable\": true,\\n     \"report_reasons\": null,\\n     \"author\": \"Simple_Feature2229\",\\n     \"discussion_type\": null,\\n     \"num_comments\": 10,\\n     \"send_replies\": true,\\n     \"whitelist_status\": \"all_ads\",\\n     \"contest_mode\": false,\\n     \"mod_reports\": [],\\n     \"author_patreon_flair\": false,\\n     \"author_flair_text_color\": null,\\n     \"permalink\": \"/r/gameofthrones/comments/1141fda/what_is_your_favorite_throne_from_the_show/\",\\n     \"parent_whitelist_status\": \"all_ads\",\\n     \"stickied\": false,\\n     \"url\": \"https://i.redd.it/pymtnap9snia1.jpg\",\\n     \"subreddit_subscribers\": 3205869,\\n     \"created_utc\": 1676582403.0,\\n     \"num_crossposts\": 0,\\n     \"media\": null,\\n     \"is_video\": false\\n    }\\n   },\\n   {\\n    \"kind\": \"t3\",\\n    \"data\": {\\n     \"approved_at_utc\": null,\\n     \"subreddit\": \"gameofthrones\",\\n     \"selftext\": \"Tell me your favorite House words and sigil? \\\\n\\\\nand\\\\n\\\\nYour least favorite House words and sigil?\\\\n\\\\nMy favorites ones are probably House Stark\\'s direwolf and \\\\\"winter is coming\\\\\" and House Martell\\'s sun pierced by a spear and \\\\\"unbowed unbent unbroken\\\\\".\\\\n\\\\nhttps://preview.redd.it/2wyh85b7wlia1.png?width=894&amp;format=png&amp;auto=webp&amp;v=enabled&amp;s=3f38fb05f29a77560408a4c2b3eadbcbda0b1013\",\\n     \"author_fullname\": \"t2_e6amaj7i\",\\n     \"saved\": false,\\n     \"mod_reason_title\": null,\\n     \"gilded\": 0,\\n     \"clicked\": false,\\n     \"title\": \"Favorite House Words and Sigil?\",\\n     \"link_flair_richtext\": [],\\n     \"subreddit_name_prefixed\": \"r/gameofthrones\",\\n     \"hidden\": false,\\n     \"pwls\": 6,\\n     \"link_flair_css_class\": null,\\n     \"downs\": 0,\\n     \"thumbnail_height\": 46,\\n     \"top_awarded_type\": null,\\n     \"hide_score\": false,\\n     \"media_metadata\": {\\n      \"2wyh85b7wlia1\": {\\n       \"status\": \"valid\",\\n       \"e\": \"Image\",\\n       \"m\": \"image/png\",\\n       \"p\": [\\n        {\\n         \"y\": 36,\\n         \"x\": 108,\\n         \"u\": \"https://preview.redd.it/2wyh85b7wlia1.png?width=108&amp;crop=smart&amp;auto=webp&amp;v=enabled&amp;s=f298b199e61f05f36f764d8c7a17b235bfa29a41\"\\n        },\\n        {\\n         \"y\": 72,\\n         \"x\": 216,\\n         \"u\": \"https://preview.redd.it/2wyh85b7wlia1.png?width=216&amp;crop=smart&amp;auto=webp&amp;v=enabled&amp;s=cddf9a8caacbc4b7e062d9ba00033cbf0ecb5f74\"\\n        },\\n        {\\n         \"y\": 107,\\n         \"x\": 320,\\n         \"u\": \"https://preview.redd.it/2wyh85b7wlia1.png?width=320&amp;crop=smart&amp;auto=webp&amp;v=enabled&amp;s=a46ba04e2c444bc8dbe82b10227a95a53639ed08\"\\n        },\\n        {\\n         \"y\": 214,\\n         \"x\": 640,\\n         \"u\": \"https://preview.redd.it/2wyh85b7wlia1.png?width=640&amp;crop=smart&amp;auto=webp&amp;v=enabled&amp;s=6fe36d31393449703cd5d9db103905a00edbde4b\"\\n        }\\n       ],\\n       \"s\": {\\n        \"y\": 299,\\n        \"x\": 894,\\n        \"u\": \"https://preview.redd.it/2wyh85b7wlia1.png?width=894&amp;format=png&amp;auto=webp&amp;v=enabled&amp;s=3f38fb05f29a77560408a4c2b3eadbcbda0b1013\"\\n       },\\n       \"id\": \"2wyh85b7wlia1\"\\n      }\\n     },\\n     \"name\": \"t3_113zo2u\",\\n     \"quarantine\": false,\\n     \"link_flair_text_color\": \"dark\",\\n     \"upvote_ratio\": 1.0,\\n     \"author_flair_background_color\": null,\\n     \"subreddit_type\": \"public\",\\n     \"ups\": 20,\\n     \"total_awards_received\": 0,\\n     \"media_embed\": {},\\n     \"thumbnail_width\": 140,\\n     \"author_flair_template_id\": null,\\n     \"is_original_content\": false,\\n     \"user_reports\": [],\\n     \"secure_media\": null,\\n     \"is_reddit_media_domain\": false,\\n     \"is_meta\": false,\\n     \"category\": null,\\n     \"secure_media_embed\": {},\\n     \"link_flair_text\": null,\\n     \"can_mod_post\": false,\\n     \"score\": 20,\\n     \"approved_by\": null,\\n     \"is_created_from_ads_ui\": false,\\n     \"author_premium\": false,\\n     \"thumbnail\": \"https://b.thumbs.redditmedia.com/fTbXPBPmIHWkZvSxdGl7Hk1Qao9KRwQZ4UbquLyrOFw.jpg\",\\n     \"edited\": false,\\n     \"author_flair_css_class\": null,\\n     \"author_flair_richtext\": [],\\n     \"gildings\": {},\\n     \"content_categories\": null,\\n     \"is_self\": true,\\n     \"mod_note\": null,\\n     \"created\": 1676577891.0,\\n     \"link_flair_type\": \"text\",\\n     \"wls\": 6,\\n     \"removed_by_category\": null,\\n     \"banned_by\": null,\\n     \"author_flair_type\": \"text\",\\n     \"domain\": \"self.gameofthrones\",\\n     \"allow_live_comments\": false,\\n     \"selftext_html\": \"&lt;!-- SC_OFF --&gt;&lt;div class=\\\\\"md\\\\\"&gt;&lt;p&gt;Tell me your favorite House words and sigil? &lt;/p&gt;\\\\n\\\\n&lt;p&gt;and&lt;/p&gt;\\\\n\\\\n&lt;p&gt;Your least favorite House words and sigil?&lt;/p&gt;\\\\n\\\\n&lt;p&gt;My favorites ones are probably House Stark&amp;#39;s direwolf and &amp;quot;winter is coming&amp;quot; and House Martell&amp;#39;s sun pierced by a spear and &amp;quot;unbowed unbent unbroken&amp;quot;.&lt;/p&gt;\\\\n\\\\n&lt;p&gt;&lt;a href=\\\\\"https://preview.redd.it/2wyh85b7wlia1.png?width=894&amp;amp;format=png&amp;amp;auto=webp&amp;amp;v=enabled&amp;amp;s=3f38fb05f29a77560408a4c2b3eadbcbda0b1013\\\\\"&gt;https://preview.redd.it/2wyh85b7wlia1.png?width=894&amp;amp;format=png&amp;amp;auto=webp&amp;amp;v=enabled&amp;amp;s=3f38fb05f29a77560408a4c2b3eadbcbda0b1013&lt;/a&gt;&lt;/p&gt;\\\\n&lt;/div&gt;&lt;!-- SC_ON --&gt;\",\\n     \"likes\": null,\\n     \"suggested_sort\": null,\\n     \"banned_at_utc\": null,\\n     \"view_count\": null,\\n     \"archived\": false,\\n     \"no_follow\": false,\\n     \"is_crosspostable\": false,\\n     \"pinned\": false,\\n     \"over_18\": false,\\n     \"all_awardings\": [],\\n     \"awarders\": [],\\n     \"media_only\": false,\\n     \"can_gild\": false,\\n     \"spoiler\": false,\\n     \"locked\": false,\\n     \"author_flair_text\": null,\\n     \"treatment_tags\": [],\\n     \"visited\": false,\\n     \"removed_by\": null,\\n     \"num_reports\": null,\\n     \"distinguished\": null,\\n     \"subreddit_id\": \"t5_2rjz2\",\\n     \"author_is_blocked\": false,\\n     \"mod_reason_by\": null,\\n     \"removal_reason\": null,\\n     \"link_flair_background_color\": \"\",\\n     \"id\": \"113zo2u\",\\n     \"is_robot_indexable\": true,\\n     \"report_reasons\": null,\\n     \"author\": \"EstherRaichel\",\\n     \"discussion_type\": null,\\n     \"num_comments\": 49,\\n     \"send_replies\": true,\\n     \"whitelist_status\": \"all_ads\",\\n     \"contest_mode\": false,\\n     \"mod_reports\": [],\\n     \"author_patreon_flair\": false,\\n     \"author_flair_text_color\": null,\\n     \"permalink\": \"/r/gameofthrones/comments/113zo2u/favorite_house_words_and_sigil/\",\\n     \"parent_whitelist_status\": \"all_ads\",\\n     \"stickied\": false,\\n     \"url\": \"https://www.reddit.com/r/gameofthrones/comments/113zo2u/favorite_house_words_and_sigil/\",\\n     \"subreddit_subscribers\": 3205869,\\n     \"created_utc\": 1676577891.0,\\n     \"num_crossposts\": 0,\\n     \"media\": null,\\n     \"is_video\": false\\n    }\\n   },\\n   {\\n    \"kind\": \"t3\",\\n    \"data\": {\\n     \"approved_at_utc\": null,\\n     \"subreddit\": \"gameofthrones\",\\n     \"selftext\": \"\",\\n     \"author_fullname\": \"t2_bu1zhs63\",\\n     \"saved\": false,\\n     \"mod_reason_title\": null,\\n     \"gilded\": 0,\\n     \"clicked\": false,\\n     \"title\": \"Who do you think was a better king - Robert Baratheon or Viserys Targaryen?\",\\n     \"link_flair_richtext\": [],\\n     \"subreddit_name_prefixed\": \"r/gameofthrones\",\\n     \"hidden\": false,\\n     \"pwls\": 6,\\n     \"link_flair_css_class\": null,\\n     \"downs\": 0,\\n     \"thumbnail_height\": 78,\\n     \"top_awarded_type\": null,\\n     \"hide_score\": false,\\n     \"name\": \"t3_113dsps\",\\n     \"quarantine\": false,\\n     \"link_flair_text_color\": \"dark\",\\n     \"upvote_ratio\": 0.93,\\n     \"author_flair_background_color\": null,\\n     \"subreddit_type\": \"public\",\\n     \"ups\": 639,\\n     \"total_awards_received\": 0,\\n     \"media_embed\": {},\\n     \"thumbnail_width\": 140,\\n     \"author_flair_template_id\": null,\\n     \"is_original_content\": false,\\n     \"user_reports\": [],\\n     \"secure_media\": null,\\n     \"is_reddit_media_domain\": true,\\n     \"is_meta\": false,\\n     \"category\": null,\\n     \"secure_media_embed\": {},\\n     \"link_flair_text\": null,\\n     \"can_mod_post\": false,\\n     \"score\": 639,\\n     \"approved_by\": null,\\n     \"is_created_from_ads_ui\": false,\\n     \"author_premium\": false,\\n     \"thumbnail\": \"https://b.thumbs.redditmedia.com/4sL2V8M7x0GlEL5v2YGy9waRZOkWw6o_N93PUQFT8_M.jpg\",\\n     \"edited\": false,\\n     \"author_flair_css_class\": null,\\n     \"author_flair_richtext\": [],\\n     \"gildings\": {},\\n     \"post_hint\": \"image\",\\n     \"content_categories\": null,\\n     \"is_self\": false,\\n     \"mod_note\": null,\\n     \"created\": 1676509050.0,\\n     \"link_flair_type\": \"text\",\\n     \"wls\": 6,\\n     \"removed_by_category\": null,\\n     \"banned_by\": null,\\n     \"author_flair_type\": \"text\",\\n     \"domain\": \"i.redd.it\",\\n     \"allow_live_comments\": true,\\n     \"selftext_html\": null,\\n     \"likes\": null,\\n     \"suggested_sort\": null,\\n     \"banned_at_utc\": null,\\n     \"url_overridden_by_dest\": \"https://i.redd.it/qibgjsii8gia1.png\",\\n     \"view_count\": null,\\n     \"archived\": false,\\n     \"no_follow\": false,\\n     \"is_crosspostable\": false,\\n     \"pinned\": false,\\n     \"over_18\": false,\\n     \"preview\": {\\n      \"images\": [\\n       {\\n        \"source\": {\\n         \"url\": \"https://preview.redd.it/qibgjsii8gia1.png?auto=webp&amp;v=enabled&amp;s=8a244a9634fae46b2289ff8f0457df580155da36\",\\n         \"width\": 960,\\n         \"height\": 540\\n        },\\n        \"resolutions\": [\\n         {\\n          \"url\": \"https://preview.redd.it/qibgjsii8gia1.png?width=108&amp;crop=smart&amp;auto=webp&amp;v=enabled&amp;s=cc299b5ee2799eb4e7fac92fa24abe75756bb7aa\",\\n          \"width\": 108,\\n          \"height\": 60\\n         },\\n         {\\n          \"url\": \"https://preview.redd.it/qibgjsii8gia1.png?width=216&amp;crop=smart&amp;auto=webp&amp;v=enabled&amp;s=5ab457f3772d04b900b293362e112fe016164d7a\",\\n          \"width\": 216,\\n          \"height\": 121\\n         },\\n         {\\n          \"url\": \"https://preview.redd.it/qibgjsii8gia1.png?width=320&amp;crop=smart&amp;auto=webp&amp;v=enabled&amp;s=ee945a533a50bb04dee293c3bbf4359667824554\",\\n          \"width\": 320,\\n          \"height\": 180\\n         },\\n         {\\n          \"url\": \"https://preview.redd.it/qibgjsii8gia1.png?width=640&amp;crop=smart&amp;auto=webp&amp;v=enabled&amp;s=ff383d847fd444a75e916bbdf319a842e1df5dc9\",\\n          \"width\": 640,\\n          \"height\": 360\\n         },\\n         {\\n          \"url\": \"https://preview.redd.it/qibgjsii8gia1.png?width=960&amp;crop=smart&amp;auto=webp&amp;v=enabled&amp;s=6453bde53dddf185a2d6a8349e87c07dab650815\",\\n          \"width\": 960,\\n          \"height\": 540\\n         }\\n        ],\\n        \"variants\": {},\\n        \"id\": \"UnWoQqNAQBCRjHlu2gfrb7qJmJ5DBfr0YX--qOhQOt8\"\\n       }\\n      ],\\n      \"enabled\": true\\n     },\\n     \"all_awardings\": [],\\n     \"awarders\": [],\\n     \"media_only\": false,\\n     \"can_gild\": false,\\n     \"spoiler\": false,\\n     \"locked\": false,\\n     \"author_flair_text\": null,\\n     \"treatment_tags\": [],\\n     \"visited\": false,\\n     \"removed_by\": null,\\n     \"num_reports\": null,\\n     \"distinguished\": null,\\n     \"subreddit_id\": \"t5_2rjz2\",\\n     \"author_is_blocked\": false,\\n     \"mod_reason_by\": null,\\n     \"removal_reason\": null,\\n     \"link_flair_background_color\": \"\",\\n     \"id\": \"113dsps\",\\n     \"is_robot_indexable\": true,\\n     \"report_reasons\": null,\\n     \"author\": \"Ifuckinghateaura\",\\n     \"discussion_type\": null,\\n     \"num_comments\": 331,\\n     \"send_replies\": true,\\n     \"whitelist_status\": \"all_ads\",\\n     \"contest_mode\": false,\\n     \"mod_reports\": [],\\n     \"author_patreon_flair\": false,\\n     \"author_flair_text_color\": null,\\n     \"permalink\": \"/r/gameofthrones/comments/113dsps/who_do_you_think_was_a_better_king_robert/\",\\n     \"parent_whitelist_status\": \"all_ads\",\\n     \"stickied\": false,\\n     \"url\": \"https://i.redd.it/qibgjsii8gia1.png\",\\n     \"subreddit_subscribers\": 3205869,\\n     \"created_utc\": 1676509050.0,\\n     \"num_crossposts\": 0,\\n     \"media\": null,\\n     \"is_video\": false\\n    }\\n   },\\n   {\\n    \"kind\": \"t3\",\\n    \"data\": {\\n     \"approved_at_utc\": null,\\n     \"subreddit\": \"gameofthrones\",\\n     \"selftext\": \"During the part where Jon Snow is hailed as the king in the north,lady mormont had the courage and balls as a little girl herself to criticise the other houses and stay loyal to the Starks.\",\\n     \"author_fullname\": \"t2_5g34gfq6\",\\n     \"saved\": false,\\n     \"mod_reason_title\": null,\\n     \"gilded\": 0,\\n     \"clicked\": false,\\n     \"title\": \"Lady Mormont had the biggest balls in a hall filled with leaders of minor houses and Jon Snow\",\\n     \"link_flair_richtext\": [],\\n     \"subreddit_name_prefixed\": \"r/gameofthrones\",\\n     \"hidden\": false,\\n     \"pwls\": 6,\\n     \"link_flair_css_class\": null,\\n     \"downs\": 0,\\n     \"thumbnail_height\": null,\\n     \"top_awarded_type\": null,\\n     \"hide_score\": false,\\n     \"name\": \"t3_113zopv\",\\n     \"quarantine\": false,\\n     \"link_flair_text_color\": \"dark\",\\n     \"upvote_ratio\": 0.75,\\n     \"author_flair_background_color\": \"transparent\",\\n     \"subreddit_type\": \"public\",\\n     \"ups\": 18,\\n     \"total_awards_received\": 0,\\n     \"media_embed\": {},\\n     \"thumbnail_width\": null,\\n     \"author_flair_template_id\": \"76b3f22a-1e8c-11e9-b0b3-0eca44787258\",\\n     \"is_original_content\": false,\\n     \"user_reports\": [],\\n     \"secure_media\": null,\\n     \"is_reddit_media_domain\": false,\\n     \"is_meta\": false,\\n     \"category\": null,\\n     \"secure_media_embed\": {},\\n     \"link_flair_text\": null,\\n     \"can_mod_post\": false,\\n     \"score\": 18,\\n     \"approved_by\": null,\\n     \"is_created_from_ads_ui\": false,\\n     \"author_premium\": false,\\n     \"thumbnail\": \"self\",\\n     \"edited\": false,\\n     \"author_flair_css_class\": null,\\n     \"author_flair_richtext\": [\\n      {\\n       \"a\": \":Faceless_Men:\",\\n       \"e\": \"emoji\",\\n       \"u\": \"https://emoji.redditmedia.com/3ycyqgpaite21_t5_2rjz2/Faceless_Men\"\\n      },\\n      {\\n       \"e\": \"text\",\\n       \"t\": \" Valar Morghulis\"\\n      }\\n     ],\\n     \"gildings\": {},\\n     \"content_categories\": null,\\n     \"is_self\": true,\\n     \"mod_note\": null,\\n     \"created\": 1676577937.0,\\n     \"link_flair_type\": \"text\",\\n     \"wls\": 6,\\n     \"removed_by_category\": null,\\n     \"banned_by\": null,\\n     \"author_flair_type\": \"richtext\",\\n     \"domain\": \"self.gameofthrones\",\\n     \"allow_live_comments\": true,\\n     \"selftext_html\": \"&lt;!-- SC_OFF --&gt;&lt;div class=\\\\\"md\\\\\"&gt;&lt;p&gt;During the part where Jon Snow is hailed as the king in the north,lady mormont had the courage and balls as a little girl herself to criticise the other houses and stay loyal to the Starks.&lt;/p&gt;\\\\n&lt;/div&gt;&lt;!-- SC_ON --&gt;\",\\n     \"likes\": null,\\n     \"suggested_sort\": null,\\n     \"banned_at_utc\": null,\\n     \"view_count\": null,\\n     \"archived\": false,\\n     \"no_follow\": false,\\n     \"is_crosspostable\": false,\\n     \"pinned\": false,\\n     \"over_18\": false,\\n     \"all_awardings\": [],\\n     \"awarders\": [],\\n     \"media_only\": false,\\n     \"can_gild\": false,\\n     \"spoiler\": false,\\n     \"locked\": false,\\n     \"author_flair_text\": \":Faceless_Men: Valar Morghulis\",\\n     \"treatment_tags\": [],\\n     \"visited\": false,\\n     \"removed_by\": null,\\n     \"num_reports\": null,\\n     \"distinguished\": null,\\n     \"subreddit_id\": \"t5_2rjz2\",\\n     \"author_is_blocked\": false,\\n     \"mod_reason_by\": null,\\n     \"removal_reason\": null,\\n     \"link_flair_background_color\": \"\",\\n     \"id\": \"113zopv\",\\n     \"is_robot_indexable\": true,\\n     \"report_reasons\": null,\\n     \"author\": \"Leviathan9876\",\\n     \"discussion_type\": null,\\n     \"num_comments\": 4,\\n     \"send_replies\": true,\\n     \"whitelist_status\": \"all_ads\",\\n     \"contest_mode\": false,\\n     \"mod_reports\": [],\\n     \"author_patreon_flair\": false,\\n     \"author_flair_text_color\": \"dark\",\\n     \"permalink\": \"/r/gameofthrones/comments/113zopv/lady_mormont_had_the_biggest_balls_in_a_hall/\",\\n     \"parent_whitelist_status\": \"all_ads\",\\n     \"stickied\": false,\\n     \"url\": \"https://www.reddit.com/r/gameofthrones/comments/113zopv/lady_mormont_had_the_biggest_balls_in_a_hall/\",\\n     \"subreddit_subscribers\": 3205869,\\n     \"created_utc\": 1676577937.0,\\n     \"num_crossposts\": 0,\\n     \"media\": null,\\n     \"is_video\": false\\n    }\\n   },\\n   {\\n    \"kind\": \"t3\",\\n    \"data\": {\\n     \"approved_at_utc\": null,\\n     \"subreddit\": \"gameofthrones\",\\n     \"selftext\": \"I\\\\u2019m deeply frustrated watching the battle plans when Jon Snow is in leadership.  In both the Battle of the Bastards and the Battle of Winterfeld he commits his cavalry at the beginning only to see them chewed up.  \\\\n\\\\nHe straight up lost the BOTB. If it weren\\\\u2019t for the men of the Vale he would have been slaughtered. \\\\n\\\\nI find watching this very annoying because it\\\\u2019s like \\\\u201chasn\\\\u2019t anybody ever studied medieval or Viking battle tactics?   Why aren\\\\u2019t they using a shield wall.  Why are they putting Infantry outside of the walls?\\\\u201d\",\\n     \"author_fullname\": \"t2_n7gvb\",\\n     \"saved\": false,\\n     \"mod_reason_title\": null,\\n     \"gilded\": 0,\\n     \"clicked\": false,\\n     \"title\": \"Frustrating Battle Scenes\",\\n     \"link_flair_richtext\": [],\\n     \"subreddit_name_prefixed\": \"r/gameofthrones\",\\n     \"hidden\": false,\\n     \"pwls\": 6,\\n     \"link_flair_css_class\": null,\\n     \"downs\": 0,\\n     \"thumbnail_height\": null,\\n     \"top_awarded_type\": null,\\n     \"hide_score\": false,\\n     \"name\": \"t3_1144xhz\",\\n     \"quarantine\": false,\\n     \"link_flair_text_color\": \"dark\",\\n     \"upvote_ratio\": 0.81,\\n     \"author_flair_background_color\": null,\\n     \"subreddit_type\": \"public\",\\n     \"ups\": 10,\\n     \"total_awards_received\": 0,\\n     \"media_embed\": {},\\n     \"thumbnail_width\": null,\\n     \"author_flair_template_id\": null,\\n     \"is_original_content\": false,\\n     \"user_reports\": [],\\n     \"secure_media\": null,\\n     \"is_reddit_media_domain\": false,\\n     \"is_meta\": false,\\n     \"category\": null,\\n     \"secure_media_embed\": {},\\n     \"link_flair_text\": null,\\n     \"can_mod_post\": false,\\n     \"score\": 10,\\n     \"approved_by\": null,\\n     \"is_created_from_ads_ui\": false,\\n     \"author_premium\": false,\\n     \"thumbnail\": \"spoiler\",\\n     \"edited\": false,\\n     \"author_flair_css_class\": null,\\n     \"author_flair_richtext\": [],\\n     \"gildings\": {},\\n     \"content_categories\": null,\\n     \"is_self\": true,\\n     \"mod_note\": null,\\n     \"created\": 1676591263.0,\\n     \"link_flair_type\": \"text\",\\n     \"wls\": 6,\\n     \"removed_by_category\": null,\\n     \"banned_by\": null,\\n     \"author_flair_type\": \"text\",\\n     \"domain\": \"self.gameofthrones\",\\n     \"allow_live_comments\": false,\\n     \"selftext_html\": \"&lt;!-- SC_OFF --&gt;&lt;div class=\\\\\"md\\\\\"&gt;&lt;p&gt;I\\\\u2019m deeply frustrated watching the battle plans when Jon Snow is in leadership.  In both the Battle of the Bastards and the Battle of Winterfeld he commits his cavalry at the beginning only to see them chewed up.  &lt;/p&gt;\\\\n\\\\n&lt;p&gt;He straight up lost the BOTB. If it weren\\\\u2019t for the men of the Vale he would have been slaughtered. &lt;/p&gt;\\\\n\\\\n&lt;p&gt;I find watching this very annoying because it\\\\u2019s like \\\\u201chasn\\\\u2019t anybody ever studied medieval or Viking battle tactics?   Why aren\\\\u2019t they using a shield wall.  Why are they putting Infantry outside of the walls?\\\\u201d&lt;/p&gt;\\\\n&lt;/div&gt;&lt;!-- SC_ON --&gt;\",\\n     \"likes\": null,\\n     \"suggested_sort\": null,\\n     \"banned_at_utc\": null,\\n     \"view_count\": null,\\n     \"archived\": false,\\n     \"no_follow\": false,\\n     \"is_crosspostable\": false,\\n     \"pinned\": false,\\n     \"over_18\": false,\\n     \"all_awardings\": [],\\n     \"awarders\": [],\\n     \"media_only\": false,\\n     \"can_gild\": false,\\n     \"spoiler\": true,\\n     \"locked\": false,\\n     \"author_flair_text\": null,\\n     \"treatment_tags\": [],\\n     \"visited\": false,\\n     \"removed_by\": null,\\n     \"num_reports\": null,\\n     \"distinguished\": null,\\n     \"subreddit_id\": \"t5_2rjz2\",\\n     \"author_is_blocked\": false,\\n     \"mod_reason_by\": null,\\n     \"removal_reason\": null,\\n     \"link_flair_background_color\": \"\",\\n     \"id\": \"1144xhz\",\\n     \"is_robot_indexable\": true,\\n     \"report_reasons\": null,\\n     \"author\": \"spoilingattack\",\\n     \"discussion_type\": null,\\n     \"num_comments\": 21,\\n     \"send_replies\": true,\\n     \"whitelist_status\": \"all_ads\",\\n     \"contest_mode\": false,\\n     \"mod_reports\": [],\\n     \"author_patreon_flair\": false,\\n     \"author_flair_text_color\": null,\\n     \"permalink\": \"/r/gameofthrones/comments/1144xhz/frustrating_battle_scenes/\",\\n     \"parent_whitelist_status\": \"all_ads\",\\n     \"stickied\": false,\\n     \"url\": \"https://www.reddit.com/r/gameofthrones/comments/1144xhz/frustrating_battle_scenes/\",\\n     \"subreddit_subscribers\": 3205869,\\n     \"created_utc\": 1676591263.0,\\n     \"num_crossposts\": 0,\\n     \"media\": null,\\n     \"is_video\": false\\n    }\\n   },\\n   {\\n    \"kind\": \"t3\",\\n    \"data\": {\\n     \"approved_at_utc\": null,\\n     \"subreddit\": \"gameofthrones\",\\n     \"selftext\": \"When I watched season 4s ending back in the day I thought to myself: \\\\\"this would be a really good way to end the series.\\\\\"\\\\n But also it was while season 6 was airing, so I obviously sadly didn\\'t stop and continued with show, having to witness the tragic last 2 seasons...\\\\n\\\\nI\\'m curious, wether you guys agree with my opinion on this, or if I am alone.\",\\n     \"author_fullname\": \"t2_11xbbr\",\\n     \"saved\": false,\\n     \"mod_reason_title\": null,\\n     \"gilded\": 0,\\n     \"clicked\": false,\\n     \"title\": \"season 4 could have been the last and I would have been fine with it.\",\\n     \"link_flair_richtext\": [],\\n     \"subreddit_name_prefixed\": \"r/gameofthrones\",\\n     \"hidden\": false,\\n     \"pwls\": 6,\\n     \"link_flair_css_class\": null,\\n     \"downs\": 0,\\n     \"thumbnail_height\": null,\\n     \"top_awarded_type\": null,\\n     \"hide_score\": false,\\n     \"name\": \"t3_1149wij\",\\n     \"quarantine\": false,\\n     \"link_flair_text_color\": \"dark\",\\n     \"upvote_ratio\": 1.0,\\n     \"author_flair_background_color\": null,\\n     \"subreddit_type\": \"public\",\\n     \"ups\": 4,\\n     \"total_awards_received\": 0,\\n     \"media_embed\": {},\\n     \"thumbnail_width\": null,\\n     \"author_flair_template_id\": null,\\n     \"is_original_content\": false,\\n     \"user_reports\": [],\\n     \"secure_media\": null,\\n     \"is_reddit_media_domain\": false,\\n     \"is_meta\": false,\\n     \"category\": null,\\n     \"secure_media_embed\": {},\\n     \"link_flair_text\": null,\\n     \"can_mod_post\": false,\\n     \"score\": 4,\\n     \"approved_by\": null,\\n     \"is_created_from_ads_ui\": false,\\n     \"author_premium\": false,\\n     \"thumbnail\": \"self\",\\n     \"edited\": false,\\n     \"author_flair_css_class\": null,\\n     \"author_flair_richtext\": [],\\n     \"gildings\": {},\\n     \"content_categories\": null,\\n     \"is_self\": true,\\n     \"mod_note\": null,\\n     \"created\": 1676605886.0,\\n     \"link_flair_type\": \"text\",\\n     \"wls\": 6,\\n     \"removed_by_category\": null,\\n     \"banned_by\": null,\\n     \"author_flair_type\": \"text\",\\n     \"domain\": \"self.gameofthrones\",\\n     \"allow_live_comments\": false,\\n     \"selftext_html\": \"&lt;!-- SC_OFF --&gt;&lt;div class=\\\\\"md\\\\\"&gt;&lt;p&gt;When I watched season 4s ending back in the day I thought to myself: &amp;quot;this would be a really good way to end the series.&amp;quot;\\\\n But also it was while season 6 was airing, so I obviously sadly didn&amp;#39;t stop and continued with show, having to witness the tragic last 2 seasons...&lt;/p&gt;\\\\n\\\\n&lt;p&gt;I&amp;#39;m curious, wether you guys agree with my opinion on this, or if I am alone.&lt;/p&gt;\\\\n&lt;/div&gt;&lt;!-- SC_ON --&gt;\",\\n     \"likes\": null,\\n     \"suggested_sort\": null,\\n     \"banned_at_utc\": null,\\n     \"view_count\": null,\\n     \"archived\": false,\\n     \"no_follow\": false,\\n     \"is_crosspostable\": false,\\n     \"pinned\": false,\\n     \"over_18\": false,\\n     \"all_awardings\": [],\\n     \"awarders\": [],\\n     \"media_only\": false,\\n     \"can_gild\": false,\\n     \"spoiler\": false,\\n     \"locked\": false,\\n     \"author_flair_text\": null,\\n     \"treatment_tags\": [],\\n     \"visited\": false,\\n     \"removed_by\": null,\\n     \"num_reports\": null,\\n     \"distinguished\": null,\\n     \"subreddit_id\": \"t5_2rjz2\",\\n     \"author_is_blocked\": false,\\n     \"mod_reason_by\": null,\\n     \"removal_reason\": null,\\n     \"link_flair_background_color\": \"\",\\n     \"id\": \"1149wij\",\\n     \"is_robot_indexable\": true,\\n     \"report_reasons\": null,\\n     \"author\": \"Lovis_R\",\\n     \"discussion_type\": null,\\n     \"num_comments\": 1,\\n     \"send_replies\": true,\\n     \"whitelist_status\": \"all_ads\",\\n     \"contest_mode\": false,\\n     \"mod_reports\": [],\\n     \"author_patreon_flair\": false,\\n     \"author_flair_text_color\": null,\\n     \"permalink\": \"/r/gameofthrones/comments/1149wij/season_4_could_have_been_the_last_and_i_would/\",\\n     \"parent_whitelist_status\": \"all_ads\",\\n     \"stickied\": false,\\n     \"url\": \"https://www.reddit.com/r/gameofthrones/comments/1149wij/season_4_could_have_been_the_last_and_i_would/\",\\n     \"subreddit_subscribers\": 3205869,\\n     \"created_utc\": 1676605886.0,\\n     \"num_crossposts\": 0,\\n     \"media\": null,\\n     \"is_video\": false\\n    }\\n   },\\n   {\\n    \"kind\": \"t3\",\\n    \"data\": {\\n     \"approved_at_utc\": null,\\n     \"subreddit\": \"gameofthrones\",\\n     \"selftext\": \"Sure it could just be bad writing but a couple of things in Grey Worm\\'s ending in GoT don\\'t make sense.\\\\n\\\\nHe wanted Jon dead, yet seemed quite wiling to just let him live out a peaceful life at the wall.\\\\n\\\\nHe said they were going to Naath, and if he knows enough about Naath to know it exists, then he knows Naath is a place where he and the Unsullied would have a 0% chance of surviving.\\\\n\\\\nIt makes sense that he was simply lying about Naath to cover his true destination, a destination he decided on the moment that it was suggested Jon was going North. He was so quick to let Jon go to the wall, because he knew he could just head that way and kill him himself.\",\\n     \"author_fullname\": \"t2_mo580\",\\n     \"saved\": false,\\n     \"mod_reason_title\": null,\\n     \"gilded\": 0,\\n     \"clicked\": false,\\n     \"title\": \"Do You Think Grey Worm Could Be the Antagonist of the Jon Snow Series?\",\\n     \"link_flair_richtext\": [],\\n     \"subreddit_name_prefixed\": \"r/gameofthrones\",\\n     \"hidden\": false,\\n     \"pwls\": 6,\\n     \"link_flair_css_class\": null,\\n     \"downs\": 0,\\n     \"thumbnail_height\": null,\\n     \"top_awarded_type\": null,\\n     \"hide_score\": false,\\n     \"name\": \"t3_11475y8\",\\n     \"quarantine\": false,\\n     \"link_flair_text_color\": \"dark\",\\n     \"upvote_ratio\": 0.75,\\n     \"author_flair_background_color\": null,\\n     \"subreddit_type\": \"public\",\\n     \"ups\": 6,\\n     \"total_awards_received\": 0,\\n     \"media_embed\": {},\\n     \"thumbnail_width\": null,\\n     \"author_flair_template_id\": null,\\n     \"is_original_content\": false,\\n     \"user_reports\": [],\\n     \"secure_media\": null,\\n     \"is_reddit_media_domain\": false,\\n     \"is_meta\": false,\\n     \"category\": null,\\n     \"secure_media_embed\": {},\\n     \"link_flair_text\": null,\\n     \"can_mod_post\": false,\\n     \"score\": 6,\\n     \"approved_by\": null,\\n     \"is_created_from_ads_ui\": false,\\n     \"author_premium\": false,\\n     \"thumbnail\": \"self\",\\n     \"edited\": false,\\n     \"author_flair_css_class\": null,\\n     \"author_flair_richtext\": [],\\n     \"gildings\": {},\\n     \"content_categories\": null,\\n     \"is_self\": true,\\n     \"mod_note\": null,\\n     \"created\": 1676597570.0,\\n     \"link_flair_type\": \"text\",\\n     \"wls\": 6,\\n     \"removed_by_category\": null,\\n     \"banned_by\": null,\\n     \"author_flair_type\": \"text\",\\n     \"domain\": \"self.gameofthrones\",\\n     \"allow_live_comments\": false,\\n     \"selftext_html\": \"&lt;!-- SC_OFF --&gt;&lt;div class=\\\\\"md\\\\\"&gt;&lt;p&gt;Sure it could just be bad writing but a couple of things in Grey Worm&amp;#39;s ending in GoT don&amp;#39;t make sense.&lt;/p&gt;\\\\n\\\\n&lt;p&gt;He wanted Jon dead, yet seemed quite wiling to just let him live out a peaceful life at the wall.&lt;/p&gt;\\\\n\\\\n&lt;p&gt;He said they were going to Naath, and if he knows enough about Naath to know it exists, then he knows Naath is a place where he and the Unsullied would have a 0% chance of surviving.&lt;/p&gt;\\\\n\\\\n&lt;p&gt;It makes sense that he was simply lying about Naath to cover his true destination, a destination he decided on the moment that it was suggested Jon was going North. He was so quick to let Jon go to the wall, because he knew he could just head that way and kill him himself.&lt;/p&gt;\\\\n&lt;/div&gt;&lt;!-- SC_ON --&gt;\",\\n     \"likes\": null,\\n     \"suggested_sort\": null,\\n     \"banned_at_utc\": null,\\n     \"view_count\": null,\\n     \"archived\": false,\\n     \"no_follow\": false,\\n     \"is_crosspostable\": false,\\n     \"pinned\": false,\\n     \"over_18\": false,\\n     \"all_awardings\": [],\\n     \"awarders\": [],\\n     \"media_only\": false,\\n     \"can_gild\": false,\\n     \"spoiler\": false,\\n     \"locked\": false,\\n     \"author_flair_text\": null,\\n     \"treatment_tags\": [],\\n     \"visited\": false,\\n     \"removed_by\": null,\\n     \"num_reports\": null,\\n     \"distinguished\": null,\\n     \"subreddit_id\": \"t5_2rjz2\",\\n     \"author_is_blocked\": false,\\n     \"mod_reason_by\": null,\\n     \"removal_reason\": null,\\n     \"link_flair_background_color\": \"\",\\n     \"id\": \"11475y8\",\\n     \"is_robot_indexable\": true,\\n     \"report_reasons\": null,\\n     \"author\": \"Giant2005\",\\n     \"discussion_type\": null,\\n     \"num_comments\": 10,\\n     \"send_replies\": true,\\n     \"whitelist_status\": \"all_ads\",\\n     \"contest_mode\": false,\\n     \"mod_reports\": [],\\n     \"author_patreon_flair\": false,\\n     \"author_flair_text_color\": null,\\n     \"permalink\": \"/r/gameofthrones/comments/11475y8/do_you_think_grey_worm_could_be_the_antagonist_of/\",\\n     \"parent_whitelist_status\": \"all_ads\",\\n     \"stickied\": false,\\n     \"url\": \"https://www.reddit.com/r/gameofthrones/comments/11475y8/do_you_think_grey_worm_could_be_the_antagonist_of/\",\\n     \"subreddit_subscribers\": 3205869,\\n     \"created_utc\": 1676597570.0,\\n     \"num_crossposts\": 0,\\n     \"media\": null,\\n     \"is_video\": false\\n    }\\n   },\\n   {\\n    \"kind\": \"t3\",\\n    \"data\": {\\n     \"approved_at_utc\": null,\\n     \"subreddit\": \"gameofthrones\",\\n     \"selftext\": \"\",\\n     \"author_fullname\": \"t2_be6ionr0\",\\n     \"saved\": false,\\n     \"mod_reason_title\": null,\\n     \"gilded\": 0,\\n     \"clicked\": false,\\n     \"title\": \"in storm\\'s end when Borros Baratheon asked Lucerys if him or Jacaerys would marry one of his daughters, why didn\\'t they offer to marry one of them with Viserys or Aegon\",\\n     \"link_flair_richtext\": [],\\n     \"subreddit_name_prefixed\": \"r/gameofthrones\",\\n     \"hidden\": false,\\n     \"pwls\": 6,\\n     \"link_flair_css_class\": null,\\n     \"downs\": 0,\\n     \"thumbnail_height\": null,\\n     \"top_awarded_type\": null,\\n     \"hide_score\": false,\\n     \"name\": \"t3_114431n\",\\n     \"quarantine\": false,\\n     \"link_flair_text_color\": \"dark\",\\n     \"upvote_ratio\": 1.0,\\n     \"author_flair_background_color\": null,\\n     \"subreddit_type\": \"public\",\\n     \"ups\": 9,\\n     \"total_awards_received\": 0,\\n     \"media_embed\": {},\\n     \"thumbnail_width\": null,\\n     \"author_flair_template_id\": null,\\n     \"is_original_content\": false,\\n     \"user_reports\": [],\\n     \"secure_media\": null,\\n     \"is_reddit_media_domain\": false,\\n     \"is_meta\": false,\\n     \"category\": null,\\n     \"secure_media_embed\": {},\\n     \"link_flair_text\": null,\\n     \"can_mod_post\": false,\\n     \"score\": 9,\\n     \"approved_by\": null,\\n     \"is_created_from_ads_ui\": false,\\n     \"author_premium\": false,\\n     \"thumbnail\": \"self\",\\n     \"edited\": false,\\n     \"author_flair_css_class\": null,\\n     \"author_flair_richtext\": [],\\n     \"gildings\": {},\\n     \"content_categories\": null,\\n     \"is_self\": true,\\n     \"mod_note\": null,\\n     \"created\": 1676589034.0,\\n     \"link_flair_type\": \"text\",\\n     \"wls\": 6,\\n     \"removed_by_category\": null,\\n     \"banned_by\": null,\\n     \"author_flair_type\": \"text\",\\n     \"domain\": \"self.gameofthrones\",\\n     \"allow_live_comments\": false,\\n     \"selftext_html\": null,\\n     \"likes\": null,\\n     \"suggested_sort\": null,\\n     \"banned_at_utc\": null,\\n     \"view_count\": null,\\n     \"archived\": false,\\n     \"no_follow\": false,\\n     \"is_crosspostable\": false,\\n     \"pinned\": false,\\n     \"over_18\": false,\\n     \"all_awardings\": [],\\n     \"awarders\": [],\\n     \"media_only\": false,\\n     \"can_gild\": false,\\n     \"spoiler\": false,\\n     \"locked\": false,\\n     \"author_flair_text\": null,\\n     \"treatment_tags\": [],\\n     \"visited\": false,\\n     \"removed_by\": null,\\n     \"num_reports\": null,\\n     \"distinguished\": null,\\n     \"subreddit_id\": \"t5_2rjz2\",\\n     \"author_is_blocked\": false,\\n     \"mod_reason_by\": null,\\n     \"removal_reason\": null,\\n     \"link_flair_background_color\": \"\",\\n     \"id\": \"114431n\",\\n     \"is_robot_indexable\": true,\\n     \"report_reasons\": null,\\n     \"author\": \"SupMan06\",\\n     \"discussion_type\": null,\\n     \"num_comments\": 18,\\n     \"send_replies\": true,\\n     \"whitelist_status\": \"all_ads\",\\n     \"contest_mode\": false,\\n     \"mod_reports\": [],\\n     \"author_patreon_flair\": false,\\n     \"author_flair_text_color\": null,\\n     \"permalink\": \"/r/gameofthrones/comments/114431n/in_storms_end_when_borros_baratheon_asked_lucerys/\",\\n     \"parent_whitelist_status\": \"all_ads\",\\n     \"stickied\": false,\\n     \"url\": \"https://www.reddit.com/r/gameofthrones/comments/114431n/in_storms_end_when_borros_baratheon_asked_lucerys/\",\\n     \"subreddit_subscribers\": 3205869,\\n     \"created_utc\": 1676589034.0,\\n     \"num_crossposts\": 0,\\n     \"media\": null,\\n     \"is_video\": false\\n    }\\n   },\\n   {\\n    \"kind\": \"t3\",\\n    \"data\": {\\n     \"approved_at_utc\": null,\\n     \"subreddit\": \"gameofthrones\",\\n     \"selftext\": \"\",\\n     \"author_fullname\": \"t2_b2h8yci3\",\\n     \"saved\": false,\\n     \"mod_reason_title\": null,\\n     \"gilded\": 0,\\n     \"clicked\": false,\\n     \"title\": \"had to give this thing a name knowing full well it was gonna burn :(\",\\n     \"link_flair_richtext\": [],\\n     \"subreddit_name_prefixed\": \"r/gameofthrones\",\\n     \"hidden\": false,\\n     \"pwls\": 6,\\n     \"link_flair_css_class\": null,\\n     \"downs\": 0,\\n     \"thumbnail_height\": 140,\\n     \"top_awarded_type\": null,\\n     \"hide_score\": false,\\n     \"name\": \"t3_113yuew\",\\n     \"quarantine\": false,\\n     \"link_flair_text_color\": \"dark\",\\n     \"upvote_ratio\": 0.85,\\n     \"author_flair_background_color\": null,\\n     \"subreddit_type\": \"public\",\\n     \"ups\": 18,\\n     \"total_awards_received\": 0,\\n     \"media_embed\": {},\\n     \"thumbnail_width\": 140,\\n     \"author_flair_template_id\": null,\\n     \"is_original_content\": false,\\n     \"user_reports\": [],\\n     \"secure_media\": null,\\n     \"is_reddit_media_domain\": true,\\n     \"is_meta\": false,\\n     \"category\": null,\\n     \"secure_media_embed\": {},\\n     \"link_flair_text\": null,\\n     \"can_mod_post\": false,\\n     \"score\": 18,\\n     \"approved_by\": null,\\n     \"is_created_from_ads_ui\": false,\\n     \"author_premium\": false,\\n     \"thumbnail\": \"spoiler\",\\n     \"edited\": false,\\n     \"author_flair_css_class\": null,\\n     \"author_flair_richtext\": [],\\n     \"gildings\": {},\\n     \"post_hint\": \"image\",\\n     \"content_categories\": null,\\n     \"is_self\": false,\\n     \"mod_note\": null,\\n     \"created\": 1676575764.0,\\n     \"link_flair_type\": \"text\",\\n     \"wls\": 6,\\n     \"removed_by_category\": null,\\n     \"banned_by\": null,\\n     \"author_flair_type\": \"text\",\\n     \"domain\": \"i.redd.it\",\\n     \"allow_live_comments\": true,\\n     \"selftext_html\": null,\\n     \"likes\": null,\\n     \"suggested_sort\": null,\\n     \"banned_at_utc\": null,\\n     \"url_overridden_by_dest\": \"https://i.redd.it/852lt64j8nia1.jpg\",\\n     \"view_count\": null,\\n     \"archived\": false,\\n     \"no_follow\": false,\\n     \"is_crosspostable\": false,\\n     \"pinned\": false,\\n     \"over_18\": false,\\n     \"preview\": {\\n      \"images\": [\\n       {\\n        \"source\": {\\n         \"url\": \"https://preview.redd.it/852lt64j8nia1.jpg?auto=webp&amp;v=enabled&amp;s=ebce9e76df36e6cbac3c2b97145c86be01e867eb\",\\n         \"width\": 1876,\\n         \"height\": 2863\\n        },\\n        \"resolutions\": [\\n         {\\n          \"url\": \"https://preview.redd.it/852lt64j8nia1.jpg?width=108&amp;crop=smart&amp;auto=webp&amp;v=enabled&amp;s=e7169e69acf77065e7e754101f0382e1df4f0bb2\",\\n          \"width\": 108,\\n          \"height\": 164\\n         },\\n         {\\n          \"url\": \"https://preview.redd.it/852lt64j8nia1.jpg?width=216&amp;crop=smart&amp;auto=webp&amp;v=enabled&amp;s=6d931d4bdeebf75025051788b76a7a7efbb716da\",\\n          \"width\": 216,\\n          \"height\": 329\\n         },\\n         {\\n          \"url\": \"https://preview.redd.it/852lt64j8nia1.jpg?width=320&amp;crop=smart&amp;auto=webp&amp;v=enabled&amp;s=0b1a01c3c1e991b7a46f0cd1acf5d79ec52ada95\",\\n          \"width\": 320,\\n          \"height\": 488\\n         },\\n         {\\n          \"url\": \"https://preview.redd.it/852lt64j8nia1.jpg?width=640&amp;crop=smart&amp;auto=webp&amp;v=enabled&amp;s=22f3852cd9150475bf8751800e3ac1c47184c6cd\",\\n          \"width\": 640,\\n          \"height\": 976\\n         },\\n         {\\n          \"url\": \"https://preview.redd.it/852lt64j8nia1.jpg?width=960&amp;crop=smart&amp;auto=webp&amp;v=enabled&amp;s=66fb11e8a889c63a941ca8644d4ad2a818b09c97\",\\n          \"width\": 960,\\n          \"height\": 1465\\n         },\\n         {\\n          \"url\": \"https://preview.redd.it/852lt64j8nia1.jpg?width=1080&amp;crop=smart&amp;auto=webp&amp;v=enabled&amp;s=b138ae41bcba2934ea445f68b86d06f5fb60120e\",\\n          \"width\": 1080,\\n          \"height\": 1648\\n         }\\n        ],\\n        \"variants\": {\\n         \"obfuscated\": {\\n          \"source\": {\\n           \"url\": \"https://preview.redd.it/852lt64j8nia1.jpg?blur=40&amp;format=pjpg&amp;auto=webp&amp;v=enabled&amp;s=5fbef8536db47d2e697d99d6d4d88f539b216484\",\\n           \"width\": 1876,\\n           \"height\": 2863\\n          },\\n          \"resolutions\": [\\n           {\\n            \"url\": \"https://preview.redd.it/852lt64j8nia1.jpg?width=108&amp;crop=smart&amp;blur=10&amp;format=pjpg&amp;auto=webp&amp;v=enabled&amp;s=113636abc4dd82ddea11b7d98e0ff0ea78c8e24c\",\\n            \"width\": 108,\\n            \"height\": 164\\n           },\\n           {\\n            \"url\": \"https://preview.redd.it/852lt64j8nia1.jpg?width=216&amp;crop=smart&amp;blur=21&amp;format=pjpg&amp;auto=webp&amp;v=enabled&amp;s=48b393705ec6a25ddbd2ca82dc27372a1478e207\",\\n            \"width\": 216,\\n            \"height\": 329\\n           },\\n           {\\n            \"url\": \"https://preview.redd.it/852lt64j8nia1.jpg?width=320&amp;crop=smart&amp;blur=32&amp;format=pjpg&amp;auto=webp&amp;v=enabled&amp;s=635b0a2397eb297b0f31be6ab4c7de5cdfba873d\",\\n            \"width\": 320,\\n            \"height\": 488\\n           },\\n           {\\n            \"url\": \"https://preview.redd.it/852lt64j8nia1.jpg?width=640&amp;crop=smart&amp;blur=40&amp;format=pjpg&amp;auto=webp&amp;v=enabled&amp;s=2cdcb61cf2b43d4f117e124dca6c3721302e5bee\",\\n            \"width\": 640,\\n            \"height\": 976\\n           },\\n           {\\n            \"url\": \"https://preview.redd.it/852lt64j8nia1.jpg?width=960&amp;crop=smart&amp;blur=40&amp;format=pjpg&amp;auto=webp&amp;v=enabled&amp;s=41cdf2ab2663632759b9477edf1e8d95b1ae0049\",\\n            \"width\": 960,\\n            \"height\": 1465\\n           },\\n           {\\n            \"url\": \"https://preview.redd.it/852lt64j8nia1.jpg?width=1080&amp;crop=smart&amp;blur=40&amp;format=pjpg&amp;auto=webp&amp;v=enabled&amp;s=024fa07ff922bee0d53f008c463f02df4d6fcc0e\",\\n            \"width\": 1080,\\n            \"height\": 1648\\n           }\\n          ]\\n         }\\n        },\\n        \"id\": \"6A4sFO-Nceyi_OGU3WRZeF7TX85IR0OXXETf-1Vwag0\"\\n       }\\n      ],\\n      \"enabled\": true\\n     },\\n     \"all_awardings\": [],\\n     \"awarders\": [],\\n     \"media_only\": false,\\n     \"can_gild\": false,\\n     \"spoiler\": true,\\n     \"locked\": false,\\n     \"author_flair_text\": null,\\n     \"treatment_tags\": [],\\n     \"visited\": false,\\n     \"removed_by\": null,\\n     \"num_reports\": null,\\n     \"distinguished\": null,\\n     \"subreddit_id\": \"t5_2rjz2\",\\n     \"author_is_blocked\": false,\\n     \"mod_reason_by\": null,\\n     \"removal_reason\": null,\\n     \"link_flair_background_color\": \"\",\\n     \"id\": \"113yuew\",\\n     \"is_robot_indexable\": true,\\n     \"report_reasons\": null,\\n     \"author\": \"henrytbpovid\",\\n     \"discussion_type\": null,\\n     \"num_comments\": 6,\\n     \"send_replies\": true,\\n     \"whitelist_status\": \"all_ads\",\\n     \"contest_mode\": false,\\n     \"mod_reports\": [],\\n     \"author_patreon_flair\": false,\\n     \"author_flair_text_color\": null,\\n     \"permalink\": \"/r/gameofthrones/comments/113yuew/had_to_give_this_thing_a_name_knowing_full_well/\",\\n     \"parent_whitelist_status\": \"all_ads\",\\n     \"stickied\": false,\\n     \"url\": \"https://i.redd.it/852lt64j8nia1.jpg\",\\n     \"subreddit_subscribers\": 3205869,\\n     \"created_utc\": 1676575764.0,\\n     \"num_crossposts\": 0,\\n     \"media\": null,\\n     \"is_video\": false\\n    }\\n   },\\n   {\\n    \"kind\": \"t3\",\\n    \"data\": {\\n     \"approved_at_utc\": null,\\n     \"subreddit\": \"gameofthrones\",\\n     \"selftext\": \"He cared so deeply about his legacy and the family name. Jamie was 40 years old and joined the kings guard at 15. He had Tyrion, but he despised him and didn\\\\u2019t even want him to rule in Castly Rock. Why didn\\\\u2019t he remarry after he knew that Jamie wasn\\\\u2019t going to be able to marry and have kids? Was there some rule in Westeros that you can\\\\u2019t remarry, I thought you could if the other spouse passed away?\",\\n     \"author_fullname\": \"t2_od8147df\",\\n     \"saved\": false,\\n     \"mod_reason_title\": null,\\n     \"gilded\": 0,\\n     \"clicked\": false,\\n     \"title\": \"Rewatching game of thrones, why didn\\\\u2019t Tywin remarry?\",\\n     \"link_flair_richtext\": [],\\n     \"subreddit_name_prefixed\": \"r/gameofthrones\",\\n     \"hidden\": false,\\n     \"pwls\": 6,\\n     \"link_flair_css_class\": null,\\n     \"downs\": 0,\\n     \"thumbnail_height\": null,\\n     \"top_awarded_type\": null,\\n     \"hide_score\": false,\\n     \"name\": \"t3_113orjo\",\\n     \"quarantine\": false,\\n     \"link_flair_text_color\": \"dark\",\\n     \"upvote_ratio\": 0.94,\\n     \"author_flair_background_color\": null,\\n     \"subreddit_type\": \"public\",\\n     \"ups\": 66,\\n     \"total_awards_received\": 0,\\n     \"media_embed\": {},\\n     \"thumbnail_width\": null,\\n     \"author_flair_template_id\": null,\\n     \"is_original_content\": false,\\n     \"user_reports\": [],\\n     \"secure_media\": null,\\n     \"is_reddit_media_domain\": false,\\n     \"is_meta\": false,\\n     \"category\": null,\\n     \"secure_media_embed\": {},\\n     \"link_flair_text\": null,\\n     \"can_mod_post\": false,\\n     \"score\": 66,\\n     \"approved_by\": null,\\n     \"is_created_from_ads_ui\": false,\\n     \"author_premium\": false,\\n     \"thumbnail\": \"self\",\\n     \"edited\": false,\\n     \"author_flair_css_class\": null,\\n     \"author_flair_richtext\": [],\\n     \"gildings\": {},\\n     \"content_categories\": null,\\n     \"is_self\": true,\\n     \"mod_note\": null,\\n     \"created\": 1676548122.0,\\n     \"link_flair_type\": \"text\",\\n     \"wls\": 6,\\n     \"removed_by_category\": null,\\n     \"banned_by\": null,\\n     \"author_flair_type\": \"text\",\\n     \"domain\": \"self.gameofthrones\",\\n     \"allow_live_comments\": false,\\n     \"selftext_html\": \"&lt;!-- SC_OFF --&gt;&lt;div class=\\\\\"md\\\\\"&gt;&lt;p&gt;He cared so deeply about his legacy and the family name. Jamie was 40 years old and joined the kings guard at 15. He had Tyrion, but he despised him and didn\\\\u2019t even want him to rule in Castly Rock. Why didn\\\\u2019t he remarry after he knew that Jamie wasn\\\\u2019t going to be able to marry and have kids? Was there some rule in Westeros that you can\\\\u2019t remarry, I thought you could if the other spouse passed away?&lt;/p&gt;\\\\n&lt;/div&gt;&lt;!-- SC_ON --&gt;\",\\n     \"likes\": null,\\n     \"suggested_sort\": null,\\n     \"banned_at_utc\": null,\\n     \"view_count\": null,\\n     \"archived\": false,\\n     \"no_follow\": false,\\n     \"is_crosspostable\": false,\\n     \"pinned\": false,\\n     \"over_18\": false,\\n     \"all_awardings\": [],\\n     \"awarders\": [],\\n     \"media_only\": false,\\n     \"can_gild\": false,\\n     \"spoiler\": false,\\n     \"locked\": false,\\n     \"author_flair_text\": null,\\n     \"treatment_tags\": [],\\n     \"visited\": false,\\n     \"removed_by\": null,\\n     \"num_reports\": null,\\n     \"distinguished\": null,\\n     \"subreddit_id\": \"t5_2rjz2\",\\n     \"author_is_blocked\": false,\\n     \"mod_reason_by\": null,\\n     \"removal_reason\": null,\\n     \"link_flair_background_color\": \"\",\\n     \"id\": \"113orjo\",\\n     \"is_robot_indexable\": true,\\n     \"report_reasons\": null,\\n     \"author\": \"zenkath\",\\n     \"discussion_type\": null,\\n     \"num_comments\": 41,\\n     \"send_replies\": true,\\n     \"whitelist_status\": \"all_ads\",\\n     \"contest_mode\": false,\\n     \"mod_reports\": [],\\n     \"author_patreon_flair\": false,\\n     \"author_flair_text_color\": null,\\n     \"permalink\": \"/r/gameofthrones/comments/113orjo/rewatching_game_of_thrones_why_didnt_tywin_remarry/\",\\n     \"parent_whitelist_status\": \"all_ads\",\\n     \"stickied\": false,\\n     \"url\": \"https://www.reddit.com/r/gameofthrones/comments/113orjo/rewatching_game_of_thrones_why_didnt_tywin_remarry/\",\\n     \"subreddit_subscribers\": 3205869,\\n     \"created_utc\": 1676548122.0,\\n     \"num_crossposts\": 1,\\n     \"media\": null,\\n     \"is_video\": false\\n    }\\n   },\\n   {\\n    \"kind\": \"t3\",\\n    \"data\": {\\n     \"approved_at_utc\": null,\\n     \"subreddit\": \"gameofthrones\",\\n     \"selftext\": \"\",\\n     \"author_fullname\": \"t2_56gav\",\\n     \"saved\": false,\\n     \"mod_reason_title\": null,\\n     \"gilded\": 0,\\n     \"clicked\": false,\\n     \"title\": \"I found a brightened long night\",\\n     \"link_flair_richtext\": [],\\n     \"subreddit_name_prefixed\": \"r/gameofthrones\",\\n     \"hidden\": false,\\n     \"pwls\": 6,\\n     \"link_flair_css_class\": null,\\n     \"downs\": 0,\\n     \"thumbnail_height\": 105,\\n     \"top_awarded_type\": null,\\n     \"hide_score\": false,\\n     \"name\": \"t3_114a6bu\",\\n     \"quarantine\": false,\\n     \"link_flair_text_color\": \"dark\",\\n     \"upvote_ratio\": 1.0,\\n     \"author_flair_background_color\": null,\\n     \"subreddit_type\": \"public\",\\n     \"ups\": 3,\\n     \"total_awards_received\": 0,\\n     \"media_embed\": {\\n      \"content\": \"&lt;iframe width=\\\\\"356\\\\\" height=\\\\\"200\\\\\" src=\\\\\"https://www.youtube.com/embed/w0QhGBOZOF4?feature=oembed&amp;enablejsapi=1\\\\\" frameborder=\\\\\"0\\\\\" allow=\\\\\"accelerometer; autoplay; clipboard-write; encrypted-media; gyroscope; picture-in-picture; web-share\\\\\" allowfullscreen title=\\\\\"Arya kills the Night King - Super High Quality HD (Brightened) | Game of Thrones\\\\\"&gt;&lt;/iframe&gt;\",\\n      \"width\": 356,\\n      \"scrolling\": false,\\n      \"height\": 200\\n     },\\n     \"thumbnail_width\": 140,\\n     \"author_flair_template_id\": null,\\n     \"is_original_content\": false,\\n     \"user_reports\": [],\\n     \"secure_media\": {\\n      \"type\": \"youtube.com\",\\n      \"oembed\": {\\n       \"provider_url\": \"https://www.youtube.com/\",\\n       \"version\": \"1.0\",\\n       \"title\": \"Arya kills the Night King - Super High Quality HD (Brightened) | Game of Thrones\",\\n       \"type\": \"video\",\\n       \"thumbnail_width\": 480,\\n       \"height\": 200,\\n       \"width\": 356,\\n       \"html\": \"&lt;iframe width=\\\\\"356\\\\\" height=\\\\\"200\\\\\" src=\\\\\"https://www.youtube.com/embed/w0QhGBOZOF4?feature=oembed&amp;enablejsapi=1\\\\\" frameborder=\\\\\"0\\\\\" allow=\\\\\"accelerometer; autoplay; clipboard-write; encrypted-media; gyroscope; picture-in-picture; web-share\\\\\" allowfullscreen title=\\\\\"Arya kills the Night King - Super High Quality HD (Brightened) | Game of Thrones\\\\\"&gt;&lt;/iframe&gt;\",\\n       \"author_name\": \"Temple Pictures\",\\n       \"provider_name\": \"YouTube\",\\n       \"thumbnail_url\": \"https://i.ytimg.com/vi/w0QhGBOZOF4/hqdefault.jpg\",\\n       \"thumbnail_height\": 360,\\n       \"author_url\": \"https://www.youtube.com/@TemplePictures\"\\n      }\\n     },\\n     \"is_reddit_media_domain\": false,\\n     \"is_meta\": false,\\n     \"category\": null,\\n     \"secure_media_embed\": {\\n      \"content\": \"&lt;iframe width=\\\\\"356\\\\\" height=\\\\\"200\\\\\" src=\\\\\"https://www.youtube.com/embed/w0QhGBOZOF4?feature=oembed&amp;enablejsapi=1\\\\\" frameborder=\\\\\"0\\\\\" allow=\\\\\"accelerometer; autoplay; clipboard-write; encrypted-media; gyroscope; picture-in-picture; web-share\\\\\" allowfullscreen title=\\\\\"Arya kills the Night King - Super High Quality HD (Brightened) | Game of Thrones\\\\\"&gt;&lt;/iframe&gt;\",\\n      \"width\": 356,\\n      \"scrolling\": false,\\n      \"media_domain_url\": \"https://www.redditmedia.com/mediaembed/114a6bu\",\\n      \"height\": 200\\n     },\\n     \"link_flair_text\": null,\\n     \"can_mod_post\": false,\\n     \"score\": 3,\\n     \"approved_by\": null,\\n     \"is_created_from_ads_ui\": false,\\n     \"author_premium\": false,\\n     \"thumbnail\": \"https://b.thumbs.redditmedia.com/7t042Z_GcByFbNK13YtWsMuSxpeDRKBruA0H_HFPnCk.jpg\",\\n     \"edited\": false,\\n     \"author_flair_css_class\": null,\\n     \"author_flair_richtext\": [],\\n     \"gildings\": {},\\n     \"post_hint\": \"rich:video\",\\n     \"content_categories\": null,\\n     \"is_self\": false,\\n     \"mod_note\": null,\\n     \"created\": 1676606772.0,\\n     \"link_flair_type\": \"text\",\\n     \"wls\": 6,\\n     \"removed_by_category\": null,\\n     \"banned_by\": null,\\n     \"author_flair_type\": \"text\",\\n     \"domain\": \"youtu.be\",\\n     \"allow_live_comments\": false,\\n     \"selftext_html\": null,\\n     \"likes\": null,\\n     \"suggested_sort\": null,\\n     \"banned_at_utc\": null,\\n     \"url_overridden_by_dest\": \"https://youtu.be/w0QhGBOZOF4\",\\n     \"view_count\": null,\\n     \"archived\": false,\\n     \"no_follow\": true,\\n     \"is_crosspostable\": false,\\n     \"pinned\": false,\\n     \"over_18\": false,\\n     \"preview\": {\\n      \"images\": [\\n       {\\n        \"source\": {\\n         \"url\": \"https://external-preview.redd.it/aMKbIvNeV94SUPR1WzjjJTP-73JyxJAeuV1nu7pl0Ao.jpg?auto=webp&amp;v=enabled&amp;s=0c9720acbb73e64df5ae8a9b7f832f792f1c8cde\",\\n         \"width\": 480,\\n         \"height\": 360\\n        },\\n        \"resolutions\": [\\n         {\\n          \"url\": \"https://external-preview.redd.it/aMKbIvNeV94SUPR1WzjjJTP-73JyxJAeuV1nu7pl0Ao.jpg?width=108&amp;crop=smart&amp;auto=webp&amp;v=enabled&amp;s=074484810659c1fe09b6f025905885ce008d6e2c\",\\n          \"width\": 108,\\n          \"height\": 81\\n         },\\n         {\\n          \"url\": \"https://external-preview.redd.it/aMKbIvNeV94SUPR1WzjjJTP-73JyxJAeuV1nu7pl0Ao.jpg?width=216&amp;crop=smart&amp;auto=webp&amp;v=enabled&amp;s=1a78587ccd60656b703da6c3a618d7513bcf3479\",\\n          \"width\": 216,\\n          \"height\": 162\\n         },\\n         {\\n          \"url\": \"https://external-preview.redd.it/aMKbIvNeV94SUPR1WzjjJTP-73JyxJAeuV1nu7pl0Ao.jpg?width=320&amp;crop=smart&amp;auto=webp&amp;v=enabled&amp;s=c43b4cc8cd772ae0a7167d159ae7ef7594c3ba29\",\\n          \"width\": 320,\\n          \"height\": 240\\n         }\\n        ],\\n        \"variants\": {},\\n        \"id\": \"XunXuR7gAR2h1qEqLs_yUe10RwQbJRtfgDOFwEAdwZ4\"\\n       }\\n      ],\\n      \"enabled\": false\\n     },\\n     \"all_awardings\": [],\\n     \"awarders\": [],\\n     \"media_only\": false,\\n     \"can_gild\": false,\\n     \"spoiler\": false,\\n     \"locked\": false,\\n     \"author_flair_text\": null,\\n     \"treatment_tags\": [],\\n     \"visited\": false,\\n     \"removed_by\": null,\\n     \"num_reports\": null,\\n     \"distinguished\": null,\\n     \"subreddit_id\": \"t5_2rjz2\",\\n     \"author_is_blocked\": false,\\n     \"mod_reason_by\": null,\\n     \"removal_reason\": null,\\n     \"link_flair_background_color\": \"\",\\n     \"id\": \"114a6bu\",\\n     \"is_robot_indexable\": true,\\n     \"report_reasons\": null,\\n     \"author\": \"iTROLLformyCITY\",\\n     \"discussion_type\": null,\\n     \"num_comments\": 1,\\n     \"send_replies\": false,\\n     \"whitelist_status\": \"all_ads\",\\n     \"contest_mode\": false,\\n     \"mod_reports\": [],\\n     \"author_patreon_flair\": false,\\n     \"author_flair_text_color\": null,\\n     \"permalink\": \"/r/gameofthrones/comments/114a6bu/i_found_a_brightened_long_night/\",\\n     \"parent_whitelist_status\": \"all_ads\",\\n     \"stickied\": false,\\n     \"url\": \"https://youtu.be/w0QhGBOZOF4\",\\n     \"subreddit_subscribers\": 3205869,\\n     \"created_utc\": 1676606772.0,\\n     \"num_crossposts\": 0,\\n     \"media\": {\\n      \"type\": \"youtube.com\",\\n      \"oembed\": {\\n       \"provider_url\": \"https://www.youtube.com/\",\\n       \"version\": \"1.0\",\\n       \"title\": \"Arya kills the Night King - Super High Quality HD (Brightened) | Game of Thrones\",\\n       \"type\": \"video\",\\n       \"thumbnail_width\": 480,\\n       \"height\": 200,\\n       \"width\": 356,\\n       \"html\": \"&lt;iframe width=\\\\\"356\\\\\" height=\\\\\"200\\\\\" src=\\\\\"https://www.youtube.com/embed/w0QhGBOZOF4?feature=oembed&amp;enablejsapi=1\\\\\" frameborder=\\\\\"0\\\\\" allow=\\\\\"accelerometer; autoplay; clipboard-write; encrypted-media; gyroscope; picture-in-picture; web-share\\\\\" allowfullscreen title=\\\\\"Arya kills the Night King - Super High Quality HD (Brightened) | Game of Thrones\\\\\"&gt;&lt;/iframe&gt;\",\\n       \"author_name\": \"Temple Pictures\",\\n       \"provider_name\": \"YouTube\",\\n       \"thumbnail_url\": \"https://i.ytimg.com/vi/w0QhGBOZOF4/hqdefault.jpg\",\\n       \"thumbnail_height\": 360,\\n       \"author_url\": \"https://www.youtube.com/@TemplePictures\"\\n      }\\n     },\\n     \"is_video\": false\\n    }\\n   }\\n  ],\\n  \"before\": null\\n }\\n}'"
      ]
     },
     "execution_count": 3,
     "metadata": {},
     "output_type": "execute_result"
    }
   ],
   "source": [
    "import json\n",
    "json.dumps(data, indent = 1)"
   ]
  },
  {
   "cell_type": "code",
   "execution_count": 4,
   "metadata": {
    "ExecuteTime": {
     "end_time": "2018-01-16T09:48:24.719596Z",
     "start_time": "2018-01-16T09:48:24.716363Z"
    },
    "run_control": {
     "frozen": false,
     "read_only": false
    }
   },
   "outputs": [
    {
     "data": {
      "text/plain": [
       "dict_keys(['kind', 'data'])"
      ]
     },
     "execution_count": 4,
     "metadata": {},
     "output_type": "execute_result"
    }
   ],
   "source": [
    "data.keys()"
   ]
  },
  {
   "cell_type": "markdown",
   "metadata": {},
   "source": [
    ">**Ex. 1.2.4**: The URL reveals that the data is from reddit/r/gameofthrones, but can you recover that information from the data? Give your answer by 'keying' into the dictionary using square brackets.\n",
    ">\n",
    ">*Hint: 'Keying' is a word i just made up. By it, I mean the following. Consider a nested dictionary like:*\n",
    ">\n",
    ">        my_json_obj = {\n",
    ">            'cats': {\n",
    ">                'awesome': ['Missy'],\n",
    ">                'useless': ['Kim', 'Frank', 'Sandy']\n",
    ">            },\n",
    ">            'dogs': {\n",
    ">                'awesome': ['Finn', 'Dolores', 'Fido', 'Casper'],\n",
    ">                'useless': []\n",
    ">            }\n",
    ">        }\n",
    ">\n",
    ">*I can get the list of useless cats by keying into `my_json_obj` like such:*\n",
    ">\n",
    ">        >>> my_json_obj['cats']['useless']\n",
    ">        Out [ ]: ['Kim', 'Frank', 'Sandy']\n",
    ">\n",
    ">*`my_json_obj['cats']` returns the dictionary `{'awesome': ['Missy'], 'useless': ['Kim', 'Frank', 'Sandy']}` and getting '`useless`' from that eventually gives us `['Kim', 'Frank', 'Sandy']`. If any of those list items were a list of a dictionary themselves, we could have kept keying deeper into the structure.*"
   ]
  },
  {
   "cell_type": "code",
   "execution_count": 5,
   "metadata": {
    "ExecuteTime": {
     "end_time": "2018-01-16T09:48:35.318185Z",
     "start_time": "2018-01-16T09:48:35.315067Z"
    },
    "run_control": {
     "frozen": false,
     "read_only": false
    }
   },
   "outputs": [
    {
     "data": {
      "text/plain": [
       "'gameofthrones'"
      ]
     },
     "execution_count": 5,
     "metadata": {},
     "output_type": "execute_result"
    }
   ],
   "source": [
    "data['data']['children'][0][\"data\"]['subreddit']"
   ]
  },
  {
   "cell_type": "markdown",
   "metadata": {},
   "source": [
    ">**Ex 1.2.5**: Write two `for` loops (or list comprehensions) which:\n",
    ">1. Count the number of spoilers.\n",
    ">2. Only prints headlines that aren't spoilers."
   ]
  },
  {
   "cell_type": "code",
   "execution_count": 6,
   "metadata": {
    "ExecuteTime": {
     "end_time": "2017-08-26T07:47:28.901787Z",
     "start_time": "2017-08-26T07:47:28.899454Z"
    },
    "run_control": {
     "frozen": false,
     "read_only": false
    }
   },
   "outputs": [
    {
     "name": "stdout",
     "output_type": "stream",
     "text": [
      "Number of spoilers: 4\n"
     ]
    }
   ],
   "source": [
    "spoiler_count = 0\n",
    "for post in data['data']['children']:\n",
    "    if post['data']['spoiler']:\n",
    "        spoiler_count+=1\n",
    "print(\"Number of spoilers:\", spoiler_count)"
   ]
  },
  {
   "cell_type": "code",
   "execution_count": 7,
   "metadata": {
    "ExecuteTime": {
     "end_time": "2018-01-16T09:49:13.258888Z",
     "start_time": "2018-01-16T09:49:13.255989Z"
    },
    "run_control": {
     "frozen": false,
     "read_only": false
    }
   },
   "outputs": [
    {
     "name": "stdout",
     "output_type": "stream",
     "text": [
      "Team \"I don't want it\"\n",
      "Ai writes new game of thrones ending since the one we got sucked\n",
      "Did a quick sketch of how Tyrion is supposed to look like in the books\n",
      "[NO SPOILERS] Currently rewatching, so I had to paint my favourite character.\n",
      "I found the best wallpaper\n",
      "What is your favorite Castle in GOT?\n",
      "[No Spoilers] An Anime of Ice and Fire - Jaime &amp;amp; Cersei Lannister\n",
      "Robb and Daemon\n",
      "An interesting similarity found\n",
      "What was Little Finger’s ultimate goal?\n",
      "Watching Season 7 Ep 7 - Bronn gets all the best lines\n",
      "16 year olds in Westeros\n",
      "What is your favorite throne from the show?\n",
      "Favorite House Words and Sigil?\n",
      "Who do you think was a better king - Robert Baratheon or Viserys Targaryen?\n",
      "Lady Mormont had the biggest balls in a hall filled with leaders of minor houses and Jon Snow\n",
      "season 4 could have been the last and I would have been fine with it.\n",
      "Do You Think Grey Worm Could Be the Antagonist of the Jon Snow Series?\n",
      "in storm's end when Borros Baratheon asked Lucerys if him or Jacaerys would marry one of his daughters, why didn't they offer to marry one of them with Viserys or Aegon\n",
      "Rewatching game of thrones, why didn’t Tywin remarry?\n",
      "I found a brightened long night\n"
     ]
    }
   ],
   "source": [
    "for post in data['data']['children']:\n",
    "    if not post['data']['spoiler']:\n",
    "        print(post['data']['title'])"
   ]
  },
  {
   "cell_type": "code",
   "execution_count": null,
   "metadata": {},
   "outputs": [],
   "source": []
  }
 ],
 "metadata": {
  "kernelspec": {
   "display_name": "Python 3 (ipykernel)",
   "language": "python",
   "name": "python3"
  },
  "language_info": {
   "codemirror_mode": {
    "name": "ipython",
    "version": 3
   },
   "file_extension": ".py",
   "mimetype": "text/x-python",
   "name": "python",
   "nbconvert_exporter": "python",
   "pygments_lexer": "ipython3",
   "version": "3.9.7"
  },
  "nav_menu": {},
  "toc": {
   "base_numbering": 1,
   "nav_menu": {},
   "number_sections": false,
   "sideBar": true,
   "skip_h1_title": false,
   "title_cell": "Table of Contents",
   "title_sidebar": "Contents",
   "toc_cell": false,
   "toc_position": {},
   "toc_section_display": "block",
   "toc_window_display": true
  },
  "varInspector": {
   "cols": {
    "lenName": 16,
    "lenType": 16,
    "lenVar": 40
   },
   "kernels_config": {
    "python": {
     "delete_cmd_postfix": "",
     "delete_cmd_prefix": "del ",
     "library": "var_list.py",
     "varRefreshCmd": "print(var_dic_list())"
    },
    "r": {
     "delete_cmd_postfix": ") ",
     "delete_cmd_prefix": "rm(",
     "library": "var_list.r",
     "varRefreshCmd": "cat(var_dic_list()) "
    }
   },
   "types_to_exclude": [
    "module",
    "function",
    "builtin_function_or_method",
    "instance",
    "_Feature"
   ],
   "window_display": false
  }
 },
 "nbformat": 4,
 "nbformat_minor": 2
}
